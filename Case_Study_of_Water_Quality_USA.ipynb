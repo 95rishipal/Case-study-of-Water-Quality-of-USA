{
  "nbformat": 4,
  "nbformat_minor": 0,
  "metadata": {
    "colab": {
      "name": "Case Study of Water Quality USA.ipynb",
      "provenance": [],
      "collapsed_sections": [
        "8oNcdu73jUNr",
        "QeYQ0U8vkqRT",
        "wXTPYt0nkJch",
        "3HFQB2ZRhA28",
        "_inoxDoCHYOD",
        "ynLjkZYfl5pp",
        "BA4SkC8FGKHj",
        "KbOCsqjAjI_j",
        "LQm1syLG_WlP",
        "pPbdTIrR_e-U",
        "qZdgdRDOwC1v",
        "GWNnnSgQAdLa",
        "hHflun2eK4tE",
        "d60TpkWNt0xz",
        "erMwf7SrmO75",
        "3Fj_Yzo0mY2x"
      ],
      "toc_visible": true
    },
    "kernelspec": {
      "display_name": "Python 3",
      "name": "python3"
    },
    "language_info": {
      "name": "python"
    },
    "accelerator": "TPU"
  },
  "cells": [
    {
      "cell_type": "markdown",
      "metadata": {
        "id": "hueAFyNSjn1y"
      },
      "source": [
        "# Introduction\n",
        "**Abstract** : In this era of modernization, it becomes difficult to protect the environment from pollution. We need to take an approach that first finds the causing element and then treats it properly. Water is one of the essential elements of day-to-day life. In this Analytical research, we will try to find the top two elements, which are affecting the environment badly, and then we forecast the approximate prediction of those chemicals. We have used the United States Environmental Agency (EPA) real-time dataset and will forecast the water quality for the United States of America.  "
      ]
    },
    {
      "cell_type": "markdown",
      "metadata": {
        "id": "8oNcdu73jUNr"
      },
      "source": [
        "## Index\n",
        "\n",
        "* Introduction \n",
        "* Ask Right Questions \n",
        "* Importing Libraries\n",
        "* Dataset\n",
        "* Data Cleaning\n",
        "* Data Structuring \n",
        "* Analysis\n",
        "* Conclusion\n",
        "* References\n",
        "* Disclaimer"
      ]
    },
    {
      "cell_type": "markdown",
      "metadata": {
        "id": "QeYQ0U8vkqRT"
      },
      "source": [
        "# Importing Libraries"
      ]
    },
    {
      "cell_type": "code",
      "metadata": {
        "colab": {
          "base_uri": "https://localhost:8080/"
        },
        "id": "3817p0D7uYYX",
        "outputId": "b3162eb1-1b53-4441-c22a-39928eb275ed"
      },
      "source": [
        "! pip install pmdarima"
      ],
      "execution_count": null,
      "outputs": [
        {
          "output_type": "stream",
          "name": "stdout",
          "text": [
            "Requirement already satisfied: pmdarima in /usr/local/lib/python3.7/dist-packages (1.8.3)\n",
            "Requirement already satisfied: pandas>=0.19 in /usr/local/lib/python3.7/dist-packages (from pmdarima) (1.1.5)\n",
            "Requirement already satisfied: urllib3 in /usr/local/lib/python3.7/dist-packages (from pmdarima) (1.24.3)\n",
            "Requirement already satisfied: setuptools!=50.0.0,>=38.6.0 in /usr/local/lib/python3.7/dist-packages (from pmdarima) (57.4.0)\n",
            "Requirement already satisfied: joblib>=0.11 in /usr/local/lib/python3.7/dist-packages (from pmdarima) (1.0.1)\n",
            "Requirement already satisfied: numpy>=1.19.3 in /usr/local/lib/python3.7/dist-packages (from pmdarima) (1.19.5)\n",
            "Requirement already satisfied: Cython!=0.29.18,>=0.29 in /usr/local/lib/python3.7/dist-packages (from pmdarima) (0.29.24)\n",
            "Requirement already satisfied: scikit-learn>=0.22 in /usr/local/lib/python3.7/dist-packages (from pmdarima) (0.22.2.post1)\n",
            "Requirement already satisfied: scipy>=1.3.2 in /usr/local/lib/python3.7/dist-packages (from pmdarima) (1.4.1)\n",
            "Requirement already satisfied: statsmodels!=0.12.0,>=0.11 in /usr/local/lib/python3.7/dist-packages (from pmdarima) (0.13.0)\n",
            "Requirement already satisfied: pytz>=2017.2 in /usr/local/lib/python3.7/dist-packages (from pandas>=0.19->pmdarima) (2018.9)\n",
            "Requirement already satisfied: python-dateutil>=2.7.3 in /usr/local/lib/python3.7/dist-packages (from pandas>=0.19->pmdarima) (2.8.2)\n",
            "Requirement already satisfied: six>=1.5 in /usr/local/lib/python3.7/dist-packages (from python-dateutil>=2.7.3->pandas>=0.19->pmdarima) (1.15.0)\n",
            "Requirement already satisfied: patsy>=0.5.2 in /usr/local/lib/python3.7/dist-packages (from statsmodels!=0.12.0,>=0.11->pmdarima) (0.5.2)\n"
          ]
        }
      ]
    },
    {
      "cell_type": "code",
      "metadata": {
        "id": "ubWybRqYvhOS"
      },
      "source": [
        "import requests\n",
        "import csv\n",
        "import pandas as pd\n",
        "import numpy as np\n",
        "import re\n",
        "import matplotlib.pyplot as plt\n",
        "import plotly.express as px\n",
        "import seaborn as sns\n",
        "from pmdarima.arima import ADFTest, auto_arima\n",
        "from statsmodels.graphics.tsaplots import plot_acf, plot_pacf\n",
        "from statsmodels.tsa.stattools import adfuller"
      ],
      "execution_count": null,
      "outputs": []
    },
    {
      "cell_type": "markdown",
      "metadata": {
        "id": "wXTPYt0nkJch"
      },
      "source": [
        "# Dataset\n",
        "Link - https://www.epa.gov/waterdata/water-quality-data-download#portal\n",
        "\n",
        "1.   Need to make this data in proper shape. \n",
        "2.   Need to save this data in local directory so that we can work easily on it.\n",
        "3.   Need to reshape it for analysis."
      ]
    },
    {
      "cell_type": "markdown",
      "metadata": {
        "id": "aH8gU0YWG3Ru"
      },
      "source": [
        "**Water Quality Portal**\n",
        "The Water Quality Portal (WQP) is a cooperative service sponsored by the United States Geological Survey (USGS), the Environmental Protection Agency (EPA) and the National Water Quality Monitoring Council (NWQMC). It serves over 380 million water result records from EPA STORET/WQX, the USGS National Water Information System (NWIS) and the U.S. Department of Agriculture Sustaining the Earth's Watersheds, Agricultural Research Data System (STEWARDS)."
      ]
    },
    {
      "cell_type": "markdown",
      "metadata": {
        "id": "T4Y2lxdlswbl"
      },
      "source": [
        "Important Links:\n",
        "*   https://www.kaggle.com/datajmcn/water-quality-eda-and-potability-analysis\n",
        "*   https://www.waterqualitydata.us/portal_userguide/"
      ]
    },
    {
      "cell_type": "code",
      "metadata": {
        "id": "MWIOxQJG9sVU"
      },
      "source": [
        "# Data Set URLs\n",
        "CSV_URL_USA = \"https://www.waterqualitydata.us/data/Result/search?countrycode=US&characteristicType=Radiochemical&startDateLo=01-01-1900&startDateHi=01-01-2021&mimeType=csv&zip=no\""
      ],
      "execution_count": null,
      "outputs": []
    },
    {
      "cell_type": "code",
      "metadata": {
        "colab": {
          "base_uri": "https://localhost:8080/",
          "height": 292
        },
        "id": "YcRFVdKMv517",
        "outputId": "69c49c67-85f0-46cc-9894-a3c4ccef2c03"
      },
      "source": [
        "## Reading USA Dataset. It will take 4 to 5 mins depending upon the dataset size.\n",
        "with requests.Session() as s:\n",
        "    download = s.get(CSV_URL_USA)\n",
        "    decoded_content = download.content.decode('utf-8')\n",
        "    cr = csv.reader(decoded_content.splitlines(), delimiter=',')\n",
        "    my_list = list(cr)\n",
        "    df_usa= pd.DataFrame(my_list)\n",
        "\n",
        "df_usa.head()"
      ],
      "execution_count": null,
      "outputs": [
        {
          "output_type": "execute_result",
          "data": {
            "text/html": [
              "<div>\n",
              "<style scoped>\n",
              "    .dataframe tbody tr th:only-of-type {\n",
              "        vertical-align: middle;\n",
              "    }\n",
              "\n",
              "    .dataframe tbody tr th {\n",
              "        vertical-align: top;\n",
              "    }\n",
              "\n",
              "    .dataframe thead th {\n",
              "        text-align: right;\n",
              "    }\n",
              "</style>\n",
              "<table border=\"1\" class=\"dataframe\">\n",
              "  <thead>\n",
              "    <tr style=\"text-align: right;\">\n",
              "      <th></th>\n",
              "      <th>0</th>\n",
              "      <th>1</th>\n",
              "      <th>2</th>\n",
              "      <th>3</th>\n",
              "      <th>4</th>\n",
              "      <th>5</th>\n",
              "      <th>6</th>\n",
              "      <th>7</th>\n",
              "      <th>8</th>\n",
              "      <th>9</th>\n",
              "      <th>10</th>\n",
              "      <th>11</th>\n",
              "      <th>12</th>\n",
              "      <th>13</th>\n",
              "      <th>14</th>\n",
              "      <th>15</th>\n",
              "      <th>16</th>\n",
              "      <th>17</th>\n",
              "      <th>18</th>\n",
              "      <th>19</th>\n",
              "      <th>20</th>\n",
              "      <th>21</th>\n",
              "      <th>22</th>\n",
              "      <th>23</th>\n",
              "      <th>24</th>\n",
              "      <th>25</th>\n",
              "      <th>26</th>\n",
              "      <th>27</th>\n",
              "      <th>28</th>\n",
              "      <th>29</th>\n",
              "      <th>30</th>\n",
              "      <th>31</th>\n",
              "      <th>32</th>\n",
              "      <th>33</th>\n",
              "      <th>34</th>\n",
              "      <th>35</th>\n",
              "      <th>36</th>\n",
              "      <th>37</th>\n",
              "      <th>38</th>\n",
              "      <th>39</th>\n",
              "      <th>40</th>\n",
              "      <th>41</th>\n",
              "      <th>42</th>\n",
              "      <th>43</th>\n",
              "      <th>44</th>\n",
              "      <th>45</th>\n",
              "      <th>46</th>\n",
              "      <th>47</th>\n",
              "      <th>48</th>\n",
              "      <th>49</th>\n",
              "      <th>50</th>\n",
              "      <th>51</th>\n",
              "      <th>52</th>\n",
              "      <th>53</th>\n",
              "      <th>54</th>\n",
              "      <th>55</th>\n",
              "      <th>56</th>\n",
              "      <th>57</th>\n",
              "      <th>58</th>\n",
              "      <th>59</th>\n",
              "      <th>60</th>\n",
              "      <th>61</th>\n",
              "      <th>62</th>\n",
              "    </tr>\n",
              "  </thead>\n",
              "  <tbody>\n",
              "    <tr>\n",
              "      <th>0</th>\n",
              "      <td>OrganizationIdentifier</td>\n",
              "      <td>OrganizationFormalName</td>\n",
              "      <td>ActivityIdentifier</td>\n",
              "      <td>ActivityTypeCode</td>\n",
              "      <td>ActivityMediaName</td>\n",
              "      <td>ActivityMediaSubdivisionName</td>\n",
              "      <td>ActivityStartDate</td>\n",
              "      <td>ActivityStartTime/Time</td>\n",
              "      <td>ActivityStartTime/TimeZoneCode</td>\n",
              "      <td>ActivityEndDate</td>\n",
              "      <td>ActivityEndTime/Time</td>\n",
              "      <td>ActivityEndTime/TimeZoneCode</td>\n",
              "      <td>ActivityDepthHeightMeasure/MeasureValue</td>\n",
              "      <td>ActivityDepthHeightMeasure/MeasureUnitCode</td>\n",
              "      <td>ActivityDepthAltitudeReferencePointText</td>\n",
              "      <td>ActivityTopDepthHeightMeasure/MeasureValue</td>\n",
              "      <td>ActivityTopDepthHeightMeasure/MeasureUnitCode</td>\n",
              "      <td>ActivityBottomDepthHeightMeasure/MeasureValue</td>\n",
              "      <td>ActivityBottomDepthHeightMeasure/MeasureUnitCode</td>\n",
              "      <td>ProjectIdentifier</td>\n",
              "      <td>ActivityConductingOrganizationText</td>\n",
              "      <td>MonitoringLocationIdentifier</td>\n",
              "      <td>ActivityCommentText</td>\n",
              "      <td>SampleAquifer</td>\n",
              "      <td>HydrologicCondition</td>\n",
              "      <td>HydrologicEvent</td>\n",
              "      <td>SampleCollectionMethod/MethodIdentifier</td>\n",
              "      <td>SampleCollectionMethod/MethodIdentifierContext</td>\n",
              "      <td>SampleCollectionMethod/MethodName</td>\n",
              "      <td>SampleCollectionEquipmentName</td>\n",
              "      <td>ResultDetectionConditionText</td>\n",
              "      <td>CharacteristicName</td>\n",
              "      <td>ResultSampleFractionText</td>\n",
              "      <td>ResultMeasureValue</td>\n",
              "      <td>ResultMeasure/MeasureUnitCode</td>\n",
              "      <td>MeasureQualifierCode</td>\n",
              "      <td>ResultStatusIdentifier</td>\n",
              "      <td>StatisticalBaseCode</td>\n",
              "      <td>ResultValueTypeName</td>\n",
              "      <td>ResultWeightBasisText</td>\n",
              "      <td>ResultTimeBasisText</td>\n",
              "      <td>ResultTemperatureBasisText</td>\n",
              "      <td>ResultParticleSizeBasisText</td>\n",
              "      <td>PrecisionValue</td>\n",
              "      <td>ResultCommentText</td>\n",
              "      <td>USGSPCode</td>\n",
              "      <td>ResultDepthHeightMeasure/MeasureValue</td>\n",
              "      <td>ResultDepthHeightMeasure/MeasureUnitCode</td>\n",
              "      <td>ResultDepthAltitudeReferencePointText</td>\n",
              "      <td>SubjectTaxonomicName</td>\n",
              "      <td>SampleTissueAnatomyName</td>\n",
              "      <td>ResultAnalyticalMethod/MethodIdentifier</td>\n",
              "      <td>ResultAnalyticalMethod/MethodIdentifierContext</td>\n",
              "      <td>ResultAnalyticalMethod/MethodName</td>\n",
              "      <td>MethodDescriptionText</td>\n",
              "      <td>LaboratoryName</td>\n",
              "      <td>AnalysisStartDate</td>\n",
              "      <td>ResultLaboratoryCommentText</td>\n",
              "      <td>DetectionQuantitationLimitTypeName</td>\n",
              "      <td>DetectionQuantitationLimitMeasure/MeasureValue</td>\n",
              "      <td>DetectionQuantitationLimitMeasure/MeasureUnitCode</td>\n",
              "      <td>PreparationStartDate</td>\n",
              "      <td>ProviderName</td>\n",
              "    </tr>\n",
              "    <tr>\n",
              "      <th>1</th>\n",
              "      <td>USGS-NY</td>\n",
              "      <td>USGS New York Water Science Center</td>\n",
              "      <td>nwisny.01.95400104</td>\n",
              "      <td>Sample-Routine</td>\n",
              "      <td>Water</td>\n",
              "      <td>Wet Fall Material</td>\n",
              "      <td>1953-11-01</td>\n",
              "      <td></td>\n",
              "      <td></td>\n",
              "      <td>1953-11-30</td>\n",
              "      <td></td>\n",
              "      <td></td>\n",
              "      <td></td>\n",
              "      <td></td>\n",
              "      <td></td>\n",
              "      <td></td>\n",
              "      <td></td>\n",
              "      <td></td>\n",
              "      <td></td>\n",
              "      <td></td>\n",
              "      <td></td>\n",
              "      <td>USGS-410048073544800</td>\n",
              "      <td></td>\n",
              "      <td></td>\n",
              "      <td>Not determined</td>\n",
              "      <td>Routine sample</td>\n",
              "      <td>USGS</td>\n",
              "      <td>USGS</td>\n",
              "      <td>USGS</td>\n",
              "      <td>Unknown</td>\n",
              "      <td></td>\n",
              "      <td>Tritium</td>\n",
              "      <td></td>\n",
              "      <td>7.3</td>\n",
              "      <td>T.U.</td>\n",
              "      <td></td>\n",
              "      <td>Historical</td>\n",
              "      <td></td>\n",
              "      <td>Estimated</td>\n",
              "      <td></td>\n",
              "      <td></td>\n",
              "      <td></td>\n",
              "      <td></td>\n",
              "      <td></td>\n",
              "      <td></td>\n",
              "      <td>07012</td>\n",
              "      <td></td>\n",
              "      <td></td>\n",
              "      <td></td>\n",
              "      <td></td>\n",
              "      <td></td>\n",
              "      <td></td>\n",
              "      <td></td>\n",
              "      <td></td>\n",
              "      <td></td>\n",
              "      <td></td>\n",
              "      <td></td>\n",
              "      <td></td>\n",
              "      <td></td>\n",
              "      <td></td>\n",
              "      <td></td>\n",
              "      <td></td>\n",
              "      <td>NWIS</td>\n",
              "    </tr>\n",
              "    <tr>\n",
              "      <th>2</th>\n",
              "      <td>USGS-NY</td>\n",
              "      <td>USGS New York Water Science Center</td>\n",
              "      <td>nwisny.01.95400114</td>\n",
              "      <td>Sample-Routine</td>\n",
              "      <td>Water</td>\n",
              "      <td>Wet Fall Material</td>\n",
              "      <td>1954-03-01</td>\n",
              "      <td></td>\n",
              "      <td></td>\n",
              "      <td>1954-03-31</td>\n",
              "      <td></td>\n",
              "      <td></td>\n",
              "      <td></td>\n",
              "      <td></td>\n",
              "      <td></td>\n",
              "      <td></td>\n",
              "      <td></td>\n",
              "      <td></td>\n",
              "      <td></td>\n",
              "      <td></td>\n",
              "      <td></td>\n",
              "      <td>USGS-410048073544800</td>\n",
              "      <td></td>\n",
              "      <td></td>\n",
              "      <td>Not determined</td>\n",
              "      <td>Routine sample</td>\n",
              "      <td>USGS</td>\n",
              "      <td>USGS</td>\n",
              "      <td>USGS</td>\n",
              "      <td>Unknown</td>\n",
              "      <td></td>\n",
              "      <td>Tritium</td>\n",
              "      <td></td>\n",
              "      <td>157</td>\n",
              "      <td>T.U.</td>\n",
              "      <td></td>\n",
              "      <td>Historical</td>\n",
              "      <td></td>\n",
              "      <td>Estimated</td>\n",
              "      <td></td>\n",
              "      <td></td>\n",
              "      <td></td>\n",
              "      <td></td>\n",
              "      <td></td>\n",
              "      <td></td>\n",
              "      <td>07012</td>\n",
              "      <td></td>\n",
              "      <td></td>\n",
              "      <td></td>\n",
              "      <td></td>\n",
              "      <td></td>\n",
              "      <td></td>\n",
              "      <td></td>\n",
              "      <td></td>\n",
              "      <td></td>\n",
              "      <td></td>\n",
              "      <td></td>\n",
              "      <td></td>\n",
              "      <td></td>\n",
              "      <td></td>\n",
              "      <td></td>\n",
              "      <td></td>\n",
              "      <td>NWIS</td>\n",
              "    </tr>\n",
              "    <tr>\n",
              "      <th>3</th>\n",
              "      <td>USGS-IL</td>\n",
              "      <td>USGS Illinois Water Science Center</td>\n",
              "      <td>nwisil.01.95300012</td>\n",
              "      <td>Sample-Routine</td>\n",
              "      <td>Water</td>\n",
              "      <td>Wet Fall Material</td>\n",
              "      <td>1953-02-01</td>\n",
              "      <td></td>\n",
              "      <td></td>\n",
              "      <td>1953-02-28</td>\n",
              "      <td></td>\n",
              "      <td></td>\n",
              "      <td></td>\n",
              "      <td></td>\n",
              "      <td></td>\n",
              "      <td></td>\n",
              "      <td></td>\n",
              "      <td></td>\n",
              "      <td></td>\n",
              "      <td></td>\n",
              "      <td></td>\n",
              "      <td>USGS-414700087350000</td>\n",
              "      <td></td>\n",
              "      <td></td>\n",
              "      <td>Not determined</td>\n",
              "      <td>Routine sample</td>\n",
              "      <td>USGS</td>\n",
              "      <td>USGS</td>\n",
              "      <td>USGS</td>\n",
              "      <td>Unknown</td>\n",
              "      <td></td>\n",
              "      <td>Tritium</td>\n",
              "      <td></td>\n",
              "      <td>4.6</td>\n",
              "      <td>T.U.</td>\n",
              "      <td></td>\n",
              "      <td>Historical</td>\n",
              "      <td></td>\n",
              "      <td>Estimated</td>\n",
              "      <td></td>\n",
              "      <td></td>\n",
              "      <td></td>\n",
              "      <td></td>\n",
              "      <td></td>\n",
              "      <td></td>\n",
              "      <td>07012</td>\n",
              "      <td></td>\n",
              "      <td></td>\n",
              "      <td></td>\n",
              "      <td></td>\n",
              "      <td></td>\n",
              "      <td></td>\n",
              "      <td></td>\n",
              "      <td></td>\n",
              "      <td></td>\n",
              "      <td></td>\n",
              "      <td></td>\n",
              "      <td></td>\n",
              "      <td></td>\n",
              "      <td></td>\n",
              "      <td></td>\n",
              "      <td></td>\n",
              "      <td>NWIS</td>\n",
              "    </tr>\n",
              "    <tr>\n",
              "      <th>4</th>\n",
              "      <td>USGS-NJ</td>\n",
              "      <td>USGS New Jersey Water Science Center</td>\n",
              "      <td>nwisnj.01.91800002</td>\n",
              "      <td>Sample-Routine</td>\n",
              "      <td>Water</td>\n",
              "      <td>Surface Water</td>\n",
              "      <td>1918-06-08</td>\n",
              "      <td>10:00:00</td>\n",
              "      <td>EDT</td>\n",
              "      <td></td>\n",
              "      <td></td>\n",
              "      <td></td>\n",
              "      <td></td>\n",
              "      <td></td>\n",
              "      <td></td>\n",
              "      <td></td>\n",
              "      <td></td>\n",
              "      <td></td>\n",
              "      <td></td>\n",
              "      <td></td>\n",
              "      <td>U.S. Geological Survey-Water Resources Discipline</td>\n",
              "      <td>USGS-01443500</td>\n",
              "      <td></td>\n",
              "      <td></td>\n",
              "      <td>Not determined</td>\n",
              "      <td>Routine sample</td>\n",
              "      <td>USGS</td>\n",
              "      <td>USGS</td>\n",
              "      <td>USGS</td>\n",
              "      <td>Unknown</td>\n",
              "      <td></td>\n",
              "      <td>Potassium-40</td>\n",
              "      <td>Dissolved</td>\n",
              "      <td>0.90</td>\n",
              "      <td>pCi/L</td>\n",
              "      <td></td>\n",
              "      <td>Historical</td>\n",
              "      <td></td>\n",
              "      <td>Actual</td>\n",
              "      <td></td>\n",
              "      <td></td>\n",
              "      <td></td>\n",
              "      <td></td>\n",
              "      <td></td>\n",
              "      <td></td>\n",
              "      <td>82068</td>\n",
              "      <td></td>\n",
              "      <td></td>\n",
              "      <td></td>\n",
              "      <td></td>\n",
              "      <td></td>\n",
              "      <td></td>\n",
              "      <td></td>\n",
              "      <td></td>\n",
              "      <td></td>\n",
              "      <td></td>\n",
              "      <td></td>\n",
              "      <td></td>\n",
              "      <td></td>\n",
              "      <td></td>\n",
              "      <td></td>\n",
              "      <td></td>\n",
              "      <td>NWIS</td>\n",
              "    </tr>\n",
              "  </tbody>\n",
              "</table>\n",
              "</div>"
            ],
            "text/plain": [
              "                       0   ...            62\n",
              "0  OrganizationIdentifier  ...  ProviderName\n",
              "1                 USGS-NY  ...          NWIS\n",
              "2                 USGS-NY  ...          NWIS\n",
              "3                 USGS-IL  ...          NWIS\n",
              "4                 USGS-NJ  ...          NWIS\n",
              "\n",
              "[5 rows x 63 columns]"
            ]
          },
          "metadata": {},
          "execution_count": 10
        }
      ]
    },
    {
      "cell_type": "markdown",
      "metadata": {
        "id": "fjX5ucAwhnJU"
      },
      "source": [
        ""
      ]
    },
    {
      "cell_type": "markdown",
      "metadata": {
        "id": "3HFQB2ZRhA28"
      },
      "source": [
        "# Data Cleaning"
      ]
    },
    {
      "cell_type": "code",
      "metadata": {
        "id": "bEsBZka32AWj"
      },
      "source": [
        "# Save the copy for re-use instead of downloading again and again\n",
        "dfOriginal = df_usa.copy()"
      ],
      "execution_count": null,
      "outputs": []
    },
    {
      "cell_type": "code",
      "metadata": {
        "id": "ehQZI8IC3oNs"
      },
      "source": [
        "# Run from this cell if you want to restart the analysis\n",
        "df = dfOriginal"
      ],
      "execution_count": null,
      "outputs": []
    },
    {
      "cell_type": "code",
      "metadata": {
        "colab": {
          "base_uri": "https://localhost:8080/"
        },
        "id": "h6puxmJ-1808",
        "outputId": "b97f907a-be70-4648-baed-595ffa9f60f6"
      },
      "source": [
        "rows, columns = df.shape\n",
        "print(\"Total Rows: {}\\nTotal Columns: {}\".format(str(rows),str(columns)))"
      ],
      "execution_count": null,
      "outputs": [
        {
          "output_type": "stream",
          "name": "stdout",
          "text": [
            "Total Rows: 823997\n",
            "Total Columns: 63\n"
          ]
        }
      ]
    },
    {
      "cell_type": "code",
      "metadata": {
        "id": "s9telDuBwVpy"
      },
      "source": [
        "# Beautify the Data\n",
        "new_header = df.iloc[0] \n",
        "df = df[1:] \n",
        "df.columns = new_header"
      ],
      "execution_count": null,
      "outputs": []
    },
    {
      "cell_type": "code",
      "metadata": {
        "colab": {
          "base_uri": "https://localhost:8080/",
          "height": 210
        },
        "id": "_PwffqJLzMKV",
        "outputId": "1efc35dd-2e96-4a7e-a042-5a82c5957053"
      },
      "source": [
        "df.describe()"
      ],
      "execution_count": null,
      "outputs": [
        {
          "output_type": "execute_result",
          "data": {
            "text/html": [
              "<div>\n",
              "<style scoped>\n",
              "    .dataframe tbody tr th:only-of-type {\n",
              "        vertical-align: middle;\n",
              "    }\n",
              "\n",
              "    .dataframe tbody tr th {\n",
              "        vertical-align: top;\n",
              "    }\n",
              "\n",
              "    .dataframe thead th {\n",
              "        text-align: right;\n",
              "    }\n",
              "</style>\n",
              "<table border=\"1\" class=\"dataframe\">\n",
              "  <thead>\n",
              "    <tr style=\"text-align: right;\">\n",
              "      <th></th>\n",
              "      <th>OrganizationIdentifier</th>\n",
              "      <th>OrganizationFormalName</th>\n",
              "      <th>ActivityIdentifier</th>\n",
              "      <th>ActivityTypeCode</th>\n",
              "      <th>ActivityMediaName</th>\n",
              "      <th>ActivityMediaSubdivisionName</th>\n",
              "      <th>ActivityStartDate</th>\n",
              "      <th>ActivityStartTime/Time</th>\n",
              "      <th>ActivityStartTime/TimeZoneCode</th>\n",
              "      <th>ActivityEndDate</th>\n",
              "      <th>ActivityEndTime/Time</th>\n",
              "      <th>ActivityEndTime/TimeZoneCode</th>\n",
              "      <th>ActivityDepthHeightMeasure/MeasureValue</th>\n",
              "      <th>ActivityDepthHeightMeasure/MeasureUnitCode</th>\n",
              "      <th>ActivityDepthAltitudeReferencePointText</th>\n",
              "      <th>ActivityTopDepthHeightMeasure/MeasureValue</th>\n",
              "      <th>ActivityTopDepthHeightMeasure/MeasureUnitCode</th>\n",
              "      <th>ActivityBottomDepthHeightMeasure/MeasureValue</th>\n",
              "      <th>ActivityBottomDepthHeightMeasure/MeasureUnitCode</th>\n",
              "      <th>ProjectIdentifier</th>\n",
              "      <th>ActivityConductingOrganizationText</th>\n",
              "      <th>MonitoringLocationIdentifier</th>\n",
              "      <th>ActivityCommentText</th>\n",
              "      <th>SampleAquifer</th>\n",
              "      <th>HydrologicCondition</th>\n",
              "      <th>HydrologicEvent</th>\n",
              "      <th>SampleCollectionMethod/MethodIdentifier</th>\n",
              "      <th>SampleCollectionMethod/MethodIdentifierContext</th>\n",
              "      <th>SampleCollectionMethod/MethodName</th>\n",
              "      <th>SampleCollectionEquipmentName</th>\n",
              "      <th>ResultDetectionConditionText</th>\n",
              "      <th>CharacteristicName</th>\n",
              "      <th>ResultSampleFractionText</th>\n",
              "      <th>ResultMeasureValue</th>\n",
              "      <th>ResultMeasure/MeasureUnitCode</th>\n",
              "      <th>MeasureQualifierCode</th>\n",
              "      <th>ResultStatusIdentifier</th>\n",
              "      <th>StatisticalBaseCode</th>\n",
              "      <th>ResultValueTypeName</th>\n",
              "      <th>ResultWeightBasisText</th>\n",
              "      <th>ResultTimeBasisText</th>\n",
              "      <th>ResultTemperatureBasisText</th>\n",
              "      <th>ResultParticleSizeBasisText</th>\n",
              "      <th>PrecisionValue</th>\n",
              "      <th>ResultCommentText</th>\n",
              "      <th>USGSPCode</th>\n",
              "      <th>ResultDepthHeightMeasure/MeasureValue</th>\n",
              "      <th>ResultDepthHeightMeasure/MeasureUnitCode</th>\n",
              "      <th>ResultDepthAltitudeReferencePointText</th>\n",
              "      <th>SubjectTaxonomicName</th>\n",
              "      <th>SampleTissueAnatomyName</th>\n",
              "      <th>ResultAnalyticalMethod/MethodIdentifier</th>\n",
              "      <th>ResultAnalyticalMethod/MethodIdentifierContext</th>\n",
              "      <th>ResultAnalyticalMethod/MethodName</th>\n",
              "      <th>MethodDescriptionText</th>\n",
              "      <th>LaboratoryName</th>\n",
              "      <th>AnalysisStartDate</th>\n",
              "      <th>ResultLaboratoryCommentText</th>\n",
              "      <th>DetectionQuantitationLimitTypeName</th>\n",
              "      <th>DetectionQuantitationLimitMeasure/MeasureValue</th>\n",
              "      <th>DetectionQuantitationLimitMeasure/MeasureUnitCode</th>\n",
              "      <th>PreparationStartDate</th>\n",
              "      <th>ProviderName</th>\n",
              "    </tr>\n",
              "  </thead>\n",
              "  <tbody>\n",
              "    <tr>\n",
              "      <th>count</th>\n",
              "      <td>823996</td>\n",
              "      <td>823996</td>\n",
              "      <td>823996</td>\n",
              "      <td>823996</td>\n",
              "      <td>823996</td>\n",
              "      <td>823996</td>\n",
              "      <td>823996</td>\n",
              "      <td>823996</td>\n",
              "      <td>823996</td>\n",
              "      <td>823996</td>\n",
              "      <td>823996</td>\n",
              "      <td>823996</td>\n",
              "      <td>823996</td>\n",
              "      <td>823996</td>\n",
              "      <td>823996</td>\n",
              "      <td>823996</td>\n",
              "      <td>823996</td>\n",
              "      <td>823996</td>\n",
              "      <td>823996</td>\n",
              "      <td>823996</td>\n",
              "      <td>823996</td>\n",
              "      <td>823996</td>\n",
              "      <td>823996</td>\n",
              "      <td>823996</td>\n",
              "      <td>823996</td>\n",
              "      <td>823996</td>\n",
              "      <td>823996</td>\n",
              "      <td>823996</td>\n",
              "      <td>823996</td>\n",
              "      <td>823996</td>\n",
              "      <td>823996</td>\n",
              "      <td>823996</td>\n",
              "      <td>823996</td>\n",
              "      <td>823996</td>\n",
              "      <td>823996</td>\n",
              "      <td>823996</td>\n",
              "      <td>823996</td>\n",
              "      <td>823996</td>\n",
              "      <td>823996</td>\n",
              "      <td>823996</td>\n",
              "      <td>823996</td>\n",
              "      <td>823996</td>\n",
              "      <td>823996</td>\n",
              "      <td>823996</td>\n",
              "      <td>823996</td>\n",
              "      <td>823996</td>\n",
              "      <td>823996</td>\n",
              "      <td>823996</td>\n",
              "      <td>823996</td>\n",
              "      <td>823996</td>\n",
              "      <td>823996</td>\n",
              "      <td>823996</td>\n",
              "      <td>823996</td>\n",
              "      <td>823996</td>\n",
              "      <td>823996</td>\n",
              "      <td>823996</td>\n",
              "      <td>823996</td>\n",
              "      <td>823996</td>\n",
              "      <td>823996</td>\n",
              "      <td>823996</td>\n",
              "      <td>823996</td>\n",
              "      <td>823996</td>\n",
              "      <td>823996</td>\n",
              "    </tr>\n",
              "    <tr>\n",
              "      <th>unique</th>\n",
              "      <td>161</td>\n",
              "      <td>154</td>\n",
              "      <td>298971</td>\n",
              "      <td>31</td>\n",
              "      <td>8</td>\n",
              "      <td>37</td>\n",
              "      <td>16796</td>\n",
              "      <td>1728</td>\n",
              "      <td>20</td>\n",
              "      <td>2262</td>\n",
              "      <td>1514</td>\n",
              "      <td>11</td>\n",
              "      <td>2207</td>\n",
              "      <td>5</td>\n",
              "      <td>12</td>\n",
              "      <td>1978</td>\n",
              "      <td>8</td>\n",
              "      <td>2225</td>\n",
              "      <td>8</td>\n",
              "      <td>671</td>\n",
              "      <td>167</td>\n",
              "      <td>106860</td>\n",
              "      <td>47813</td>\n",
              "      <td>936</td>\n",
              "      <td>9</td>\n",
              "      <td>20</td>\n",
              "      <td>270</td>\n",
              "      <td>118</td>\n",
              "      <td>243</td>\n",
              "      <td>116</td>\n",
              "      <td>14</td>\n",
              "      <td>108</td>\n",
              "      <td>23</td>\n",
              "      <td>23509</td>\n",
              "      <td>29</td>\n",
              "      <td>19</td>\n",
              "      <td>5</td>\n",
              "      <td>8</td>\n",
              "      <td>4</td>\n",
              "      <td>3</td>\n",
              "      <td>5</td>\n",
              "      <td>2</td>\n",
              "      <td>20</td>\n",
              "      <td>3830</td>\n",
              "      <td>12976</td>\n",
              "      <td>405</td>\n",
              "      <td>59</td>\n",
              "      <td>2</td>\n",
              "      <td>2</td>\n",
              "      <td>120</td>\n",
              "      <td>25</td>\n",
              "      <td>522</td>\n",
              "      <td>52</td>\n",
              "      <td>467</td>\n",
              "      <td>64</td>\n",
              "      <td>213</td>\n",
              "      <td>8349</td>\n",
              "      <td>125</td>\n",
              "      <td>32</td>\n",
              "      <td>4263</td>\n",
              "      <td>23</td>\n",
              "      <td>735</td>\n",
              "      <td>2</td>\n",
              "    </tr>\n",
              "    <tr>\n",
              "      <th>top</th>\n",
              "      <td>11NPSWRD_WQX</td>\n",
              "      <td>National Park Service Water Resources Division</td>\n",
              "      <td>21IOWA-SAMP-WAT-GWM-2004-0</td>\n",
              "      <td>Sample-Routine</td>\n",
              "      <td>Water</td>\n",
              "      <td>Groundwater</td>\n",
              "      <td>1978-07-10</td>\n",
              "      <td></td>\n",
              "      <td>MDT</td>\n",
              "      <td></td>\n",
              "      <td></td>\n",
              "      <td></td>\n",
              "      <td></td>\n",
              "      <td></td>\n",
              "      <td></td>\n",
              "      <td></td>\n",
              "      <td></td>\n",
              "      <td></td>\n",
              "      <td></td>\n",
              "      <td></td>\n",
              "      <td>U.S. Geological Survey-Water Resources Discipline</td>\n",
              "      <td>USGS-433013113024201</td>\n",
              "      <td></td>\n",
              "      <td></td>\n",
              "      <td></td>\n",
              "      <td>Routine sample</td>\n",
              "      <td>USGS</td>\n",
              "      <td>USGS</td>\n",
              "      <td>USGS</td>\n",
              "      <td>Unknown</td>\n",
              "      <td></td>\n",
              "      <td>Uranium</td>\n",
              "      <td>Dissolved</td>\n",
              "      <td></td>\n",
              "      <td>pCi/L</td>\n",
              "      <td></td>\n",
              "      <td>Historical</td>\n",
              "      <td></td>\n",
              "      <td>Actual</td>\n",
              "      <td></td>\n",
              "      <td></td>\n",
              "      <td></td>\n",
              "      <td></td>\n",
              "      <td></td>\n",
              "      <td></td>\n",
              "      <td></td>\n",
              "      <td></td>\n",
              "      <td></td>\n",
              "      <td></td>\n",
              "      <td></td>\n",
              "      <td></td>\n",
              "      <td></td>\n",
              "      <td>USGS</td>\n",
              "      <td></td>\n",
              "      <td></td>\n",
              "      <td></td>\n",
              "      <td></td>\n",
              "      <td></td>\n",
              "      <td></td>\n",
              "      <td></td>\n",
              "      <td></td>\n",
              "      <td></td>\n",
              "      <td>NWIS</td>\n",
              "    </tr>\n",
              "    <tr>\n",
              "      <th>freq</th>\n",
              "      <td>93534</td>\n",
              "      <td>93534</td>\n",
              "      <td>510</td>\n",
              "      <td>671811</td>\n",
              "      <td>703157</td>\n",
              "      <td>377475</td>\n",
              "      <td>1615</td>\n",
              "      <td>85541</td>\n",
              "      <td>177792</td>\n",
              "      <td>803349</td>\n",
              "      <td>813445</td>\n",
              "      <td>811804</td>\n",
              "      <td>745501</td>\n",
              "      <td>745501</td>\n",
              "      <td>766216</td>\n",
              "      <td>772940</td>\n",
              "      <td>772940</td>\n",
              "      <td>769269</td>\n",
              "      <td>769269</td>\n",
              "      <td>478961</td>\n",
              "      <td>447434</td>\n",
              "      <td>2238</td>\n",
              "      <td>610644</td>\n",
              "      <td>738620</td>\n",
              "      <td>254851</td>\n",
              "      <td>399494</td>\n",
              "      <td>430157</td>\n",
              "      <td>430157</td>\n",
              "      <td>430157</td>\n",
              "      <td>455517</td>\n",
              "      <td>693182</td>\n",
              "      <td>186747</td>\n",
              "      <td>358128</td>\n",
              "      <td>130777</td>\n",
              "      <td>395327</td>\n",
              "      <td>809238</td>\n",
              "      <td>297551</td>\n",
              "      <td>707021</td>\n",
              "      <td>815436</td>\n",
              "      <td>740653</td>\n",
              "      <td>794787</td>\n",
              "      <td>823988</td>\n",
              "      <td>806652</td>\n",
              "      <td>718825</td>\n",
              "      <td>742889</td>\n",
              "      <td>254851</td>\n",
              "      <td>823627</td>\n",
              "      <td>823627</td>\n",
              "      <td>823577</td>\n",
              "      <td>821730</td>\n",
              "      <td>821727</td>\n",
              "      <td>245150</td>\n",
              "      <td>331477</td>\n",
              "      <td>271768</td>\n",
              "      <td>623785</td>\n",
              "      <td>480475</td>\n",
              "      <td>482154</td>\n",
              "      <td>780012</td>\n",
              "      <td>594068</td>\n",
              "      <td>584492</td>\n",
              "      <td>583776</td>\n",
              "      <td>814982</td>\n",
              "      <td>569145</td>\n",
              "    </tr>\n",
              "  </tbody>\n",
              "</table>\n",
              "</div>"
            ],
            "text/plain": [
              "0      OrganizationIdentifier  ... ProviderName\n",
              "count                  823996  ...       823996\n",
              "unique                    161  ...            2\n",
              "top              11NPSWRD_WQX  ...         NWIS\n",
              "freq                    93534  ...       569145\n",
              "\n",
              "[4 rows x 63 columns]"
            ]
          },
          "metadata": {},
          "execution_count": 23
        }
      ]
    },
    {
      "cell_type": "code",
      "metadata": {
        "colab": {
          "base_uri": "https://localhost:8080/"
        },
        "id": "gWBbbbaOze7W",
        "outputId": "743e0be0-a5d0-462a-8ff6-7bfd1fd0527c"
      },
      "source": [
        "important_columns = ['OrganizationIdentifier',\t'OrganizationFormalName',\t'ActivityMediaName',\t'ActivityMediaSubdivisionName',\t'ActivityStartDate', 'ActivityStartTime/Time', 'ActivityStartTime/TimeZoneCode', 'ActivityEndDate', 'ActivityEndTime/Time', 'CharacteristicName', 'ResultMeasureValue', 'ResultMeasure/MeasureUnitCode', 'ResultStatusIdentifier']\n",
        "dataset = df[important_columns]\n",
        "dataset.head()\n",
        "print(dataset.shape)"
      ],
      "execution_count": null,
      "outputs": [
        {
          "output_type": "stream",
          "name": "stdout",
          "text": [
            "(823996, 13)\n"
          ]
        }
      ]
    },
    {
      "cell_type": "code",
      "metadata": {
        "id": "jt1zJ18RmBCH"
      },
      "source": [
        "# Change column name to readable column names\n",
        "dataset.columns = ['Organization_Identifier',\t\n",
        "                   'Organization_Formal_Name',\t\n",
        "                   'Activity_Media_Name',\t\n",
        "                   'Activity_Media_Subdivision_Name',\t\n",
        "                   'Activity_Start_Date', \n",
        "                   'Activity_Start_Time', \n",
        "                   'Activity_StartT_TimeZone_Code', \n",
        "                   'Activity_EndDate', \n",
        "                   'Activity_EndTime', \n",
        "                   'Characteristic_Name', \n",
        "                   'Result_Measure_Value', \n",
        "                   'Result_Measure_Unit_Code', \n",
        "                   'Result_Status_Identifier']"
      ],
      "execution_count": null,
      "outputs": []
    },
    {
      "cell_type": "markdown",
      "metadata": {
        "id": "_inoxDoCHYOD"
      },
      "source": [
        "## Handle 'Null' Values"
      ]
    },
    {
      "cell_type": "code",
      "metadata": {
        "colab": {
          "base_uri": "https://localhost:8080/"
        },
        "id": "g75XAy93KJvH",
        "outputId": "817090ed-f024-483e-cb38-a6c6834dd84e"
      },
      "source": [
        "# fill the blank cells\n",
        "dataset = dataset.replace(r'^\\s*$', np.nan, regex=True)\n",
        "print(\"Blank Filled Done !!\")"
      ],
      "execution_count": null,
      "outputs": [
        {
          "output_type": "stream",
          "name": "stdout",
          "text": [
            "Blank Filled Done !!\n"
          ]
        }
      ]
    },
    {
      "cell_type": "code",
      "metadata": {
        "colab": {
          "base_uri": "https://localhost:8080/"
        },
        "id": "UwWjTUj8zxHe",
        "outputId": "1035fc95-4b7a-4eb2-b5b3-1524b4ce169a"
      },
      "source": [
        "dataset.isnull().sum()"
      ],
      "execution_count": null,
      "outputs": [
        {
          "output_type": "execute_result",
          "data": {
            "text/plain": [
              "Organization_Identifier                 0\n",
              "Organization_Formal_Name                0\n",
              "Activity_Media_Name                   113\n",
              "Activity_Media_Subdivision_Name    184764\n",
              "Activity_Start_Date                     0\n",
              "Activity_Start_Time                 85541\n",
              "Activity_StartT_TimeZone_Code       94549\n",
              "Activity_EndDate                   803349\n",
              "Activity_EndTime                   813445\n",
              "Characteristic_Name                     0\n",
              "Result_Measure_Value               130777\n",
              "Result_Measure_Unit_Code           104971\n",
              "Result_Status_Identifier                0\n",
              "dtype: int64"
            ]
          },
          "metadata": {},
          "execution_count": 27
        }
      ]
    },
    {
      "cell_type": "markdown",
      "metadata": {
        "id": "ynLjkZYfl5pp"
      },
      "source": [
        "# Data Structuring"
      ]
    },
    {
      "cell_type": "markdown",
      "metadata": {
        "id": "gk86BJCEoAyE"
      },
      "source": [
        "Starting with Most important column {Relation wrt. Characteristic_Name}\n",
        "\n",
        "1.   Result_Measure_Unit_Code\n",
        "2.   Result_Measure_Value\n",
        "\n",
        "\n",
        "Note:- pCi/L to pCi/g -> 1 pCi/L = 0.001356 pCi/g\n",
        "```\n",
        "1 pCi/L =  1.3564 pCi/kg \n",
        "1.3564 pCi/kg / 1000 = 0.001356 pCi/g\n",
        "```\n",
        "pCi/L to ug/L -> 1 pCi/L = 0.6666 ug/L\n",
        "\n",
        "Radioactivity refers to the amount of ionizing radiation released by a material. Whether it emits alpha or beta particles, gamma rays, x-rays, or neutrons, a quantity of radioactive material is expressed in terms of its radioactivity (or simply its activity). This represents how many atoms in the material decay in a given time period. The units of measurement for radioactivity are the becquerel (Bq, international unit) and the curie (Ci, U.S. unit).\n",
        "https://ehs.ucmerced.edu/sites/ehs.ucmerced.edu/files/documents/radiation-safety/appendixd-conversion_factors.pdf \n",
        "http://www.radprocalculator.com/Conversion.aspx \n",
        "\n",
        "  \n",
        "\n"
      ]
    },
    {
      "cell_type": "code",
      "metadata": {
        "colab": {
          "base_uri": "https://localhost:8080/"
        },
        "id": "UHeTulc3hK5w",
        "outputId": "41836684-93d8-446a-aa48-6cab2a6974b5"
      },
      "source": [
        "temp = dataset.groupby('Characteristic_Name')['Result_Measure_Unit_Code'].unique()\n",
        "print(temp)"
      ],
      "execution_count": null,
      "outputs": [
        {
          "output_type": "stream",
          "name": "stdout",
          "text": [
            "Characteristic_Name\n",
            "Actinium-228                                   [nan, pCi/L, pCi/g]\n",
            "Alpha emitting radium isotopes                        [pCi/L, nan]\n",
            "Alpha particle                    [pCi/L, ug/l, nan, pCi/g, mg/kg]\n",
            "Americium-241                                  [nan, pCi/L, pCi/g]\n",
            "Anthanthrene                              [nan, ng/g, ng/l, ug/kg]\n",
            "                                                ...               \n",
            "Xenon-136                                             [cm3/g @STP]\n",
            "Ytterbium-169                                         [pCi/L, nan]\n",
            "Zinc-65                                               [nan, pCi/L]\n",
            "Zirconium-95                                          [nan, pCi/L]\n",
            "Zirconium/Niobium-95                                       [pCi/L]\n",
            "Name: Result_Measure_Unit_Code, Length: 108, dtype: object\n"
          ]
        }
      ]
    },
    {
      "cell_type": "code",
      "metadata": {
        "colab": {
          "base_uri": "https://localhost:8080/"
        },
        "id": "xtQLcveXn_WH",
        "outputId": "3edcab60-b0e5-4638-9965-4d4e01877114"
      },
      "source": [
        "unique_measure_unit_code = set()\n",
        "value_count_for_each = {}\n",
        "for val in temp.items():\n",
        "  for i in val[1]:\n",
        "    if i not in value_count_for_each.keys():\n",
        "      value_count_for_each[i] = []\n",
        "    value_count_for_each[i].append(str(val[0]))\n",
        "  unique_measure_unit_code = unique_measure_unit_code.union(set(val[1]))\n",
        "\n",
        "print(unique_measure_unit_code)\n",
        "print(value_count_for_each)\n",
        "print( { key : len(value_count_for_each[key]) for key in value_count_for_each.keys() })"
      ],
      "execution_count": null,
      "outputs": [
        {
          "output_type": "stream",
          "name": "stdout",
          "text": [
            "{nan, 'ug/L U3O8', 'lb/day', 'mg/kg', 'mg/l', 'ng/l', 'ug/kg', 'pmc', 'ppb', 'TU', 'years', 'pCi/L', 'None', 'ug/l', 'mCi/km2', 'dpm/g', 'ng/g', 'ratio', 'pCi/ml', 'count', 'bq/g', 'pct modern', 'pCi/g', 'ug/g', 'ppm', 'cm3/g @STP', 'dpm/100l', '%', 'T.U.'}\n",
            "{nan: ['Actinium-228', 'Alpha emitting radium isotopes', 'Alpha particle', 'Americium-241', 'Anthanthrene', 'Antimony-125', 'Barium-140', 'Beryllium-7', 'Beta particle', 'Bismuth-212', 'Bismuth-214', 'Calcium-45', 'Carbon-14', 'Cerium-141', 'Cerium-144', 'Cesium-134', 'Cesium-136', 'Cesium-137', 'Cobalt-57', 'Cobalt-58', 'Cobalt-60', 'Europium-152', 'Europium-154', 'Gamma radiation', 'Gross alpha radioactivity, (Americium-241 ref std)', 'Gross alpha radioactivity, (Thorium-230 ref std)', 'Gross alpha radioactivity, (nat-Uranium ref std)', 'Gross beta radioactivity, (Cesium-137 ref std)', 'Gross beta radioactivity, (Strontium-Yttrium-90 ref std)', 'Indium-111', 'Iodine-123', 'Iodine-129', 'Iodine-131', 'Iodine-132', 'Iodine-133', 'Iron-59', 'Lanthanum-140', 'Lead-210', 'Lead-212', 'Lead-214', 'Manganese-54', 'Molybdenum-99', 'Neodymium-147', 'Neptunium-237', 'Neptunium-239', 'Nickel-59', 'Nickel-63', 'Niobium-95', 'Plutonium-238', 'Plutonium-239 and Plutonium-240 combined', 'Plutonium-239 and/or plutonium-240', 'Polonium-210', 'Potassium-40', 'Radium-224', 'Radium-226', 'Radium-226/228', 'Radium-228', 'Radon-222', 'Ruthenium-103', 'Ruthenium-106', 'Silver-110', 'Strontium-89', 'Strontium-90', 'Strontium-90 and/or yttrium-90', 'Technetium-99', 'Thallium-208', 'Thorium-228', 'Thorium-230', 'Thorium-232', 'Thorium-234', 'Tritium', 'Uranium', 'Uranium-234', 'Uranium-234/235/238', 'Uranium-235', 'Uranium-236', 'Uranium-238', 'Ytterbium-169', 'Zinc-65', 'Zirconium-95'], 'pCi/L': ['Actinium-228', 'Alpha emitting radium isotopes', 'Alpha particle', 'Americium-241', 'Antimony-124', 'Antimony-125', 'Barium-140', 'Beryllium-7', 'Beta particle', 'Bismuth-212', 'Bismuth-214', 'Calcium-45', 'Cerium-141', 'Cerium-144', 'Cesium-134', 'Cesium-136', 'Cesium-137', 'Chlorine-36', 'Chromium-51', 'Cobalt-57', 'Cobalt-58', 'Cobalt-60', 'Europium-152', 'Europium-154', 'Europium-155', 'Gamma radiation', 'Gross alpha radioactivity, (Americium-241 ref std)', 'Gross alpha radioactivity, (Thorium-230 ref std)', 'Gross alpha radioactivity, (nat-Uranium ref std)', 'Gross beta radioactivity, (Cesium-137 ref std)', 'Gross beta radioactivity, (Strontium-Yttrium-90 ref std)', 'Indium-111', 'Iodine-123', 'Iodine-129', 'Iodine-131', 'Iodine-132', 'Iodine-133', 'Iron-59', 'Lanthanum-140', 'Lead-210', 'Lead-211', 'Lead-212', 'Lead-214', 'Manganese-54', 'Molybdenum-99', 'Neodymium-147', 'Neptunium-239', 'Nickel-59', 'Nickel-63', 'Niobium-95', 'Plutonium-238', 'Plutonium-239 and Plutonium-240 combined', 'Plutonium-239 and/or plutonium-240', 'Polonium-210', 'Potassium-40', 'Protactinium-231', 'Protactinium-233', 'Protactinium-234', 'Protactinium-234m', 'Radioactivity, gross', 'Radium isotopes, alpha emitting', 'Radium-223', 'Radium-224', 'Radium-226', 'Radium-226/228', 'Radium-228', 'Radon-219', 'Radon-222', 'Ruthenium Radionuclides', 'Ruthenium-103', 'Ruthenium-106', 'Selenium-75', 'Silver-108', 'Silver-110', 'Strontium-89', 'Strontium-90', 'Strontium-90 and/or yttrium-90', 'Sulfur-35', 'Technetium-99', 'Thallium-208', 'Thorium-227', 'Thorium-228', 'Thorium-230', 'Thorium-232', 'Thorium-234', 'Tritium', 'Uranium', 'Uranium-233/234', 'Uranium-234', 'Uranium-234/235/238', 'Uranium-235', 'Uranium-238', 'Ytterbium-169', 'Zinc-65', 'Zirconium-95', 'Zirconium/Niobium-95'], 'pCi/g': ['Actinium-228', 'Alpha particle', 'Americium-241', 'Antimony-125', 'Barium-140', 'Beryllium-7', 'Beta particle', 'Bismuth-212', 'Bismuth-214', 'Cesium-134', 'Cesium-137', 'Cobalt-60', 'Europium-152', 'Europium-154', 'Europium-155', 'Gross alpha radioactivity, (Thorium-230 ref std)', 'Gross alpha radioactivity, (nat-Uranium ref std)', 'Gross beta radioactivity, (Cesium-137 ref std)', 'Iodine-131', 'Lead-210', 'Lead-212', 'Lead-214', 'Plutonium-238', 'Plutonium-239 and Plutonium-240 combined', 'Plutonium-239 and/or plutonium-240', 'Plutonium-241', 'Polonium-210', 'Potassium-40', 'Protactinium-231', 'Protactinium-233', 'Protactinium-234m', 'Radioactivity, gross', 'Radium isotopes, alpha emitting', 'Radium-223', 'Radium-224', 'Radium-226', 'Radium-228', 'Radon-219', 'Ruthenium-106', 'Strontium Radionuclides', 'Strontium-89', 'Strontium-90', 'Thallium-201', 'Thallium-208', 'Thorium-227', 'Thorium-228', 'Thorium-230', 'Thorium-232', 'Thorium-234', 'Tritium', 'Uranium', 'Uranium-233/234', 'Uranium-234', 'Uranium-235', 'Uranium-238'], 'ug/l': ['Alpha particle', 'Gross alpha radioactivity, (nat-Uranium ref std)', 'Thorium-232', 'Uranium', 'Uranium-234', 'Uranium-234/235/238', 'Uranium-235', 'Uranium-236', 'Uranium-238'], 'mg/kg': ['Alpha particle', 'Thorium-232', 'Uranium', 'Uranium-234', 'Uranium-235', 'Uranium-236', 'Uranium-238'], 'ng/g': ['Anthanthrene'], 'ng/l': ['Anthanthrene', 'Thorium-232'], 'ug/kg': ['Anthanthrene', 'Thorium-232', 'Uranium'], 'dpm/g': ['Beryllium-7', 'Cesium-137', 'Lead-210', 'Radium-226'], 'pct modern': ['Carbon-14'], '%': ['Carbon-14', 'Radium-226', 'Radium-228', 'Uranium'], 'pmc': ['Carbon-14'], 'years': ['Carbon-14'], 'mCi/km2': ['Cerium-144', 'Cesium-137', 'Promethium-147', 'Strontium-90'], 'dpm/100l': ['Cesium-137', 'Plutonium-238', 'Plutonium-239 and/or plutonium-240', 'Radium-223', 'Radium-224', 'Radon-222', 'Strontium-90'], 'mg/l': ['Gross alpha radioactivity, (nat-Uranium ref std)', 'Radium-228', 'Thorium-230', 'Uranium', 'Uranium-234/235/238', 'Uranium-238'], 'cm3/g @STP': ['Krypton-78', 'Xenon-124', 'Xenon-136'], 'bq/g': ['Radium-226', 'Radium-228'], 'ug/g': ['Thorium-227', 'Thorium-230', 'Thorium-232', 'Uranium', 'Uranium-234/235/238', 'Uranium-238'], 'ppm': ['Thorium-232', 'Uranium', 'Uranium-238'], 'ppb': ['Thorium-232', 'Uranium', 'Uranium-238'], 'T.U.': ['Tritium'], 'pCi/ml': ['Tritium'], 'TU': ['Tritium'], 'ug/L U3O8': ['Uranium'], 'count': ['Uranium'], 'None': ['Uranium', 'Uranium-234', 'Uranium-238'], 'lb/day': ['Uranium'], 'ratio': ['Uranium 238/234 ratio']}\n",
            "{nan: 80, 'pCi/L': 96, 'pCi/g': 55, 'ug/l': 9, 'mg/kg': 7, 'ng/g': 1, 'ng/l': 2, 'ug/kg': 3, 'dpm/g': 4, 'pct modern': 1, '%': 4, 'pmc': 1, 'years': 1, 'mCi/km2': 4, 'dpm/100l': 7, 'mg/l': 6, 'cm3/g @STP': 3, 'bq/g': 2, 'ug/g': 6, 'ppm': 3, 'ppb': 3, 'T.U.': 1, 'pCi/ml': 1, 'TU': 1, 'ug/L U3O8': 1, 'count': 1, 'None': 3, 'lb/day': 1, 'ratio': 1}\n"
          ]
        }
      ]
    },
    {
      "cell_type": "code",
      "metadata": {
        "colab": {
          "base_uri": "https://localhost:8080/"
        },
        "id": "ImqDsFABq_bp",
        "outputId": "dcefe930-b9a3-47ad-b2a1-753c41fa1155"
      },
      "source": [
        "# Convert Procalcitonin (PCT) level is itself is  µg/L, Hence i will just make pct modern ug/l\n",
        "ableToConvert = {\n",
        "  'pCi/L' : 1,\n",
        "  'pCi/ml' : 100,\n",
        "  'pCi/g' : 100,\n",
        "  'ug/l' : 1.48,\n",
        "  'ug/g' : 148,\n",
        "  'ug/kg' : 148000,\n",
        "  'mg/kg' : 1.5,\n",
        "  'mg/l' : 0.0015,\n",
        "  'ng/l' : 0.0000000015,\n",
        "  'ng/g' : 0.148,\n",
        "  'dpm/100l' : 0.0222,\n",
        "  'dpm/g' : 0.000222,\n",
        "  'bq/g' : 3.7,\n",
        "  'T.U.' : 3,\n",
        "  'pct modern': 1.48}\n",
        "notAbleToConvert = ['cm3/g @STP', 'pmc', 'lb/day', 'count', '%', 'years']\n",
        "notAbleToConvertdataset = dataset[dataset['Result_Measure_Unit_Code'].isin(notAbleToConvert)]\n",
        "print(notAbleToConvertdataset.count())"
      ],
      "execution_count": null,
      "outputs": [
        {
          "output_type": "stream",
          "name": "stdout",
          "text": [
            "Organization_Identifier            60\n",
            "Organization_Formal_Name           60\n",
            "Activity_Media_Name                60\n",
            "Activity_Media_Subdivision_Name    45\n",
            "Activity_Start_Date                60\n",
            "Activity_Start_Time                60\n",
            "Activity_StartT_TimeZone_Code      57\n",
            "Activity_EndDate                    6\n",
            "Activity_EndTime                    6\n",
            "Characteristic_Name                60\n",
            "Result_Measure_Value               60\n",
            "Result_Measure_Unit_Code           60\n",
            "Result_Status_Identifier           60\n",
            "dtype: int64\n"
          ]
        }
      ]
    },
    {
      "cell_type": "code",
      "metadata": {
        "colab": {
          "base_uri": "https://localhost:8080/"
        },
        "id": "UQrwglxYjw-8",
        "outputId": "08a90271-d026-4bf5-f2ec-e19f09275cfd"
      },
      "source": [
        "grouped_df = notAbleToConvertdataset.groupby(['Characteristic_Name', 'Result_Measure_Unit_Code']).size()\n",
        "print(grouped_df)"
      ],
      "execution_count": null,
      "outputs": [
        {
          "output_type": "stream",
          "name": "stdout",
          "text": [
            "Characteristic_Name  Result_Measure_Unit_Code\n",
            "Carbon-14            %                           19\n",
            "                     pmc                          4\n",
            "                     years                        4\n",
            "Krypton-78           cm3/g @STP                   7\n",
            "Radium-226           %                            2\n",
            "Radium-228           %                            2\n",
            "Uranium              %                            2\n",
            "                     count                        3\n",
            "                     lb/day                       1\n",
            "Xenon-124            cm3/g @STP                   8\n",
            "Xenon-136            cm3/g @STP                   8\n",
            "dtype: int64\n"
          ]
        }
      ]
    },
    {
      "cell_type": "code",
      "metadata": {
        "id": "0umkfU585Xec"
      },
      "source": [
        "def extract_number(s):\n",
        "  try:\n",
        "    temp = [float(s) for s in re.findall(r'-?\\d+\\.?\\d*', s)][0]\n",
        "    return temp\n",
        "  except: \n",
        "    # print(\"Unexpected error: for value {}\".format(s)) \n",
        "    raise \n",
        "\n",
        "\n",
        "def is_number(s):\n",
        "    try:\n",
        "        extract_number(s)\n",
        "        return True\n",
        "    except:\n",
        "        return False"
      ],
      "execution_count": null,
      "outputs": []
    },
    {
      "cell_type": "code",
      "metadata": {
        "id": "QcehtfWo_O7x"
      },
      "source": [
        "# Make all the NaN to '', So that strip the values easily\n",
        "dataset['Result_Measure_Unit_Code'] = dataset['Result_Measure_Unit_Code'].fillna('')\n",
        "dataset['Result_Measure_Unit_Code'] = dataset['Result_Measure_Unit_Code'].apply(lambda x: x.strip())"
      ],
      "execution_count": null,
      "outputs": []
    },
    {
      "cell_type": "code",
      "metadata": {
        "colab": {
          "base_uri": "https://localhost:8080/"
        },
        "id": "est33oq9zDR2",
        "outputId": "a826a450-4eec-40fb-a589-0a3fd01b7f4e"
      },
      "source": [
        "#Convert the Result_Measure_Value to all pCi/L\n",
        "converted = 0\n",
        "notConverted = 0\n",
        "for index, row in dataset.iterrows():\n",
        "    if(row['Result_Measure_Unit_Code'] in ableToConvert.keys() and is_number(row['Result_Measure_Value'])):\n",
        "      converted += 1\n",
        "      multipler = ableToConvert[row['Result_Measure_Unit_Code']]\n",
        "      row['Result_Measure_Value']  = float(multipler) * extract_number(row['Result_Measure_Value'])\n",
        "      row['Result_Measure_Unit_Code'] = 'pCi/L'\n",
        "    else:\n",
        "      # print(row['Result_Measure_Unit_Code'], row['Result_Measure_Value'])\n",
        "      notConverted += 1\n",
        "grouped_df = dataset.groupby(['Result_Measure_Unit_Code']).size()\n",
        "print(grouped_df)\n",
        "print(\"How many records converted: {} and not converted: {}\".format(str(converted),str(notConverted)))\n",
        "\n",
        "# Only use pCi/L values\n",
        "dataset = dataset[dataset['Result_Measure_Unit_Code']=='pCi/L']"
      ],
      "execution_count": null,
      "outputs": [
        {
          "output_type": "stream",
          "name": "stdout",
          "text": [
            "Result_Measure_Unit_Code\n",
            "              104971\n",
            "%                 25\n",
            "None               4\n",
            "T.U.               7\n",
            "TU               184\n",
            "cm3/g @STP        23\n",
            "count              3\n",
            "lb/day             1\n",
            "mCi/km2           10\n",
            "mg/kg             70\n",
            "mg/l             579\n",
            "ng/g             167\n",
            "ng/l              46\n",
            "pCi/L         622842\n",
            "pCi/g            181\n",
            "pCi/ml            10\n",
            "pmc                4\n",
            "ppb            28063\n",
            "ppm            62386\n",
            "ratio             42\n",
            "ug/L U3O8         15\n",
            "ug/g              18\n",
            "ug/l            4341\n",
            "years              4\n",
            "dtype: int64\n",
            "How many records converted: 616365 and not converted: 207631\n"
          ]
        }
      ]
    },
    {
      "cell_type": "code",
      "metadata": {
        "colab": {
          "base_uri": "https://localhost:8080/"
        },
        "id": "W2MNFs5CHqzf",
        "outputId": "f65bbe1f-7304-4196-b08f-b3f97aa229b0"
      },
      "source": [
        "# Now just Drop NaN for columns Activity_Media_Name\n",
        "rowsO, columnsO = dataset.shape\n",
        "dataset = dataset.dropna(subset=['Activity_Media_Name', 'Result_Measure_Value'])\n",
        "rowsD, columnsD = dataset.shape\n",
        "print(\"Total Rows: {}\\nTotal Columns: {}\".format(str(rowsD),str(columnsD)))\n",
        "print(\"Total Rows Droped: {}\".format(str(rowsO - rowsD)))"
      ],
      "execution_count": null,
      "outputs": [
        {
          "output_type": "stream",
          "name": "stdout",
          "text": [
            "Total Rows: 616355\n",
            "Total Columns: 13\n",
            "Total Rows Droped: 6487\n"
          ]
        }
      ]
    },
    {
      "cell_type": "code",
      "metadata": {
        "colab": {
          "base_uri": "https://localhost:8080/"
        },
        "id": "lSmxfbKJRZuJ",
        "outputId": "ec415d54-2636-4e38-c41b-7bd7d44c5382"
      },
      "source": [
        "#Now find again null\n",
        "dataset = dataset.replace(r'^\\s*$', np.nan, regex=True)\n",
        "print(\"Blank Filled Done !!\")\n",
        "print(\"Final Shape of Dataset Rows: {} and Columns: {}\".format(str(dataset.shape[0]), str(dataset.shape[1])))\n",
        "dataset.isnull().sum()"
      ],
      "execution_count": null,
      "outputs": [
        {
          "output_type": "stream",
          "name": "stdout",
          "text": [
            "Blank Filled Done !!\n",
            "Final Shape of Dataset Rows: 616355 and Columns: 13\n"
          ]
        },
        {
          "output_type": "execute_result",
          "data": {
            "text/plain": [
              "Organization_Identifier                 0\n",
              "Organization_Formal_Name                0\n",
              "Activity_Media_Name                     0\n",
              "Activity_Media_Subdivision_Name     70431\n",
              "Activity_Start_Date                     0\n",
              "Activity_Start_Time                 60718\n",
              "Activity_StartT_TimeZone_Code       65948\n",
              "Activity_EndDate                   597834\n",
              "Activity_EndTime                   607902\n",
              "Characteristic_Name                     0\n",
              "Result_Measure_Value                    0\n",
              "Result_Measure_Unit_Code                0\n",
              "Result_Status_Identifier                0\n",
              "dtype: int64"
            ]
          },
          "metadata": {},
          "execution_count": 36
        }
      ]
    },
    {
      "cell_type": "code",
      "metadata": {
        "id": "n1OXL0eRa2sG"
      },
      "source": [
        "dataset = dataset[~dataset['Result_Measure_Value'].isin(['non detect', 'Not Detected'])] "
      ],
      "execution_count": null,
      "outputs": []
    },
    {
      "cell_type": "markdown",
      "metadata": {
        "id": "BA4SkC8FGKHj"
      },
      "source": [
        "## Find the Outliers "
      ]
    },
    {
      "cell_type": "code",
      "metadata": {
        "id": "oqePMZEMxVv8",
        "colab": {
          "base_uri": "https://localhost:8080/",
          "height": 297
        },
        "outputId": "c117eaf9-f3cb-46b6-daa4-353e9e3aef5a"
      },
      "source": [
        "sns.boxplot(x=dataset['Result_Measure_Value'])"
      ],
      "execution_count": null,
      "outputs": [
        {
          "output_type": "execute_result",
          "data": {
            "text/plain": [
              "<matplotlib.axes._subplots.AxesSubplot at 0x7f5b54fc78d0>"
            ]
          },
          "metadata": {},
          "execution_count": 38
        },
        {
          "output_type": "display_data",
          "data": {
            "image/png": "[encoded data removed]",
            "text/plain": [
              "<Figure size 432x288 with 1 Axes>"
            ]
          },
          "metadata": {
            "needs_background": "light"
          }
        }
      ]
    },
    {
      "cell_type": "code",
      "metadata": {
        "colab": {
          "base_uri": "https://localhost:8080/"
        },
        "id": "hlXj07cwIPLf",
        "outputId": "e9d18a89-23ea-4d56-db74-a8bd98fb7ea7"
      },
      "source": [
        "Q1 = dataset['Result_Measure_Value'].quantile(0.25)\n",
        "Q3 = dataset['Result_Measure_Value'].quantile(0.75)\n",
        "IQR = Q3 - Q1\n",
        "print(\"IQR: \"+str(IQR))\n",
        "print(\"Before Outliers Rows: {} and Columns: {}\".format(str(dataset.shape[0]), str(dataset.shape[1])))\n",
        "datasetTemp = dataset[~((dataset['Result_Measure_Value'] < (Q1 - 1.5 * IQR)) | (dataset['Result_Measure_Value'] > (Q3 + 1.5 * IQR)))]\n",
        "print(\"Before Outliers Rows: {} and Columns: {}\".format(str(datasetTemp.shape[0]), str(datasetTemp.shape[1])))\n",
        "print(\"Outliers found: {}\".format(str(dataset.shape[0] - datasetTemp.shape[0])))\n",
        "dataset = datasetTemp.copy()"
      ],
      "execution_count": null,
      "outputs": [
        {
          "output_type": "stream",
          "name": "stdout",
          "text": [
            "IQR: 19.42\n",
            "Before Outliers Rows: 616294 and Columns: 13\n",
            "Before Outliers Rows: 506662 and Columns: 13\n",
            "Outliers found: 109632\n"
          ]
        }
      ]
    },
    {
      "cell_type": "code",
      "metadata": {
        "colab": {
          "base_uri": "https://localhost:8080/",
          "height": 297
        },
        "id": "uUL4pXkbT4aw",
        "outputId": "202906a3-6c92-4939-93dc-af04c0f51e67"
      },
      "source": [
        "sns.boxplot(x=dataset['Result_Measure_Value'])"
      ],
      "execution_count": null,
      "outputs": [
        {
          "output_type": "execute_result",
          "data": {
            "text/plain": [
              "<matplotlib.axes._subplots.AxesSubplot at 0x7f5b5f6a83d0>"
            ]
          },
          "metadata": {},
          "execution_count": 40
        },
        {
          "output_type": "display_data",
          "data": {
            "image/png": "[encoded data removed]",
            "text/plain": [
              "<Figure size 432x288 with 1 Axes>"
            ]
          },
          "metadata": {
            "needs_background": "light"
          }
        }
      ]
    },
    {
      "cell_type": "markdown",
      "metadata": {
        "id": "KbOCsqjAjI_j"
      },
      "source": [
        "## Save the Data (Optional)"
      ]
    },
    {
      "cell_type": "code",
      "metadata": {
        "colab": {
          "base_uri": "https://localhost:8080/"
        },
        "id": "xRgncbTcjHyX",
        "outputId": "6d0f1c5a-26fd-4110-eb4d-30ad7c5986c4"
      },
      "source": [
        "dataset.to_csv('Dataset_US_2000_to_2020.csv')\n",
        "print(\"Dataset has been saved!!!\")"
      ],
      "execution_count": null,
      "outputs": [
        {
          "output_type": "stream",
          "name": "stdout",
          "text": [
            "Dataset has been saved!!!\n"
          ]
        }
      ]
    },
    {
      "cell_type": "markdown",
      "metadata": {
        "id": "LQm1syLG_WlP"
      },
      "source": [
        "# Analysis"
      ]
    },
    {
      "cell_type": "markdown",
      "metadata": {
        "id": "pPbdTIrR_e-U"
      },
      "source": [
        "## Which is the top 2 radiant found from the year 2000 to 2021? "
      ]
    },
    {
      "cell_type": "code",
      "metadata": {
        "colab": {
          "base_uri": "https://localhost:8080/"
        },
        "id": "2NBrbURM6OVm",
        "outputId": "adefb1dd-2010-45c9-f0d2-741a354516e1"
      },
      "source": [
        "dfUS = dataset\n",
        "ChemicalFound = dfUS['Characteristic_Name'].unique()\n",
        "print(\"Min. Date: {0} , Max. Date: {1}\".format(str(dfUS['Activity_Start_Date'].min()), str(dfUS['Activity_Start_Date'].max())))\n",
        "total_records = 0\n",
        "for y in range(2000,2021):\n",
        "  tempYear = dfUS[pd.DatetimeIndex(dfUS['Activity_Start_Date']).year == y]\n",
        "  print(\"Year {} the Dataset Rows are: {}\".format(y, tempYear.shape[0]))\n",
        "  total_records += tempYear.shape[0]\n",
        "\n",
        "print(\"Total Records: {}\".format(total_records))"
      ],
      "execution_count": null,
      "outputs": [
        {
          "output_type": "stream",
          "name": "stdout",
          "text": [
            "Min. Date: 1900-05-12 , Max. Date: 2020-12-30\n",
            "Year 2000 the Dataset Rows are: 13419\n",
            "Year 2001 the Dataset Rows are: 13052\n",
            "Year 2002 the Dataset Rows are: 11522\n",
            "Year 2003 the Dataset Rows are: 10978\n",
            "Year 2004 the Dataset Rows are: 10371\n",
            "Year 2005 the Dataset Rows are: 11060\n",
            "Year 2006 the Dataset Rows are: 11411\n",
            "Year 2007 the Dataset Rows are: 12548\n",
            "Year 2008 the Dataset Rows are: 9996\n",
            "Year 2009 the Dataset Rows are: 9826\n",
            "Year 2010 the Dataset Rows are: 10684\n",
            "Year 2011 the Dataset Rows are: 14003\n",
            "Year 2012 the Dataset Rows are: 13962\n",
            "Year 2013 the Dataset Rows are: 16073\n",
            "Year 2014 the Dataset Rows are: 16644\n",
            "Year 2015 the Dataset Rows are: 17205\n",
            "Year 2016 the Dataset Rows are: 17166\n",
            "Year 2017 the Dataset Rows are: 13936\n",
            "Year 2018 the Dataset Rows are: 12606\n",
            "Year 2019 the Dataset Rows are: 10359\n",
            "Year 2020 the Dataset Rows are: 4824\n",
            "Total Records: 261645\n"
          ]
        }
      ]
    },
    {
      "cell_type": "code",
      "metadata": {
        "colab": {
          "base_uri": "https://localhost:8080/"
        },
        "id": "uQ_vP0mQEpeH",
        "outputId": "a0093f5e-ff99-42ad-caea-bbb39d58f77d"
      },
      "source": [
        "pd.options.mode.chained_assignment = None \n",
        "dfUSProcessed = pd.DataFrame(columns = ['Year', 'Characteristic_Name', 'Mean_Result_Measure_Value'])\n",
        "for y in range(2000,2021):\n",
        "  dfTemp = pd.DataFrame(columns = ['Year', 'Characteristic_Name', 'Mean_Result_Measure_Value'], )\n",
        "  tempYear = dfUS[pd.DatetimeIndex(dfUS['Activity_Start_Date']).year == y]\n",
        "  temp = tempYear['Result_Measure_Value'].astype(float)\n",
        "  tempYear['Result_Measure_Value'] = temp\n",
        "  seriesTemp = tempYear.groupby(['Characteristic_Name']).mean().sort_values('Result_Measure_Value')\n",
        "  print(y)\n",
        "  dfTemp['Characteristic_Name'] = seriesTemp.index\n",
        "  dfTemp['Mean_Result_Measure_Value'] = seriesTemp.values\n",
        "  dfTemp['Year'] = y\n",
        "  print(dfTemp)\n",
        "  dfUSProcessed = dfUSProcessed.append(dfTemp)\n",
        "  print(\"Year {} the Dataset Rows are: {}\".format(y, tempYear.shape[0]))"
      ],
      "execution_count": null,
      "outputs": [
        {
          "output_type": "stream",
          "name": "stdout",
          "text": [
            "2000\n",
            "    Year  ... Mean_Result_Measure_Value\n",
            "0   2000  ...                 -0.015455\n",
            "1   2000  ...                  0.023710\n",
            "2   2000  ...                  0.032912\n",
            "3   2000  ...                  0.043333\n",
            "4   2000  ...                  0.146400\n",
            "5   2000  ...                  0.157290\n",
            "6   2000  ...                  0.525843\n",
            "7   2000  ...                  0.734592\n",
            "8   2000  ...                  0.943030\n",
            "9   2000  ...                  1.257552\n",
            "10  2000  ...                  1.803748\n",
            "11  2000  ...                  1.858333\n",
            "12  2000  ...                  2.268121\n",
            "13  2000  ...                  2.316742\n",
            "14  2000  ...                  3.751537\n",
            "15  2000  ...                  3.887500\n",
            "16  2000  ...                  4.007459\n",
            "17  2000  ...                  4.488474\n",
            "18  2000  ...                  4.654265\n",
            "19  2000  ...                  5.394904\n",
            "20  2000  ...                  5.568145\n",
            "21  2000  ...                  6.119507\n",
            "22  2000  ...                  6.160234\n",
            "23  2000  ...                  6.875000\n",
            "24  2000  ...                  6.886880\n",
            "25  2000  ...                  6.990651\n",
            "26  2000  ...                  7.167474\n",
            "27  2000  ...                  8.100182\n",
            "28  2000  ...                  9.263094\n",
            "29  2000  ...                  9.329812\n",
            "30  2000  ...                  9.416087\n",
            "31  2000  ...                 10.338333\n",
            "32  2000  ...                 10.808625\n",
            "33  2000  ...                 13.502253\n",
            "34  2000  ...                 14.545965\n",
            "35  2000  ...                 15.600000\n",
            "36  2000  ...                 22.467568\n",
            "37  2000  ...                 22.790196\n",
            "38  2000  ...                 23.124590\n",
            "39  2000  ...                 24.660167\n",
            "40  2000  ...                 25.474227\n",
            "41  2000  ...                 26.606000\n",
            "42  2000  ...                 29.500000\n",
            "43  2000  ...                 39.600000\n",
            "44  2000  ...                 40.033333\n",
            "45  2000  ...                 48.800000\n",
            "\n",
            "[46 rows x 3 columns]\n",
            "Year 2000 the Dataset Rows are: 13419\n",
            "2001\n",
            "    Year  ... Mean_Result_Measure_Value\n",
            "0   2001  ...                 -0.000833\n",
            "1   2001  ...                  0.042000\n",
            "2   2001  ...                  0.064091\n",
            "3   2001  ...                  0.102000\n",
            "4   2001  ...                  0.104437\n",
            "5   2001  ...                  0.236008\n",
            "6   2001  ...                  0.325714\n",
            "7   2001  ...                  0.353143\n",
            "8   2001  ...                  0.785588\n",
            "9   2001  ...                  1.127179\n",
            "10  2001  ...                  1.494444\n",
            "11  2001  ...                  1.571429\n",
            "12  2001  ...                  1.780092\n",
            "13  2001  ...                  2.087500\n",
            "14  2001  ...                  2.089898\n",
            "15  2001  ...                  3.032857\n",
            "16  2001  ...                  3.429630\n",
            "17  2001  ...                  3.444444\n",
            "18  2001  ...                  3.700000\n",
            "19  2001  ...                  3.733333\n",
            "20  2001  ...                  3.891908\n",
            "21  2001  ...                  3.920027\n",
            "22  2001  ...                  3.966667\n",
            "23  2001  ...                  4.601908\n",
            "24  2001  ...                  4.688889\n",
            "25  2001  ...                  4.704348\n",
            "26  2001  ...                  4.858233\n",
            "27  2001  ...                  5.665698\n",
            "28  2001  ...                  5.952663\n",
            "29  2001  ...                  6.666667\n",
            "30  2001  ...                  6.968667\n",
            "31  2001  ...                  7.278047\n",
            "32  2001  ...                  7.491104\n",
            "33  2001  ...                  7.777778\n",
            "34  2001  ...                  9.111111\n",
            "35  2001  ...                 10.584715\n",
            "36  2001  ...                 10.961870\n",
            "37  2001  ...                 12.633583\n",
            "38  2001  ...                 14.300241\n",
            "39  2001  ...                 17.653333\n",
            "40  2001  ...                 19.050000\n",
            "41  2001  ...                 20.676923\n",
            "42  2001  ...                 22.946154\n",
            "43  2001  ...                 25.995719\n",
            "44  2001  ...                 37.900000\n",
            "45  2001  ...                 46.111111\n",
            "\n",
            "[46 rows x 3 columns]\n",
            "Year 2001 the Dataset Rows are: 13052\n",
            "2002\n",
            "    Year  ... Mean_Result_Measure_Value\n",
            "0   2002  ...                  0.000000\n",
            "1   2002  ...                  0.000244\n",
            "2   2002  ...                  0.032805\n",
            "3   2002  ...                  0.097037\n",
            "4   2002  ...                  0.358949\n",
            "5   2002  ...                  0.895666\n",
            "6   2002  ...                  0.902156\n",
            "7   2002  ...                  1.170526\n",
            "8   2002  ...                  1.396346\n",
            "9   2002  ...                  2.055264\n",
            "10  2002  ...                  2.109890\n",
            "11  2002  ...                  2.142340\n",
            "12  2002  ...                  3.172895\n",
            "13  2002  ...                  3.427222\n",
            "14  2002  ...                  3.481535\n",
            "15  2002  ...                  4.062303\n",
            "16  2002  ...                  4.675000\n",
            "17  2002  ...                  4.797692\n",
            "18  2002  ...                  5.489241\n",
            "19  2002  ...                  5.766399\n",
            "20  2002  ...                  6.420000\n",
            "21  2002  ...                  6.609091\n",
            "22  2002  ...                  7.041209\n",
            "23  2002  ...                  7.454323\n",
            "24  2002  ...                  8.245219\n",
            "25  2002  ...                  9.289609\n",
            "26  2002  ...                 10.517544\n",
            "27  2002  ...                 12.228500\n",
            "28  2002  ...                 16.528507\n",
            "29  2002  ...                 22.153571\n",
            "30  2002  ...                 23.921429\n",
            "31  2002  ...                 26.930024\n",
            "32  2002  ...                 30.385714\n",
            "33  2002  ...                 31.350000\n",
            "34  2002  ...                 35.100000\n",
            "\n",
            "[35 rows x 3 columns]\n",
            "Year 2002 the Dataset Rows are: 11522\n",
            "2003\n",
            "    Year  ... Mean_Result_Measure_Value\n",
            "0   2003  ...                  0.000000\n",
            "1   2003  ...                  0.000059\n",
            "2   2003  ...                  0.011333\n",
            "3   2003  ...                  0.013000\n",
            "4   2003  ...                  0.020271\n",
            "5   2003  ...                  0.028305\n",
            "6   2003  ...                  0.152359\n",
            "7   2003  ...                  0.190244\n",
            "8   2003  ...                  0.822224\n",
            "9   2003  ...                  1.289293\n",
            "10  2003  ...                  1.373100\n",
            "11  2003  ...                  1.641000\n",
            "12  2003  ...                  1.667440\n",
            "13  2003  ...                  2.260714\n",
            "14  2003  ...                  2.319762\n",
            "15  2003  ...                  2.601317\n",
            "16  2003  ...                  2.696452\n",
            "17  2003  ...                  3.013117\n",
            "18  2003  ...                  3.236235\n",
            "19  2003  ...                  3.255172\n",
            "20  2003  ...                  4.314169\n",
            "21  2003  ...                  4.347441\n",
            "22  2003  ...                  4.636674\n",
            "23  2003  ...                  5.100146\n",
            "24  2003  ...                  5.120690\n",
            "25  2003  ...                  6.768928\n",
            "26  2003  ...                  7.382408\n",
            "27  2003  ...                  8.178573\n",
            "28  2003  ...                  8.370993\n",
            "29  2003  ...                 14.522927\n",
            "30  2003  ...                 16.641166\n",
            "31  2003  ...                 26.542653\n",
            "32  2003  ...                 27.000000\n",
            "33  2003  ...                 30.524242\n",
            "34  2003  ...                 32.988889\n",
            "35  2003  ...                 34.212000\n",
            "36  2003  ...                 42.933333\n",
            "\n",
            "[37 rows x 3 columns]\n",
            "Year 2003 the Dataset Rows are: 10978\n",
            "2004\n",
            "    Year  ... Mean_Result_Measure_Value\n",
            "0   2004  ...                 -4.652000\n",
            "1   2004  ...                 -2.705200\n",
            "2   2004  ...                 -0.158075\n",
            "3   2004  ...                  0.000000\n",
            "4   2004  ...                  0.191427\n",
            "5   2004  ...                  0.255728\n",
            "6   2004  ...                  0.417703\n",
            "7   2004  ...                  0.521278\n",
            "8   2004  ...                  0.545571\n",
            "9   2004  ...                  0.869467\n",
            "10  2004  ...                  0.904667\n",
            "11  2004  ...                  1.285631\n",
            "12  2004  ...                  1.333940\n",
            "13  2004  ...                  1.343750\n",
            "14  2004  ...                  1.591000\n",
            "15  2004  ...                  1.664817\n",
            "16  2004  ...                  2.062060\n",
            "17  2004  ...                  2.229407\n",
            "18  2004  ...                  2.399231\n",
            "19  2004  ...                  3.119579\n",
            "20  2004  ...                  4.037779\n",
            "21  2004  ...                  4.238367\n",
            "22  2004  ...                  4.303636\n",
            "23  2004  ...                  4.555054\n",
            "24  2004  ...                  4.582500\n",
            "25  2004  ...                  4.632624\n",
            "26  2004  ...                  5.244231\n",
            "27  2004  ...                  5.342986\n",
            "28  2004  ...                  5.721241\n",
            "29  2004  ...                  5.973000\n",
            "30  2004  ...                  6.523881\n",
            "31  2004  ...                  6.559353\n",
            "32  2004  ...                  6.865640\n",
            "33  2004  ...                  7.003636\n",
            "34  2004  ...                  8.259885\n",
            "35  2004  ...                  9.068904\n",
            "36  2004  ...                  9.688889\n",
            "37  2004  ...                 11.000000\n",
            "38  2004  ...                 14.380000\n",
            "39  2004  ...                 16.366553\n",
            "40  2004  ...                 18.206667\n",
            "41  2004  ...                 26.600000\n",
            "42  2004  ...                 27.932945\n",
            "43  2004  ...                 28.250000\n",
            "44  2004  ...                 33.041304\n",
            "45  2004  ...                 38.766667\n",
            "46  2004  ...                 41.800000\n",
            "\n",
            "[47 rows x 3 columns]\n",
            "Year 2004 the Dataset Rows are: 10371\n",
            "2005\n",
            "    Year  ... Mean_Result_Measure_Value\n",
            "0   2005  ...                 -1.544957\n",
            "1   2005  ...                 -0.702730\n",
            "2   2005  ...                 -0.235900\n",
            "3   2005  ...                 -0.195000\n",
            "4   2005  ...                 -0.092500\n",
            "5   2005  ...                 -0.022000\n",
            "6   2005  ...                 -0.004000\n",
            "7   2005  ...                  0.000400\n",
            "8   2005  ...                  0.001679\n",
            "9   2005  ...                  0.024553\n",
            "10  2005  ...                  0.097550\n",
            "11  2005  ...                  0.242725\n",
            "12  2005  ...                  0.342993\n",
            "13  2005  ...                  0.637484\n",
            "14  2005  ...                  0.656667\n",
            "15  2005  ...                  0.760112\n",
            "16  2005  ...                  1.191304\n",
            "17  2005  ...                  1.334773\n",
            "18  2005  ...                  1.600000\n",
            "19  2005  ...                  1.638904\n",
            "20  2005  ...                  1.894756\n",
            "21  2005  ...                  2.112400\n",
            "22  2005  ...                  2.500000\n",
            "23  2005  ...                  2.500000\n",
            "24  2005  ...                  2.600000\n",
            "25  2005  ...                  3.017500\n",
            "26  2005  ...                  3.022434\n",
            "27  2005  ...                  3.859919\n",
            "28  2005  ...                  4.000000\n",
            "29  2005  ...                  4.234225\n",
            "30  2005  ...                  4.508471\n",
            "31  2005  ...                  4.582374\n",
            "32  2005  ...                  4.900000\n",
            "33  2005  ...                  4.900000\n",
            "34  2005  ...                  4.907684\n",
            "35  2005  ...                  5.400000\n",
            "36  2005  ...                  6.162162\n",
            "37  2005  ...                  6.349964\n",
            "38  2005  ...                  7.044286\n",
            "39  2005  ...                  7.400000\n",
            "40  2005  ...                  7.419143\n",
            "41  2005  ...                  7.657191\n",
            "42  2005  ...                  9.250000\n",
            "43  2005  ...                  9.696667\n",
            "44  2005  ...                  9.982833\n",
            "45  2005  ...                 11.107333\n",
            "46  2005  ...                 11.243892\n",
            "47  2005  ...                 11.523636\n",
            "48  2005  ...                 12.157306\n",
            "49  2005  ...                 13.967286\n",
            "50  2005  ...                 14.992700\n",
            "51  2005  ...                 17.322584\n",
            "52  2005  ...                 18.700000\n",
            "53  2005  ...                 22.382051\n",
            "54  2005  ...                 38.000000\n",
            "55  2005  ...                 40.800000\n",
            "\n",
            "[56 rows x 3 columns]\n",
            "Year 2005 the Dataset Rows are: 11060\n",
            "2006\n",
            "    Year  ... Mean_Result_Measure_Value\n",
            "0   2006  ...                 -2.825333\n",
            "1   2006  ...                 -2.626667\n",
            "2   2006  ...                 -0.900000\n",
            "3   2006  ...                 -0.698700\n",
            "4   2006  ...                 -0.448000\n",
            "5   2006  ...                 -0.333333\n",
            "6   2006  ...                 -0.130550\n",
            "7   2006  ...                 -0.088767\n",
            "8   2006  ...                  0.000370\n",
            "9   2006  ...                  0.008500\n",
            "10  2006  ...                  0.015207\n",
            "11  2006  ...                  0.109630\n",
            "12  2006  ...                  0.140667\n",
            "13  2006  ...                  0.158263\n",
            "14  2006  ...                  0.366215\n",
            "15  2006  ...                  0.485000\n",
            "16  2006  ...                  0.495375\n",
            "17  2006  ...                  0.704684\n",
            "18  2006  ...                  0.981997\n",
            "19  2006  ...                  1.055865\n",
            "20  2006  ...                  1.446200\n",
            "21  2006  ...                  1.779401\n",
            "22  2006  ...                  1.917973\n",
            "23  2006  ...                  1.936117\n",
            "24  2006  ...                  2.331250\n",
            "25  2006  ...                  2.841471\n",
            "26  2006  ...                  3.019781\n",
            "27  2006  ...                  4.145826\n",
            "28  2006  ...                  4.434927\n",
            "29  2006  ...                  4.765248\n",
            "30  2006  ...                  4.929126\n",
            "31  2006  ...                  5.109356\n",
            "32  2006  ...                  5.618510\n",
            "33  2006  ...                  5.823448\n",
            "34  2006  ...                  5.971154\n",
            "35  2006  ...                  6.279286\n",
            "36  2006  ...                  9.434059\n",
            "37  2006  ...                 11.135338\n",
            "38  2006  ...                 12.139088\n",
            "39  2006  ...                 14.696427\n",
            "40  2006  ...                 15.003388\n",
            "41  2006  ...                 16.300000\n",
            "42  2006  ...                 21.329231\n",
            "43  2006  ...                 22.854545\n",
            "44  2006  ...                 24.115064\n",
            "45  2006  ...                 28.220000\n",
            "46  2006  ...                 29.166667\n",
            "47  2006  ...                 35.500000\n",
            "48  2006  ...                 48.000000\n",
            "\n",
            "[49 rows x 3 columns]\n",
            "Year 2006 the Dataset Rows are: 11411\n",
            "2007\n",
            "    Year  ... Mean_Result_Measure_Value\n",
            "0   2007  ...                 -1.257800\n",
            "1   2007  ...                 -0.434000\n",
            "2   2007  ...                  0.000003\n",
            "3   2007  ...                  0.000634\n",
            "4   2007  ...                  0.008288\n",
            "5   2007  ...                  0.014800\n",
            "6   2007  ...                  0.019286\n",
            "7   2007  ...                  0.036000\n",
            "8   2007  ...                  0.054000\n",
            "9   2007  ...                  0.057277\n",
            "10  2007  ...                  0.066351\n",
            "11  2007  ...                  0.082941\n",
            "12  2007  ...                  0.112640\n",
            "13  2007  ...                  0.131500\n",
            "14  2007  ...                  0.202500\n",
            "15  2007  ...                  0.272000\n",
            "16  2007  ...                  0.373435\n",
            "17  2007  ...                  0.397920\n",
            "18  2007  ...                  0.705857\n",
            "19  2007  ...                  0.862164\n",
            "20  2007  ...                  0.992800\n",
            "21  2007  ...                  1.005238\n",
            "22  2007  ...                  1.009091\n",
            "23  2007  ...                  1.080536\n",
            "24  2007  ...                  1.246000\n",
            "25  2007  ...                  1.278000\n",
            "26  2007  ...                  1.312000\n",
            "27  2007  ...                  1.400000\n",
            "28  2007  ...                  1.600000\n",
            "29  2007  ...                  1.625292\n",
            "30  2007  ...                  2.300000\n",
            "31  2007  ...                  2.444006\n",
            "32  2007  ...                  2.653030\n",
            "33  2007  ...                  3.562092\n",
            "34  2007  ...                  3.600000\n",
            "35  2007  ...                  3.849427\n",
            "36  2007  ...                  3.872000\n",
            "37  2007  ...                  3.920000\n",
            "38  2007  ...                  4.033333\n",
            "39  2007  ...                  4.356000\n",
            "40  2007  ...                  4.735198\n",
            "41  2007  ...                  5.141819\n",
            "42  2007  ...                  5.160000\n",
            "43  2007  ...                  5.598215\n",
            "44  2007  ...                  5.844312\n",
            "45  2007  ...                  6.266667\n",
            "46  2007  ...                  6.300000\n",
            "47  2007  ...                  6.700000\n",
            "48  2007  ...                  9.136667\n",
            "49  2007  ...                  9.817297\n",
            "50  2007  ...                 10.041451\n",
            "51  2007  ...                 10.968468\n",
            "52  2007  ...                 13.994500\n",
            "53  2007  ...                 17.008474\n",
            "54  2007  ...                 17.128030\n",
            "55  2007  ...                 17.150000\n",
            "56  2007  ...                 23.248788\n",
            "57  2007  ...                 24.624697\n",
            "\n",
            "[58 rows x 3 columns]\n",
            "Year 2007 the Dataset Rows are: 12548\n",
            "2008\n",
            "    Year  ... Mean_Result_Measure_Value\n",
            "0   2008  ...                -13.500000\n",
            "1   2008  ...                 -6.000000\n",
            "2   2008  ...                 -2.234444\n",
            "3   2008  ...                 -0.999189\n",
            "4   2008  ...                 -0.117166\n",
            "5   2008  ...                 -0.079194\n",
            "6   2008  ...                 -0.044318\n",
            "7   2008  ...                 -0.026191\n",
            "8   2008  ...                  0.005200\n",
            "9   2008  ...                  0.015129\n",
            "10  2008  ...                  0.083333\n",
            "11  2008  ...                  0.094620\n",
            "12  2008  ...                  0.354444\n",
            "13  2008  ...                  0.743333\n",
            "14  2008  ...                  0.762963\n",
            "15  2008  ...                  0.768600\n",
            "16  2008  ...                  0.935714\n",
            "17  2008  ...                  1.234000\n",
            "18  2008  ...                  1.332772\n",
            "19  2008  ...                  1.400000\n",
            "20  2008  ...                  1.702111\n",
            "21  2008  ...                  1.800017\n",
            "22  2008  ...                  1.900000\n",
            "23  2008  ...                  2.266211\n",
            "24  2008  ...                  2.314077\n",
            "25  2008  ...                  2.400000\n",
            "26  2008  ...                  3.453495\n",
            "27  2008  ...                  3.600000\n",
            "28  2008  ...                  3.833333\n",
            "29  2008  ...                  3.900000\n",
            "30  2008  ...                  3.911917\n",
            "31  2008  ...                  3.976556\n",
            "32  2008  ...                  4.019095\n",
            "33  2008  ...                  4.211497\n",
            "34  2008  ...                  4.305685\n",
            "35  2008  ...                  5.199230\n",
            "36  2008  ...                  6.063636\n",
            "37  2008  ...                  6.100000\n",
            "38  2008  ...                  6.419656\n",
            "39  2008  ...                  6.784889\n",
            "40  2008  ...                  7.742462\n",
            "41  2008  ...                  8.900000\n",
            "42  2008  ...                  9.777586\n",
            "43  2008  ...                  9.931500\n",
            "44  2008  ...                 10.240000\n",
            "45  2008  ...                 11.029059\n",
            "46  2008  ...                 13.791309\n",
            "47  2008  ...                 14.667778\n",
            "48  2008  ...                 15.183571\n",
            "49  2008  ...                 15.485606\n",
            "50  2008  ...                 20.249711\n",
            "51  2008  ...                 22.300000\n",
            "\n",
            "[52 rows x 3 columns]\n",
            "Year 2008 the Dataset Rows are: 9996\n",
            "2009\n",
            "    Year  ... Mean_Result_Measure_Value\n",
            "0   2009  ...                 -3.541587\n",
            "1   2009  ...                 -1.682714\n",
            "2   2009  ...                 -1.022813\n",
            "3   2009  ...                 -0.957125\n",
            "4   2009  ...                 -0.566778\n",
            "5   2009  ...                 -0.181442\n",
            "6   2009  ...                  0.000241\n",
            "7   2009  ...                  0.004631\n",
            "8   2009  ...                  0.019298\n",
            "9   2009  ...                  0.023495\n",
            "10  2009  ...                  0.055353\n",
            "11  2009  ...                  0.061872\n",
            "12  2009  ...                  0.260000\n",
            "13  2009  ...                  0.308861\n",
            "14  2009  ...                  0.347548\n",
            "15  2009  ...                  0.893667\n",
            "16  2009  ...                  0.970370\n",
            "17  2009  ...                  1.022964\n",
            "18  2009  ...                  1.029769\n",
            "19  2009  ...                  1.262125\n",
            "20  2009  ...                  1.421966\n",
            "21  2009  ...                  1.583875\n",
            "22  2009  ...                  1.600000\n",
            "23  2009  ...                  1.796062\n",
            "24  2009  ...                  1.952225\n",
            "25  2009  ...                  1.962806\n",
            "26  2009  ...                  2.000000\n",
            "27  2009  ...                  2.181034\n",
            "28  2009  ...                  2.700000\n",
            "29  2009  ...                  3.310769\n",
            "30  2009  ...                  3.527586\n",
            "31  2009  ...                  3.600000\n",
            "32  2009  ...                  3.600000\n",
            "33  2009  ...                  3.800000\n",
            "34  2009  ...                  4.000000\n",
            "35  2009  ...                  4.000000\n",
            "36  2009  ...                  4.150590\n",
            "37  2009  ...                  4.662096\n",
            "38  2009  ...                  4.800000\n",
            "39  2009  ...                  4.901631\n",
            "40  2009  ...                  4.941250\n",
            "41  2009  ...                  5.350000\n",
            "42  2009  ...                  5.521667\n",
            "43  2009  ...                  5.610803\n",
            "44  2009  ...                  5.800000\n",
            "45  2009  ...                  6.380909\n",
            "46  2009  ...                  8.180683\n",
            "47  2009  ...                  8.556270\n",
            "48  2009  ...                  9.000000\n",
            "49  2009  ...                  9.782643\n",
            "50  2009  ...                 10.289725\n",
            "51  2009  ...                 12.860606\n",
            "52  2009  ...                 15.105345\n",
            "53  2009  ...                 22.300000\n",
            "54  2009  ...                 30.769231\n",
            "\n",
            "[55 rows x 3 columns]\n",
            "Year 2009 the Dataset Rows are: 9826\n",
            "2010\n",
            "    Year  ... Mean_Result_Measure_Value\n",
            "0   2010  ...                 -5.500000\n",
            "1   2010  ...                 -0.008333\n",
            "2   2010  ...                  0.000000\n",
            "3   2010  ...                  0.000000\n",
            "4   2010  ...                  0.003504\n",
            "5   2010  ...                  0.010831\n",
            "6   2010  ...                  0.016306\n",
            "7   2010  ...                  0.040000\n",
            "8   2010  ...                  0.061347\n",
            "9   2010  ...                  0.110000\n",
            "10  2010  ...                  0.167857\n",
            "11  2010  ...                  0.244000\n",
            "12  2010  ...                  0.312145\n",
            "13  2010  ...                  0.445567\n",
            "14  2010  ...                  0.764286\n",
            "15  2010  ...                  1.137667\n",
            "16  2010  ...                  1.805337\n",
            "17  2010  ...                  2.078026\n",
            "18  2010  ...                  2.515313\n",
            "19  2010  ...                  2.589286\n",
            "20  2010  ...                  2.753526\n",
            "21  2010  ...                  2.932122\n",
            "22  2010  ...                  3.701876\n",
            "23  2010  ...                  4.078129\n",
            "24  2010  ...                  4.235142\n",
            "25  2010  ...                  4.549618\n",
            "26  2010  ...                  4.692264\n",
            "27  2010  ...                  4.970288\n",
            "28  2010  ...                  5.260784\n",
            "29  2010  ...                  5.892632\n",
            "30  2010  ...                  5.963889\n",
            "31  2010  ...                  6.997483\n",
            "32  2010  ...                  7.866389\n",
            "33  2010  ...                  8.150365\n",
            "34  2010  ...                  9.777778\n",
            "35  2010  ...                 10.084769\n",
            "36  2010  ...                 15.047926\n",
            "37  2010  ...                 23.812500\n",
            "38  2010  ...                 28.200000\n",
            "39  2010  ...                 32.783333\n",
            "\n",
            "[40 rows x 3 columns]\n",
            "Year 2010 the Dataset Rows are: 10684\n",
            "2011\n",
            "    Year  ... Mean_Result_Measure_Value\n",
            "0   2011  ...                -11.000000\n",
            "1   2011  ...                 -4.308000\n",
            "2   2011  ...                 -2.206833\n",
            "3   2011  ...                 -1.794500\n",
            "4   2011  ...                 -0.411934\n",
            "5   2011  ...                 -0.050167\n",
            "6   2011  ...                  0.000000\n",
            "7   2011  ...                  0.009238\n",
            "8   2011  ...                  0.021831\n",
            "9   2011  ...                  0.041219\n",
            "10  2011  ...                  0.081582\n",
            "11  2011  ...                  0.128571\n",
            "12  2011  ...                  0.392202\n",
            "13  2011  ...                  0.407082\n",
            "14  2011  ...                  0.783333\n",
            "15  2011  ...                  0.847523\n",
            "16  2011  ...                  1.389138\n",
            "17  2011  ...                  1.520547\n",
            "18  2011  ...                  1.623333\n",
            "19  2011  ...                  1.719587\n",
            "20  2011  ...                  1.940650\n",
            "21  2011  ...                  2.020441\n",
            "22  2011  ...                  2.452804\n",
            "23  2011  ...                  2.510745\n",
            "24  2011  ...                  2.891667\n",
            "25  2011  ...                  3.168605\n",
            "26  2011  ...                  3.441481\n",
            "27  2011  ...                  3.474286\n",
            "28  2011  ...                  3.533453\n",
            "29  2011  ...                  3.716667\n",
            "30  2011  ...                  3.941713\n",
            "31  2011  ...                  3.952882\n",
            "32  2011  ...                  3.976942\n",
            "33  2011  ...                  4.292748\n",
            "34  2011  ...                  4.423000\n",
            "35  2011  ...                  5.397880\n",
            "36  2011  ...                  5.869236\n",
            "37  2011  ...                  6.134218\n",
            "38  2011  ...                  6.442611\n",
            "39  2011  ...                  7.200000\n",
            "40  2011  ...                  7.717308\n",
            "41  2011  ...                  8.460000\n",
            "42  2011  ...                  9.000000\n",
            "43  2011  ...                  9.079487\n",
            "44  2011  ...                  9.119163\n",
            "45  2011  ...                 10.668000\n",
            "46  2011  ...                 18.223529\n",
            "47  2011  ...                 20.347692\n",
            "48  2011  ...                 23.692308\n",
            "49  2011  ...                 25.000000\n",
            "50  2011  ...                 28.363615\n",
            "\n",
            "[51 rows x 3 columns]\n",
            "Year 2011 the Dataset Rows are: 14003\n",
            "2012\n",
            "    Year  ... Mean_Result_Measure_Value\n",
            "0   2012  ...                 -0.300000\n",
            "1   2012  ...                 -0.063077\n",
            "2   2012  ...                  0.000000\n",
            "3   2012  ...                  0.000000\n",
            "4   2012  ...                  0.062222\n",
            "5   2012  ...                  0.102067\n",
            "6   2012  ...                  0.164213\n",
            "7   2012  ...                  0.197173\n",
            "8   2012  ...                  0.202067\n",
            "9   2012  ...                  0.221154\n",
            "10  2012  ...                  0.235333\n",
            "11  2012  ...                  0.288711\n",
            "12  2012  ...                  0.302595\n",
            "13  2012  ...                  0.315789\n",
            "14  2012  ...                  0.327634\n",
            "15  2012  ...                  0.807143\n",
            "16  2012  ...                  0.829916\n",
            "17  2012  ...                  0.910000\n",
            "18  2012  ...                  1.201818\n",
            "19  2012  ...                  1.472083\n",
            "20  2012  ...                  1.491667\n",
            "21  2012  ...                  1.945715\n",
            "22  2012  ...                  2.604406\n",
            "23  2012  ...                  2.782118\n",
            "24  2012  ...                  2.927895\n",
            "25  2012  ...                  3.571585\n",
            "26  2012  ...                  4.043333\n",
            "27  2012  ...                  4.247273\n",
            "28  2012  ...                  4.716743\n",
            "29  2012  ...                  5.000000\n",
            "30  2012  ...                  5.012593\n",
            "31  2012  ...                  5.047500\n",
            "32  2012  ...                  5.225609\n",
            "33  2012  ...                  5.819531\n",
            "34  2012  ...                  6.007593\n",
            "35  2012  ...                  6.170732\n",
            "36  2012  ...                  6.446493\n",
            "37  2012  ...                  6.551699\n",
            "38  2012  ...                  6.806864\n",
            "39  2012  ...                  7.029193\n",
            "40  2012  ...                 16.000000\n",
            "41  2012  ...                 18.850000\n",
            "42  2012  ...                 20.992857\n",
            "43  2012  ...                 27.490000\n",
            "\n",
            "[44 rows x 3 columns]\n",
            "Year 2012 the Dataset Rows are: 13962\n",
            "2013\n",
            "    Year  ... Mean_Result_Measure_Value\n",
            "0   2013  ...                 -4.180000\n",
            "1   2013  ...                 -0.095000\n",
            "2   2013  ...                  0.000000\n",
            "3   2013  ...                  0.060000\n",
            "4   2013  ...                  0.064182\n",
            "5   2013  ...                  0.075824\n",
            "6   2013  ...                  0.118915\n",
            "7   2013  ...                  0.124386\n",
            "8   2013  ...                  0.188415\n",
            "9   2013  ...                  0.438648\n",
            "10  2013  ...                  0.581292\n",
            "11  2013  ...                  0.728739\n",
            "12  2013  ...                  0.773496\n",
            "13  2013  ...                  1.108634\n",
            "14  2013  ...                  1.799909\n",
            "15  2013  ...                  1.957474\n",
            "16  2013  ...                  2.936195\n",
            "17  2013  ...                  3.332563\n",
            "18  2013  ...                  3.458756\n",
            "19  2013  ...                  4.132353\n",
            "20  2013  ...                  4.900905\n",
            "21  2013  ...                  4.910202\n",
            "22  2013  ...                  5.000000\n",
            "23  2013  ...                  5.400000\n",
            "24  2013  ...                  5.889723\n",
            "25  2013  ...                  6.007143\n",
            "26  2013  ...                  6.334394\n",
            "27  2013  ...                  6.362411\n",
            "28  2013  ...                  6.771197\n",
            "29  2013  ...                  8.040637\n",
            "30  2013  ...                  8.593951\n",
            "31  2013  ...                 10.461836\n",
            "32  2013  ...                 12.311111\n",
            "33  2013  ...                 18.000000\n",
            "34  2013  ...                 27.940000\n",
            "35  2013  ...                 32.466667\n",
            "36  2013  ...                 34.857143\n",
            "\n",
            "[37 rows x 3 columns]\n",
            "Year 2013 the Dataset Rows are: 16073\n",
            "2014\n",
            "    Year  ... Mean_Result_Measure_Value\n",
            "0   2014  ...                 -2.812500\n",
            "1   2014  ...                 -0.700000\n",
            "2   2014  ...                  0.000000\n",
            "3   2014  ...                  0.071513\n",
            "4   2014  ...                  0.078862\n",
            "5   2014  ...                  0.110517\n",
            "6   2014  ...                  0.153172\n",
            "7   2014  ...                  0.194357\n",
            "8   2014  ...                  0.230000\n",
            "9   2014  ...                  0.451908\n",
            "10  2014  ...                  0.810000\n",
            "11  2014  ...                  0.930608\n",
            "12  2014  ...                  0.970413\n",
            "13  2014  ...                  1.074514\n",
            "14  2014  ...                  1.407500\n",
            "15  2014  ...                  1.890722\n",
            "16  2014  ...                  2.065472\n",
            "17  2014  ...                  2.886831\n",
            "18  2014  ...                  3.548312\n",
            "19  2014  ...                  3.708105\n",
            "20  2014  ...                  3.775833\n",
            "21  2014  ...                  4.187202\n",
            "22  2014  ...                  4.400000\n",
            "23  2014  ...                  5.288373\n",
            "24  2014  ...                  5.364153\n",
            "25  2014  ...                  5.454092\n",
            "26  2014  ...                  7.156310\n",
            "27  2014  ...                  7.727053\n",
            "28  2014  ...                  7.882737\n",
            "29  2014  ...                  8.177942\n",
            "30  2014  ...                  8.499425\n",
            "31  2014  ...                 11.529898\n",
            "32  2014  ...                 12.565556\n",
            "33  2014  ...                 14.613740\n",
            "34  2014  ...                 15.057500\n",
            "35  2014  ...                 21.700000\n",
            "36  2014  ...                 22.000000\n",
            "37  2014  ...                 25.866667\n",
            "38  2014  ...                 29.400000\n",
            "39  2014  ...                 29.670000\n",
            "40  2014  ...                 38.540000\n",
            "\n",
            "[41 rows x 3 columns]\n",
            "Year 2014 the Dataset Rows are: 16644\n",
            "2015\n",
            "    Year  ... Mean_Result_Measure_Value\n",
            "0   2015  ...                 -0.090706\n",
            "1   2015  ...                  0.030000\n",
            "2   2015  ...                  0.065238\n",
            "3   2015  ...                  0.069353\n",
            "4   2015  ...                  0.095654\n",
            "5   2015  ...                  0.193765\n",
            "6   2015  ...                  0.275000\n",
            "7   2015  ...                  0.409242\n",
            "8   2015  ...                  0.510555\n",
            "9   2015  ...                  0.595000\n",
            "10  2015  ...                  0.777187\n",
            "11  2015  ...                  1.071497\n",
            "12  2015  ...                  1.212649\n",
            "13  2015  ...                  1.350771\n",
            "14  2015  ...                  1.385385\n",
            "15  2015  ...                  1.402500\n",
            "16  2015  ...                  1.415556\n",
            "17  2015  ...                  3.041881\n",
            "18  2015  ...                  3.587033\n",
            "19  2015  ...                  4.514718\n",
            "20  2015  ...                  4.783333\n",
            "21  2015  ...                  4.893598\n",
            "22  2015  ...                  5.194056\n",
            "23  2015  ...                  5.507238\n",
            "24  2015  ...                  5.592925\n",
            "25  2015  ...                  5.788889\n",
            "26  2015  ...                  5.809472\n",
            "27  2015  ...                  5.899037\n",
            "28  2015  ...                  6.261818\n",
            "29  2015  ...                  6.990873\n",
            "30  2015  ...                  8.838356\n",
            "31  2015  ...                  9.316796\n",
            "32  2015  ...                 11.100442\n",
            "33  2015  ...                 13.874347\n",
            "34  2015  ...                 16.000000\n",
            "35  2015  ...                 18.600000\n",
            "36  2015  ...                 26.635484\n",
            "\n",
            "[37 rows x 3 columns]\n",
            "Year 2015 the Dataset Rows are: 17205\n",
            "2016\n",
            "    Year  ... Mean_Result_Measure_Value\n",
            "0   2016  ...                 -0.235000\n",
            "1   2016  ...                 -0.163636\n",
            "2   2016  ...                 -0.084138\n",
            "3   2016  ...                  0.032857\n",
            "4   2016  ...                  0.044286\n",
            "5   2016  ...                  0.095655\n",
            "6   2016  ...                  0.113354\n",
            "7   2016  ...                  0.216207\n",
            "8   2016  ...                  0.410000\n",
            "9   2016  ...                  0.457999\n",
            "10  2016  ...                  0.477374\n",
            "11  2016  ...                  0.550000\n",
            "12  2016  ...                  0.929498\n",
            "13  2016  ...                  1.341572\n",
            "14  2016  ...                  1.590718\n",
            "15  2016  ...                  1.858368\n",
            "16  2016  ...                  2.558318\n",
            "17  2016  ...                  2.600221\n",
            "18  2016  ...                  2.718845\n",
            "19  2016  ...                  3.985583\n",
            "20  2016  ...                  4.062737\n",
            "21  2016  ...                  4.186360\n",
            "22  2016  ...                  4.407379\n",
            "23  2016  ...                  5.927827\n",
            "24  2016  ...                  6.143333\n",
            "25  2016  ...                  6.950275\n",
            "26  2016  ...                  7.255052\n",
            "27  2016  ...                  9.392632\n",
            "28  2016  ...                  9.670128\n",
            "29  2016  ...                 10.310843\n",
            "30  2016  ...                 11.988851\n",
            "31  2016  ...                 22.000000\n",
            "32  2016  ...                 22.031915\n",
            "\n",
            "[33 rows x 3 columns]\n",
            "Year 2016 the Dataset Rows are: 17166\n",
            "2017\n",
            "    Year  ... Mean_Result_Measure_Value\n",
            "0   2017  ...                 -0.019238\n",
            "1   2017  ...                  0.020797\n",
            "2   2017  ...                  0.077259\n",
            "3   2017  ...                  0.260619\n",
            "4   2017  ...                  0.457857\n",
            "5   2017  ...                  0.662617\n",
            "6   2017  ...                  0.708286\n",
            "7   2017  ...                  0.934808\n",
            "8   2017  ...                  1.013435\n",
            "9   2017  ...                  1.166910\n",
            "10  2017  ...                  1.328112\n",
            "11  2017  ...                  1.614811\n",
            "12  2017  ...                  2.536250\n",
            "13  2017  ...                  2.580560\n",
            "14  2017  ...                  2.770356\n",
            "15  2017  ...                  3.312875\n",
            "16  2017  ...                  3.414247\n",
            "17  2017  ...                  3.678747\n",
            "18  2017  ...                  4.181919\n",
            "19  2017  ...                  4.230000\n",
            "20  2017  ...                  4.423257\n",
            "21  2017  ...                  4.864686\n",
            "22  2017  ...                  5.893913\n",
            "23  2017  ...                  6.285289\n",
            "24  2017  ...                  6.295238\n",
            "25  2017  ...                  6.900000\n",
            "26  2017  ...                  7.169817\n",
            "27  2017  ...                  8.300000\n",
            "28  2017  ...                 15.000000\n",
            "29  2017  ...                 20.023810\n",
            "30  2017  ...                 21.900000\n",
            "31  2017  ...                 26.300000\n",
            "\n",
            "[32 rows x 3 columns]\n",
            "Year 2017 the Dataset Rows are: 13936\n",
            "2018\n",
            "    Year  ... Mean_Result_Measure_Value\n",
            "0   2018  ...                 -0.065455\n",
            "1   2018  ...                  0.006000\n",
            "2   2018  ...                  0.020000\n",
            "3   2018  ...                  0.032727\n",
            "4   2018  ...                  0.080000\n",
            "5   2018  ...                  0.088614\n",
            "6   2018  ...                  0.135318\n",
            "7   2018  ...                  0.413018\n",
            "8   2018  ...                  0.444359\n",
            "9   2018  ...                  0.613219\n",
            "10  2018  ...                  0.650000\n",
            "11  2018  ...                  0.705214\n",
            "12  2018  ...                  0.756103\n",
            "13  2018  ...                  2.414867\n",
            "14  2018  ...                  3.147000\n",
            "15  2018  ...                  3.520449\n",
            "16  2018  ...                  3.747312\n",
            "17  2018  ...                  4.418281\n",
            "18  2018  ...                  4.432954\n",
            "19  2018  ...                  4.762808\n",
            "20  2018  ...                  5.619540\n",
            "21  2018  ...                  5.961139\n",
            "22  2018  ...                  6.080550\n",
            "23  2018  ...                  6.235891\n",
            "24  2018  ...                  7.940956\n",
            "25  2018  ...                  8.200000\n",
            "26  2018  ...                 10.134383\n",
            "27  2018  ...                 13.000000\n",
            "28  2018  ...                 21.000000\n",
            "\n",
            "[29 rows x 3 columns]\n",
            "Year 2018 the Dataset Rows are: 12606\n",
            "2019\n",
            "    Year  ... Mean_Result_Measure_Value\n",
            "0   2019  ...                 -0.070958\n",
            "1   2019  ...                  0.040583\n",
            "2   2019  ...                  0.072125\n",
            "3   2019  ...                  0.090833\n",
            "4   2019  ...                  0.150000\n",
            "5   2019  ...                  0.377097\n",
            "6   2019  ...                  0.528433\n",
            "7   2019  ...                  0.690483\n",
            "8   2019  ...                  0.900000\n",
            "9   2019  ...                  1.313988\n",
            "10  2019  ...                  1.497579\n",
            "11  2019  ...                  1.962869\n",
            "12  2019  ...                  2.382316\n",
            "13  2019  ...                  2.493504\n",
            "14  2019  ...                  3.200536\n",
            "15  2019  ...                  3.525078\n",
            "16  2019  ...                  5.574428\n",
            "17  2019  ...                  5.579700\n",
            "18  2019  ...                  6.821423\n",
            "19  2019  ...                  7.600000\n",
            "20  2019  ...                  7.644396\n",
            "21  2019  ...                  9.157895\n",
            "22  2019  ...                  9.568487\n",
            "23  2019  ...                 15.390640\n",
            "24  2019  ...                 26.285714\n",
            "\n",
            "[25 rows x 3 columns]\n",
            "Year 2019 the Dataset Rows are: 10359\n",
            "2020\n",
            "    Year  ... Mean_Result_Measure_Value\n",
            "0   2020  ...                  0.000333\n",
            "1   2020  ...                  0.000889\n",
            "2   2020  ...                  0.004699\n",
            "3   2020  ...                  0.011778\n",
            "4   2020  ...                  0.218667\n",
            "5   2020  ...                  0.670614\n",
            "6   2020  ...                  1.357133\n",
            "7   2020  ...                  2.550000\n",
            "8   2020  ...                  2.849180\n",
            "9   2020  ...                  3.130964\n",
            "10  2020  ...                  3.138120\n",
            "11  2020  ...                  3.360738\n",
            "12  2020  ...                  3.874415\n",
            "13  2020  ...                  6.325529\n",
            "14  2020  ...                  6.963651\n",
            "15  2020  ...                  7.600000\n",
            "16  2020  ...                  7.990698\n",
            "17  2020  ...                  8.051957\n",
            "18  2020  ...                  9.834844\n",
            "19  2020  ...                 16.458031\n",
            "20  2020  ...                 17.500000\n",
            "21  2020  ...                 19.000000\n",
            "\n",
            "[22 rows x 3 columns]\n",
            "Year 2020 the Dataset Rows are: 4824\n"
          ]
        }
      ]
    },
    {
      "cell_type": "code",
      "metadata": {
        "colab": {
          "base_uri": "https://localhost:8080/",
          "height": 204
        },
        "id": "KwXsln7ZADAy",
        "outputId": "63b767db-ecb1-4034-91fd-48f285a23802"
      },
      "source": [
        "dfUSProcessed[dfUSProcessed['Mean_Result_Measure_Value'].isin(dfUSProcessed['Mean_Result_Measure_Value'].nlargest(n=5))]"
      ],
      "execution_count": null,
      "outputs": [
        {
          "output_type": "execute_result",
          "data": {
            "text/html": [
              "<div>\n",
              "<style scoped>\n",
              "    .dataframe tbody tr th:only-of-type {\n",
              "        vertical-align: middle;\n",
              "    }\n",
              "\n",
              "    .dataframe tbody tr th {\n",
              "        vertical-align: top;\n",
              "    }\n",
              "\n",
              "    .dataframe thead th {\n",
              "        text-align: right;\n",
              "    }\n",
              "</style>\n",
              "<table border=\"1\" class=\"dataframe\">\n",
              "  <thead>\n",
              "    <tr style=\"text-align: right;\">\n",
              "      <th></th>\n",
              "      <th>Year</th>\n",
              "      <th>Characteristic_Name</th>\n",
              "      <th>Mean_Result_Measure_Value</th>\n",
              "    </tr>\n",
              "  </thead>\n",
              "  <tbody>\n",
              "    <tr>\n",
              "      <th>45</th>\n",
              "      <td>2000</td>\n",
              "      <td>Thorium-234</td>\n",
              "      <td>48.800000</td>\n",
              "    </tr>\n",
              "    <tr>\n",
              "      <th>45</th>\n",
              "      <td>2001</td>\n",
              "      <td>Thorium-234</td>\n",
              "      <td>46.111111</td>\n",
              "    </tr>\n",
              "    <tr>\n",
              "      <th>36</th>\n",
              "      <td>2003</td>\n",
              "      <td>Bismuth-212</td>\n",
              "      <td>42.933333</td>\n",
              "    </tr>\n",
              "    <tr>\n",
              "      <th>46</th>\n",
              "      <td>2004</td>\n",
              "      <td>Actinium-228</td>\n",
              "      <td>41.800000</td>\n",
              "    </tr>\n",
              "    <tr>\n",
              "      <th>48</th>\n",
              "      <td>2006</td>\n",
              "      <td>Thorium-228</td>\n",
              "      <td>48.000000</td>\n",
              "    </tr>\n",
              "  </tbody>\n",
              "</table>\n",
              "</div>"
            ],
            "text/plain": [
              "    Year Characteristic_Name  Mean_Result_Measure_Value\n",
              "45  2000         Thorium-234                  48.800000\n",
              "45  2001         Thorium-234                  46.111111\n",
              "36  2003         Bismuth-212                  42.933333\n",
              "46  2004        Actinium-228                  41.800000\n",
              "48  2006         Thorium-228                  48.000000"
            ]
          },
          "metadata": {},
          "execution_count": 44
        }
      ]
    },
    {
      "cell_type": "code",
      "metadata": {
        "colab": {
          "base_uri": "https://localhost:8080/",
          "height": 419
        },
        "id": "-dP0hNox-llv",
        "outputId": "725a60e7-7694-4f8f-ce8a-74ff7726008d"
      },
      "source": [
        "dfUSProcessedTop5 = pd.DataFrame()\n",
        "for y in range(2000,2021):\n",
        "  dfTemp = dfUSProcessed[dfUSProcessed['Year'] == y]\n",
        "  tempData = dfTemp[dfTemp['Mean_Result_Measure_Value'].isin(dfTemp['Mean_Result_Measure_Value'].nlargest(n=5))]\n",
        "  dfUSProcessedTop5 = dfUSProcessedTop5.append(tempData)\n",
        "\n",
        "dfUSProcessedTop5"
      ],
      "execution_count": null,
      "outputs": [
        {
          "output_type": "execute_result",
          "data": {
            "text/html": [
              "<div>\n",
              "<style scoped>\n",
              "    .dataframe tbody tr th:only-of-type {\n",
              "        vertical-align: middle;\n",
              "    }\n",
              "\n",
              "    .dataframe tbody tr th {\n",
              "        vertical-align: top;\n",
              "    }\n",
              "\n",
              "    .dataframe thead th {\n",
              "        text-align: right;\n",
              "    }\n",
              "</style>\n",
              "<table border=\"1\" class=\"dataframe\">\n",
              "  <thead>\n",
              "    <tr style=\"text-align: right;\">\n",
              "      <th></th>\n",
              "      <th>Year</th>\n",
              "      <th>Characteristic_Name</th>\n",
              "      <th>Mean_Result_Measure_Value</th>\n",
              "    </tr>\n",
              "  </thead>\n",
              "  <tbody>\n",
              "    <tr>\n",
              "      <th>41</th>\n",
              "      <td>2000</td>\n",
              "      <td>Radium-223</td>\n",
              "      <td>26.606000</td>\n",
              "    </tr>\n",
              "    <tr>\n",
              "      <th>42</th>\n",
              "      <td>2000</td>\n",
              "      <td>Bismuth-212</td>\n",
              "      <td>29.500000</td>\n",
              "    </tr>\n",
              "    <tr>\n",
              "      <th>43</th>\n",
              "      <td>2000</td>\n",
              "      <td>Radon-219</td>\n",
              "      <td>39.600000</td>\n",
              "    </tr>\n",
              "    <tr>\n",
              "      <th>44</th>\n",
              "      <td>2000</td>\n",
              "      <td>Potassium-40</td>\n",
              "      <td>40.033333</td>\n",
              "    </tr>\n",
              "    <tr>\n",
              "      <th>45</th>\n",
              "      <td>2000</td>\n",
              "      <td>Thorium-234</td>\n",
              "      <td>48.800000</td>\n",
              "    </tr>\n",
              "    <tr>\n",
              "      <th>...</th>\n",
              "      <td>...</td>\n",
              "      <td>...</td>\n",
              "      <td>...</td>\n",
              "    </tr>\n",
              "    <tr>\n",
              "      <th>17</th>\n",
              "      <td>2020</td>\n",
              "      <td>Uranium-234</td>\n",
              "      <td>8.051957</td>\n",
              "    </tr>\n",
              "    <tr>\n",
              "      <th>18</th>\n",
              "      <td>2020</td>\n",
              "      <td>Gross beta radioactivity, (Strontium-Yttrium-9...</td>\n",
              "      <td>9.834844</td>\n",
              "    </tr>\n",
              "    <tr>\n",
              "      <th>19</th>\n",
              "      <td>2020</td>\n",
              "      <td>Gross alpha radioactivity, (Thorium-230 ref std)</td>\n",
              "      <td>16.458031</td>\n",
              "    </tr>\n",
              "    <tr>\n",
              "      <th>20</th>\n",
              "      <td>2020</td>\n",
              "      <td>Gross alpha radioactivity, (nat-Uranium ref std)</td>\n",
              "      <td>17.500000</td>\n",
              "    </tr>\n",
              "    <tr>\n",
              "      <th>21</th>\n",
              "      <td>2020</td>\n",
              "      <td>Radon-222</td>\n",
              "      <td>19.000000</td>\n",
              "    </tr>\n",
              "  </tbody>\n",
              "</table>\n",
              "<p>105 rows × 3 columns</p>\n",
              "</div>"
            ],
            "text/plain": [
              "    Year  ... Mean_Result_Measure_Value\n",
              "41  2000  ...                 26.606000\n",
              "42  2000  ...                 29.500000\n",
              "43  2000  ...                 39.600000\n",
              "44  2000  ...                 40.033333\n",
              "45  2000  ...                 48.800000\n",
              "..   ...  ...                       ...\n",
              "17  2020  ...                  8.051957\n",
              "18  2020  ...                  9.834844\n",
              "19  2020  ...                 16.458031\n",
              "20  2020  ...                 17.500000\n",
              "21  2020  ...                 19.000000\n",
              "\n",
              "[105 rows x 3 columns]"
            ]
          },
          "metadata": {},
          "execution_count": 45
        }
      ]
    },
    {
      "cell_type": "markdown",
      "metadata": {
        "id": "qZdgdRDOwC1v"
      },
      "source": [
        "### Interactive Bar Plot"
      ]
    },
    {
      "cell_type": "code",
      "metadata": {
        "colab": {
          "base_uri": "https://localhost:8080/",
          "height": 542
        },
        "id": "ll4QC_6quMVX",
        "outputId": "b48dd1f0-376f-48f6-a632-4a0f44f80cd3"
      },
      "source": [
        "fig = px.histogram(dfUSProcessedTop5, \n",
        "            x = \"Characteristic_Name\",\n",
        "             color = 'Year',\n",
        "             )\n",
        "fig.update_xaxes(categoryorder=\"total descending\")\n",
        "fig.show()"
      ],
      "execution_count": null,
      "outputs": [
        {
          "output_type": "display_data",
          "data": {
            "text/html": [
              "<html>\n",
              "<head><meta charset=\"utf-8\" /></head>\n",
              "<body>\n",
              "    <div>\n",
              "            <script src=\"https://cdnjs.cloudflare.com/ajax/libs/mathjax/2.7.5/MathJax.js?config=TeX-AMS-MML_SVG\"></script><script type=\"text/javascript\">if (window.MathJax) {MathJax.Hub.Config({SVG: {font: \"STIX-Web\"}});}</script>\n",
              "                <script type=\"text/javascript\">window.PlotlyConfig = {MathJaxConfig: 'local'};</script>\n",
              "        <script src=\"https://cdn.plot.ly/plotly-latest.min.js\"></script>    \n",
              "            <div id=\"b066a4eb-c387-4b4f-9cfc-67f6d7545670\" class=\"plotly-graph-div\" style=\"height:525px; width:100%;\"></div>\n",
              "            <script type=\"text/javascript\">\n",
              "                \n",
              "                    window.PLOTLYENV=window.PLOTLYENV || {};\n",
              "                    \n",
              "                if (document.getElementById(\"b066a4eb-c387-4b4f-9cfc-67f6d7545670\")) {\n",
              "                    Plotly.newPlot(\n",
              "                        'b066a4eb-c387-4b4f-9cfc-67f6d7545670',\n",
              "                        [{\"alignmentgroup\": \"True\", \"bingroup\": \"x\", \"hoverlabel\": {\"namelength\": 0}, \"hovertemplate\": \"Year=2000<br>Characteristic_Name=%{x}<br>count=%{y}\", \"legendgroup\": \"Year=2000\", \"marker\": {\"color\": \"#636efa\"}, \"name\": \"Year=2000\", \"offsetgroup\": \"Year=2000\", \"orientation\": \"v\", \"showlegend\": true, \"type\": \"histogram\", \"x\": [\"Radium-223\", \"Bismuth-212\", \"Radon-219\", \"Potassium-40\", \"Thorium-234\"], \"xaxis\": \"x\", \"yaxis\": \"y\"}, {\"alignmentgroup\": \"True\", \"bingroup\": \"x\", \"hoverlabel\": {\"namelength\": 0}, \"hovertemplate\": \"Year=2001<br>Characteristic_Name=%{x}<br>count=%{y}\", \"legendgroup\": \"Year=2001\", \"marker\": {\"color\": \"#EF553B\"}, \"name\": \"Year=2001\", \"offsetgroup\": \"Year=2001\", \"orientation\": \"v\", \"showlegend\": true, \"type\": \"histogram\", \"x\": [\"Bismuth-214\", \"Actinium-228\", \"Radon-222\", \"Bismuth-212\", \"Thorium-234\"], \"xaxis\": \"x\", \"yaxis\": \"y\"}, {\"alignmentgroup\": \"True\", \"bingroup\": \"x\", \"hoverlabel\": {\"namelength\": 0}, \"hovertemplate\": \"Year=2002<br>Characteristic_Name=%{x}<br>count=%{y}\", \"legendgroup\": \"Year=2002\", \"marker\": {\"color\": \"#00cc96\"}, \"name\": \"Year=2002\", \"offsetgroup\": \"Year=2002\", \"orientation\": \"v\", \"showlegend\": true, \"type\": \"histogram\", \"x\": [\"Bismuth-214\", \"Radon-222\", \"Lead-212\", \"Actinium-228\", \"Bismuth-212\"], \"xaxis\": \"x\", \"yaxis\": \"y\"}, {\"alignmentgroup\": \"True\", \"bingroup\": \"x\", \"hoverlabel\": {\"namelength\": 0}, \"hovertemplate\": \"Year=2003<br>Characteristic_Name=%{x}<br>count=%{y}\", \"legendgroup\": \"Year=2003\", \"marker\": {\"color\": \"#ab63fa\"}, \"name\": \"Year=2003\", \"offsetgroup\": \"Year=2003\", \"orientation\": \"v\", \"showlegend\": true, \"type\": \"histogram\", \"x\": [\"Actinium-228\", \"Lead-214\", \"Lead-212\", \"Bismuth-214\", \"Bismuth-212\"], \"xaxis\": \"x\", \"yaxis\": \"y\"}, {\"alignmentgroup\": \"True\", \"bingroup\": \"x\", \"hoverlabel\": {\"namelength\": 0}, \"hovertemplate\": \"Year=2004<br>Characteristic_Name=%{x}<br>count=%{y}\", \"legendgroup\": \"Year=2004\", \"marker\": {\"color\": \"#FFA15A\"}, \"name\": \"Year=2004\", \"offsetgroup\": \"Year=2004\", \"orientation\": \"v\", \"showlegend\": true, \"type\": \"histogram\", \"x\": [\"Radon-222\", \"Potassium-40\", \"Lead-214\", \"Bismuth-212\", \"Actinium-228\"], \"xaxis\": \"x\", \"yaxis\": \"y\"}, {\"alignmentgroup\": \"True\", \"bingroup\": \"x\", \"hoverlabel\": {\"namelength\": 0}, \"hovertemplate\": \"Year=2005<br>Characteristic_Name=%{x}<br>count=%{y}\", \"legendgroup\": \"Year=2005\", \"marker\": {\"color\": \"#19d3f3\"}, \"name\": \"Year=2005\", \"offsetgroup\": \"Year=2005\", \"orientation\": \"v\", \"showlegend\": true, \"type\": \"histogram\", \"x\": [\"Cesium-137\", \"Potassium-40\", \"Radon-222\", \"Bismuth-212\", \"Actinium-228\"], \"xaxis\": \"x\", \"yaxis\": \"y\"}, {\"alignmentgroup\": \"True\", \"bingroup\": \"x\", \"hoverlabel\": {\"namelength\": 0}, \"hovertemplate\": \"Year=2006<br>Characteristic_Name=%{x}<br>count=%{y}\", \"legendgroup\": \"Year=2006\", \"marker\": {\"color\": \"#FF6692\"}, \"name\": \"Year=2006\", \"offsetgroup\": \"Year=2006\", \"orientation\": \"v\", \"showlegend\": true, \"type\": \"histogram\", \"x\": [\"Radon-222\", \"Bismuth-212\", \"Potassium-40\", \"Thorium-230\", \"Thorium-228\"], \"xaxis\": \"x\", \"yaxis\": \"y\"}, {\"alignmentgroup\": \"True\", \"bingroup\": \"x\", \"hoverlabel\": {\"namelength\": 0}, \"hovertemplate\": \"Year=2007<br>Characteristic_Name=%{x}<br>count=%{y}\", \"legendgroup\": \"Year=2007\", \"marker\": {\"color\": \"#B6E880\"}, \"name\": \"Year=2007\", \"offsetgroup\": \"Year=2007\", \"orientation\": \"v\", \"showlegend\": true, \"type\": \"histogram\", \"x\": [\"Lead-214\", \"Uranium-238\", \"Thorium-234\", \"Bismuth-214\", \"Radon-222\"], \"xaxis\": \"x\", \"yaxis\": \"y\"}, {\"alignmentgroup\": \"True\", \"bingroup\": \"x\", \"hoverlabel\": {\"namelength\": 0}, \"hovertemplate\": \"Year=2008<br>Characteristic_Name=%{x}<br>count=%{y}\", \"legendgroup\": \"Year=2008\", \"marker\": {\"color\": \"#FF97FF\"}, \"name\": \"Year=2008\", \"offsetgroup\": \"Year=2008\", \"orientation\": \"v\", \"showlegend\": true, \"type\": \"histogram\", \"x\": [\"Potassium-40\", \"Bismuth-214\", \"Thorium-232\", \"Radon-222\", \"Actinium-228\"], \"xaxis\": \"x\", \"yaxis\": \"y\"}, {\"alignmentgroup\": \"True\", \"bingroup\": \"x\", \"hoverlabel\": {\"namelength\": 0}, \"hovertemplate\": \"Year=2009<br>Characteristic_Name=%{x}<br>count=%{y}\", \"legendgroup\": \"Year=2009\", \"marker\": {\"color\": \"#FECB52\"}, \"name\": \"Year=2009\", \"offsetgroup\": \"Year=2009\", \"orientation\": \"v\", \"showlegend\": true, \"type\": \"histogram\", \"x\": [\"Uranium-238\", \"Gross alpha radioactivity, (Thorium-230 ref std)\", \"Cesium-137\", \"Thorium-234\", \"Radon-222\"], \"xaxis\": \"x\", \"yaxis\": \"y\"}, {\"alignmentgroup\": \"True\", \"bingroup\": \"x\", \"hoverlabel\": {\"namelength\": 0}, \"hovertemplate\": \"Year=2010<br>Characteristic_Name=%{x}<br>count=%{y}\", \"legendgroup\": \"Year=2010\", \"marker\": {\"color\": \"#636efa\"}, \"name\": \"Year=2010\", \"offsetgroup\": \"Year=2010\", \"orientation\": \"v\", \"showlegend\": true, \"type\": \"histogram\", \"x\": [\"Thorium-232\", \"Cesium-137\", \"Radon-222\", \"Lead-214\", \"Bismuth-214\"], \"xaxis\": \"x\", \"yaxis\": \"y\"}, {\"alignmentgroup\": \"True\", \"bingroup\": \"x\", \"hoverlabel\": {\"namelength\": 0}, \"hovertemplate\": \"Year=2011<br>Characteristic_Name=%{x}<br>count=%{y}\", \"legendgroup\": \"Year=2011\", \"marker\": {\"color\": \"#EF553B\"}, \"name\": \"Year=2011\", \"offsetgroup\": \"Year=2011\", \"orientation\": \"v\", \"showlegend\": true, \"type\": \"histogram\", \"x\": [\"Radon-222\", \"Bismuth-214\", \"Thorium-230\", \"Thorium-234\", \"Thorium-228\"], \"xaxis\": \"x\", \"yaxis\": \"y\"}, {\"alignmentgroup\": \"True\", \"bingroup\": \"x\", \"hoverlabel\": {\"namelength\": 0}, \"hovertemplate\": \"Year=2012<br>Characteristic_Name=%{x}<br>count=%{y}\", \"legendgroup\": \"Year=2012\", \"marker\": {\"color\": \"#00cc96\"}, \"name\": \"Year=2012\", \"offsetgroup\": \"Year=2012\", \"orientation\": \"v\", \"showlegend\": true, \"type\": \"histogram\", \"x\": [\"Thorium-232\", \"Radioactivity, gross\", \"Bismuth-214\", \"Radon-222\", \"Lead-214\"], \"xaxis\": \"x\", \"yaxis\": \"y\"}, {\"alignmentgroup\": \"True\", \"bingroup\": \"x\", \"hoverlabel\": {\"namelength\": 0}, \"hovertemplate\": \"Year=2013<br>Characteristic_Name=%{x}<br>count=%{y}\", \"legendgroup\": \"Year=2013\", \"marker\": {\"color\": \"#ab63fa\"}, \"name\": \"Year=2013\", \"offsetgroup\": \"Year=2013\", \"orientation\": \"v\", \"showlegend\": true, \"type\": \"histogram\", \"x\": [\"Gross beta radioactivity, (Strontium-Yttrium-90 ref std)\", \"Radioactivity, gross\", \"Lead-214\", \"Bismuth-214\", \"Radon-222\"], \"xaxis\": \"x\", \"yaxis\": \"y\"}, {\"alignmentgroup\": \"True\", \"bingroup\": \"x\", \"hoverlabel\": {\"namelength\": 0}, \"hovertemplate\": \"Year=2014<br>Characteristic_Name=%{x}<br>count=%{y}\", \"legendgroup\": \"Year=2014\", \"marker\": {\"color\": \"#FFA15A\"}, \"name\": \"Year=2014\", \"offsetgroup\": \"Year=2014\", \"orientation\": \"v\", \"showlegend\": true, \"type\": \"histogram\", \"x\": [\"Radioactivity, gross\", \"Thorium-234\", \"Protactinium-234\", \"Radon-222\", \"Thallium-208\"], \"xaxis\": \"x\", \"yaxis\": \"y\"}, {\"alignmentgroup\": \"True\", \"bingroup\": \"x\", \"hoverlabel\": {\"namelength\": 0}, \"hovertemplate\": \"Year=2015<br>Characteristic_Name=%{x}<br>count=%{y}\", \"legendgroup\": \"Year=2015\", \"marker\": {\"color\": \"#19d3f3\"}, \"name\": \"Year=2015\", \"offsetgroup\": \"Year=2015\", \"orientation\": \"v\", \"showlegend\": true, \"type\": \"histogram\", \"x\": [\"Gross beta radioactivity, (Strontium-Yttrium-90 ref std)\", \"Cesium-137\", \"Radioactivity, gross\", \"Bismuth-214\", \"Radon-222\"], \"xaxis\": \"x\", \"yaxis\": \"y\"}, {\"alignmentgroup\": \"True\", \"bingroup\": \"x\", \"hoverlabel\": {\"namelength\": 0}, \"hovertemplate\": \"Year=2016<br>Characteristic_Name=%{x}<br>count=%{y}\", \"legendgroup\": \"Year=2016\", \"marker\": {\"color\": \"#FF6692\"}, \"name\": \"Year=2016\", \"offsetgroup\": \"Year=2016\", \"orientation\": \"v\", \"showlegend\": true, \"type\": \"histogram\", \"x\": [\"Gross alpha radioactivity, (Thorium-230 ref std)\", \"Cesium-137\", \"Gross beta radioactivity, (Strontium-Yttrium-90 ref std)\", \"Radioactivity, gross\", \"Radon-222\"], \"xaxis\": \"x\", \"yaxis\": \"y\"}, {\"alignmentgroup\": \"True\", \"bingroup\": \"x\", \"hoverlabel\": {\"namelength\": 0}, \"hovertemplate\": \"Year=2017<br>Characteristic_Name=%{x}<br>count=%{y}\", \"legendgroup\": \"Year=2017\", \"marker\": {\"color\": \"#B6E880\"}, \"name\": \"Year=2017\", \"offsetgroup\": \"Year=2017\", \"orientation\": \"v\", \"showlegend\": true, \"type\": \"histogram\", \"x\": [\"Cesium-134\", \"Radioactivity, gross\", \"Radon-222\", \"Bismuth-214\", \"Actinium-228\"], \"xaxis\": \"x\", \"yaxis\": \"y\"}, {\"alignmentgroup\": \"True\", \"bingroup\": \"x\", \"hoverlabel\": {\"namelength\": 0}, \"hovertemplate\": \"Year=2018<br>Characteristic_Name=%{x}<br>count=%{y}\", \"legendgroup\": \"Year=2018\", \"marker\": {\"color\": \"#FF97FF\"}, \"name\": \"Year=2018\", \"offsetgroup\": \"Year=2018\", \"orientation\": \"v\", \"showlegend\": true, \"type\": \"histogram\", \"x\": [\"Gross beta radioactivity, (Strontium-Yttrium-90 ref std)\", \"Nickel-63\", \"Gross alpha radioactivity, (Thorium-230 ref std)\", \"Radioactivity, gross\", \"Radon-222\"], \"xaxis\": \"x\", \"yaxis\": \"y\"}, {\"alignmentgroup\": \"True\", \"bingroup\": \"x\", \"hoverlabel\": {\"namelength\": 0}, \"hovertemplate\": \"Year=2019<br>Characteristic_Name=%{x}<br>count=%{y}\", \"legendgroup\": \"Year=2019\", \"marker\": {\"color\": \"#FECB52\"}, \"name\": \"Year=2019\", \"offsetgroup\": \"Year=2019\", \"orientation\": \"v\", \"showlegend\": true, \"type\": \"histogram\", \"x\": [\"Uranium-234\", \"Cesium-137\", \"Gross alpha radioactivity, (Thorium-230 ref std)\", \"Thorium-232\", \"Radon-222\"], \"xaxis\": \"x\", \"yaxis\": \"y\"}, {\"alignmentgroup\": \"True\", \"bingroup\": \"x\", \"hoverlabel\": {\"namelength\": 0}, \"hovertemplate\": \"Year=2020<br>Characteristic_Name=%{x}<br>count=%{y}\", \"legendgroup\": \"Year=2020\", \"marker\": {\"color\": \"#636efa\"}, \"name\": \"Year=2020\", \"offsetgroup\": \"Year=2020\", \"orientation\": \"v\", \"showlegend\": true, \"type\": \"histogram\", \"x\": [\"Uranium-234\", \"Gross beta radioactivity, (Strontium-Yttrium-90 ref std)\", \"Gross alpha radioactivity, (Thorium-230 ref std)\", \"Gross alpha radioactivity, (nat-Uranium ref std)\", \"Radon-222\"], \"xaxis\": \"x\", \"yaxis\": \"y\"}],\n",
              "                        {\"barmode\": \"relative\", \"legend\": {\"tracegroupgap\": 0}, \"margin\": {\"t\": 60}, \"template\": {\"data\": {\"bar\": [{\"error_x\": {\"color\": \"#2a3f5f\"}, \"error_y\": {\"color\": \"#2a3f5f\"}, \"marker\": {\"line\": {\"color\": \"#E5ECF6\", \"width\": 0.5}}, \"type\": \"bar\"}], \"barpolar\": [{\"marker\": {\"line\": {\"color\": \"#E5ECF6\", \"width\": 0.5}}, \"type\": \"barpolar\"}], \"carpet\": [{\"aaxis\": {\"endlinecolor\": \"#2a3f5f\", \"gridcolor\": \"white\", \"linecolor\": \"white\", \"minorgridcolor\": \"white\", \"startlinecolor\": \"#2a3f5f\"}, \"baxis\": {\"endlinecolor\": \"#2a3f5f\", \"gridcolor\": \"white\", \"linecolor\": \"white\", \"minorgridcolor\": \"white\", \"startlinecolor\": \"#2a3f5f\"}, \"type\": \"carpet\"}], \"choropleth\": [{\"colorbar\": {\"outlinewidth\": 0, \"ticks\": \"\"}, \"type\": \"choropleth\"}], \"contour\": [{\"colorbar\": {\"outlinewidth\": 0, \"ticks\": \"\"}, \"colorscale\": [[0.0, \"#0d0887\"], [0.1111111111111111, \"#46039f\"], [0.2222222222222222, \"#7201a8\"], [0.3333333333333333, \"#9c179e\"], [0.4444444444444444, \"#bd3786\"], [0.5555555555555556, \"#d8576b\"], [0.6666666666666666, \"#ed7953\"], [0.7777777777777778, \"#fb9f3a\"], [0.8888888888888888, \"#fdca26\"], [1.0, \"#f0f921\"]], \"type\": \"contour\"}], \"contourcarpet\": [{\"colorbar\": {\"outlinewidth\": 0, \"ticks\": \"\"}, \"type\": \"contourcarpet\"}], \"heatmap\": [{\"colorbar\": {\"outlinewidth\": 0, \"ticks\": \"\"}, \"colorscale\": [[0.0, \"#0d0887\"], [0.1111111111111111, \"#46039f\"], [0.2222222222222222, \"#7201a8\"], [0.3333333333333333, \"#9c179e\"], [0.4444444444444444, \"#bd3786\"], [0.5555555555555556, \"#d8576b\"], [0.6666666666666666, \"#ed7953\"], [0.7777777777777778, \"#fb9f3a\"], [0.8888888888888888, \"#fdca26\"], [1.0, \"#f0f921\"]], \"type\": \"heatmap\"}], \"heatmapgl\": [{\"colorbar\": {\"outlinewidth\": 0, \"ticks\": \"\"}, \"colorscale\": [[0.0, \"#0d0887\"], [0.1111111111111111, \"#46039f\"], [0.2222222222222222, \"#7201a8\"], [0.3333333333333333, \"#9c179e\"], [0.4444444444444444, \"#bd3786\"], [0.5555555555555556, \"#d8576b\"], [0.6666666666666666, \"#ed7953\"], [0.7777777777777778, \"#fb9f3a\"], [0.8888888888888888, \"#fdca26\"], [1.0, \"#f0f921\"]], \"type\": \"heatmapgl\"}], \"histogram\": [{\"marker\": {\"colorbar\": {\"outlinewidth\": 0, \"ticks\": \"\"}}, \"type\": \"histogram\"}], \"histogram2d\": [{\"colorbar\": {\"outlinewidth\": 0, \"ticks\": \"\"}, \"colorscale\": [[0.0, \"#0d0887\"], [0.1111111111111111, \"#46039f\"], [0.2222222222222222, \"#7201a8\"], [0.3333333333333333, \"#9c179e\"], [0.4444444444444444, \"#bd3786\"], [0.5555555555555556, \"#d8576b\"], [0.6666666666666666, \"#ed7953\"], [0.7777777777777778, \"#fb9f3a\"], [0.8888888888888888, \"#fdca26\"], [1.0, \"#f0f921\"]], \"type\": \"histogram2d\"}], \"histogram2dcontour\": [{\"colorbar\": {\"outlinewidth\": 0, \"ticks\": \"\"}, \"colorscale\": [[0.0, \"#0d0887\"], [0.1111111111111111, \"#46039f\"], [0.2222222222222222, \"#7201a8\"], [0.3333333333333333, \"#9c179e\"], [0.4444444444444444, \"#bd3786\"], [0.5555555555555556, \"#d8576b\"], [0.6666666666666666, \"#ed7953\"], [0.7777777777777778, \"#fb9f3a\"], [0.8888888888888888, \"#fdca26\"], [1.0, \"#f0f921\"]], \"type\": \"histogram2dcontour\"}], \"mesh3d\": [{\"colorbar\": {\"outlinewidth\": 0, \"ticks\": \"\"}, \"type\": \"mesh3d\"}], \"parcoords\": [{\"line\": {\"colorbar\": {\"outlinewidth\": 0, \"ticks\": \"\"}}, \"type\": \"parcoords\"}], \"pie\": [{\"automargin\": true, \"type\": \"pie\"}], \"scatter\": [{\"marker\": {\"colorbar\": {\"outlinewidth\": 0, \"ticks\": \"\"}}, \"type\": \"scatter\"}], \"scatter3d\": [{\"line\": {\"colorbar\": {\"outlinewidth\": 0, \"ticks\": \"\"}}, \"marker\": {\"colorbar\": {\"outlinewidth\": 0, \"ticks\": \"\"}}, \"type\": \"scatter3d\"}], \"scattercarpet\": [{\"marker\": {\"colorbar\": {\"outlinewidth\": 0, \"ticks\": \"\"}}, \"type\": \"scattercarpet\"}], \"scattergeo\": [{\"marker\": {\"colorbar\": {\"outlinewidth\": 0, \"ticks\": \"\"}}, \"type\": \"scattergeo\"}], \"scattergl\": [{\"marker\": {\"colorbar\": {\"outlinewidth\": 0, \"ticks\": \"\"}}, \"type\": \"scattergl\"}], \"scattermapbox\": [{\"marker\": {\"colorbar\": {\"outlinewidth\": 0, \"ticks\": \"\"}}, \"type\": \"scattermapbox\"}], \"scatterpolar\": [{\"marker\": {\"colorbar\": {\"outlinewidth\": 0, \"ticks\": \"\"}}, \"type\": \"scatterpolar\"}], \"scatterpolargl\": [{\"marker\": {\"colorbar\": {\"outlinewidth\": 0, \"ticks\": \"\"}}, \"type\": \"scatterpolargl\"}], \"scatterternary\": [{\"marker\": {\"colorbar\": {\"outlinewidth\": 0, \"ticks\": \"\"}}, \"type\": \"scatterternary\"}], \"surface\": [{\"colorbar\": {\"outlinewidth\": 0, \"ticks\": \"\"}, \"colorscale\": [[0.0, \"#0d0887\"], [0.1111111111111111, \"#46039f\"], [0.2222222222222222, \"#7201a8\"], [0.3333333333333333, \"#9c179e\"], [0.4444444444444444, \"#bd3786\"], [0.5555555555555556, \"#d8576b\"], [0.6666666666666666, \"#ed7953\"], [0.7777777777777778, \"#fb9f3a\"], [0.8888888888888888, \"#fdca26\"], [1.0, \"#f0f921\"]], \"type\": \"surface\"}], \"table\": [{\"cells\": {\"fill\": {\"color\": \"#EBF0F8\"}, \"line\": {\"color\": \"white\"}}, \"header\": {\"fill\": {\"color\": \"#C8D4E3\"}, \"line\": {\"color\": \"white\"}}, \"type\": \"table\"}]}, \"layout\": {\"annotationdefaults\": {\"arrowcolor\": \"#2a3f5f\", \"arrowhead\": 0, \"arrowwidth\": 1}, \"coloraxis\": {\"colorbar\": {\"outlinewidth\": 0, \"ticks\": \"\"}}, \"colorscale\": {\"diverging\": [[0, \"#8e0152\"], [0.1, \"#c51b7d\"], [0.2, \"#de77ae\"], [0.3, \"#f1b6da\"], [0.4, \"#fde0ef\"], [0.5, \"#f7f7f7\"], [0.6, \"#e6f5d0\"], [0.7, \"#b8e186\"], [0.8, \"#7fbc41\"], [0.9, \"#4d9221\"], [1, \"#276419\"]], \"sequential\": [[0.0, \"#0d0887\"], [0.1111111111111111, \"#46039f\"], [0.2222222222222222, \"#7201a8\"], [0.3333333333333333, \"#9c179e\"], [0.4444444444444444, \"#bd3786\"], [0.5555555555555556, \"#d8576b\"], [0.6666666666666666, \"#ed7953\"], [0.7777777777777778, \"#fb9f3a\"], [0.8888888888888888, \"#fdca26\"], [1.0, \"#f0f921\"]], \"sequentialminus\": [[0.0, \"#0d0887\"], [0.1111111111111111, \"#46039f\"], [0.2222222222222222, \"#7201a8\"], [0.3333333333333333, \"#9c179e\"], [0.4444444444444444, \"#bd3786\"], [0.5555555555555556, \"#d8576b\"], [0.6666666666666666, \"#ed7953\"], [0.7777777777777778, \"#fb9f3a\"], [0.8888888888888888, \"#fdca26\"], [1.0, \"#f0f921\"]]}, \"colorway\": [\"#636efa\", \"#EF553B\", \"#00cc96\", \"#ab63fa\", \"#FFA15A\", \"#19d3f3\", \"#FF6692\", \"#B6E880\", \"#FF97FF\", \"#FECB52\"], \"font\": {\"color\": \"#2a3f5f\"}, \"geo\": {\"bgcolor\": \"white\", \"lakecolor\": \"white\", \"landcolor\": \"#E5ECF6\", \"showlakes\": true, \"showland\": true, \"subunitcolor\": \"white\"}, \"hoverlabel\": {\"align\": \"left\"}, \"hovermode\": \"closest\", \"mapbox\": {\"style\": \"light\"}, \"paper_bgcolor\": \"white\", \"plot_bgcolor\": \"#E5ECF6\", \"polar\": {\"angularaxis\": {\"gridcolor\": \"white\", \"linecolor\": \"white\", \"ticks\": \"\"}, \"bgcolor\": \"#E5ECF6\", \"radialaxis\": {\"gridcolor\": \"white\", \"linecolor\": \"white\", \"ticks\": \"\"}}, \"scene\": {\"xaxis\": {\"backgroundcolor\": \"#E5ECF6\", \"gridcolor\": \"white\", \"gridwidth\": 2, \"linecolor\": \"white\", \"showbackground\": true, \"ticks\": \"\", \"zerolinecolor\": \"white\"}, \"yaxis\": {\"backgroundcolor\": \"#E5ECF6\", \"gridcolor\": \"white\", \"gridwidth\": 2, \"linecolor\": \"white\", \"showbackground\": true, \"ticks\": \"\", \"zerolinecolor\": \"white\"}, \"zaxis\": {\"backgroundcolor\": \"#E5ECF6\", \"gridcolor\": \"white\", \"gridwidth\": 2, \"linecolor\": \"white\", \"showbackground\": true, \"ticks\": \"\", \"zerolinecolor\": \"white\"}}, \"shapedefaults\": {\"line\": {\"color\": \"#2a3f5f\"}}, \"ternary\": {\"aaxis\": {\"gridcolor\": \"white\", \"linecolor\": \"white\", \"ticks\": \"\"}, \"baxis\": {\"gridcolor\": \"white\", \"linecolor\": \"white\", \"ticks\": \"\"}, \"bgcolor\": \"#E5ECF6\", \"caxis\": {\"gridcolor\": \"white\", \"linecolor\": \"white\", \"ticks\": \"\"}}, \"title\": {\"x\": 0.05}, \"xaxis\": {\"automargin\": true, \"gridcolor\": \"white\", \"linecolor\": \"white\", \"ticks\": \"\", \"title\": {\"standoff\": 15}, \"zerolinecolor\": \"white\", \"zerolinewidth\": 2}, \"yaxis\": {\"automargin\": true, \"gridcolor\": \"white\", \"linecolor\": \"white\", \"ticks\": \"\", \"title\": {\"standoff\": 15}, \"zerolinecolor\": \"white\", \"zerolinewidth\": 2}}}, \"xaxis\": {\"anchor\": \"y\", \"categoryorder\": \"total descending\", \"domain\": [0.0, 1.0], \"title\": {\"text\": \"Characteristic_Name\"}}, \"yaxis\": {\"anchor\": \"x\", \"domain\": [0.0, 1.0], \"title\": {\"text\": \"count\"}}},\n",
              "                        {\"responsive\": true}\n",
              "                    ).then(function(){\n",
              "                            \n",
              "var gd = document.getElementById('b066a4eb-c387-4b4f-9cfc-67f6d7545670');\n",
              "var x = new MutationObserver(function (mutations, observer) {{\n",
              "        var display = window.getComputedStyle(gd).display;\n",
              "        if (!display || display === 'none') {{\n",
              "            console.log([gd, 'removed!']);\n",
              "            Plotly.purge(gd);\n",
              "            observer.disconnect();\n",
              "        }}\n",
              "}});\n",
              "\n",
              "// Listen for the removal of the full notebook cells\n",
              "var notebookContainer = gd.closest('#notebook-container');\n",
              "if (notebookContainer) {{\n",
              "    x.observe(notebookContainer, {childList: true});\n",
              "}}\n",
              "\n",
              "// Listen for the clearing of the current output cell\n",
              "var outputEl = gd.closest('.output');\n",
              "if (outputEl) {{\n",
              "    x.observe(outputEl, {childList: true});\n",
              "}}\n",
              "\n",
              "                        })\n",
              "                };\n",
              "                \n",
              "            </script>\n",
              "        </div>\n",
              "</body>\n",
              "</html>"
            ]
          },
          "metadata": {}
        }
      ]
    },
    {
      "cell_type": "markdown",
      "metadata": {
        "id": "GcOhiR8KAUU0"
      },
      "source": [
        "**Answer : [Radon-222 and Bismuth-214]**"
      ]
    },
    {
      "cell_type": "markdown",
      "metadata": {
        "id": "GWNnnSgQAdLa"
      },
      "source": [
        "## How will the Radon-222 and Bismuth-214 grow in coming years? "
      ]
    },
    {
      "cell_type": "code",
      "metadata": {
        "colab": {
          "base_uri": "https://localhost:8080/"
        },
        "id": "6LXVTUbaArUu",
        "outputId": "49ae0d90-d5f0-4037-b341-b6455aeeb4f0"
      },
      "source": [
        "dataset[\"Characteristic_Name\"] = dataset[\"Characteristic_Name\"].str.strip()\n",
        "radondf = dataset[dataset[\"Characteristic_Name\"] =='Radon-222'][['Activity_Start_Date','Characteristic_Name','Result_Measure_Value']]\n",
        "bismuthdf = dataset[dataset[\"Characteristic_Name\"]=='Bismuth-214'][['Activity_Start_Date','Characteristic_Name','Result_Measure_Value']]\n",
        "leaddf = dataset[dataset[\"Characteristic_Name\"]=='Lead-214'][['Activity_Start_Date','Characteristic_Name','Result_Measure_Value']]\n",
        "print(radondf.shape)\n",
        "print(bismuthdf.shape)\n",
        "print(leaddf.shape)"
      ],
      "execution_count": null,
      "outputs": [
        {
          "output_type": "stream",
          "name": "stdout",
          "text": [
            "(13271, 3)\n",
            "(469, 3)\n",
            "(379, 3)\n"
          ]
        }
      ]
    },
    {
      "cell_type": "code",
      "metadata": {
        "colab": {
          "base_uri": "https://localhost:8080/",
          "height": 337
        },
        "id": "W9_5SHR7NFO8",
        "outputId": "4c1e31c5-f875-4582-f03c-42fbc42d2822"
      },
      "source": [
        "radondf['Activity_Start_Date'] = pd.to_datetime(radondf['Activity_Start_Date'], errors='coerce')\n",
        "radondf['Result_Measure_Value'] = pd.to_numeric(radondf['Result_Measure_Value'])\n",
        "radondf = radondf.set_index('Activity_Start_Date')\n",
        "ax = radondf.plot()\n",
        "ax.set(title='Value of Radon-222 Result_Measure_Value', ylabel='Result_Measure_Value', xlabel='Activity_Start_Date')"
      ],
      "execution_count": null,
      "outputs": [
        {
          "output_type": "execute_result",
          "data": {
            "text/plain": [
              "[Text(0, 0.5, 'Result_Measure_Value'),\n",
              " Text(0.5, 0, 'Activity_Start_Date'),\n",
              " Text(0.5, 1.0, 'Value of Radon-222 Result_Measure_Value')]"
            ]
          },
          "metadata": {},
          "execution_count": 48
        },
        {
          "output_type": "display_data",
          "data": {
            "image/png": "[encoded data removed]",
            "text/plain": [
              "<Figure size 432x288 with 1 Axes>"
            ]
          },
          "metadata": {
            "needs_background": "light"
          }
        }
      ]
    },
    {
      "cell_type": "code",
      "metadata": {
        "colab": {
          "base_uri": "https://localhost:8080/",
          "height": 337
        },
        "id": "79OWDaJQbKJ5",
        "outputId": "88745b21-5e1b-4a81-f5e5-c53fc4943562"
      },
      "source": [
        "bismuthdf['Activity_Start_Date'] = pd.to_datetime(bismuthdf['Activity_Start_Date'], errors='coerce')\n",
        "bismuthdf['Result_Measure_Value'] = pd.to_numeric(bismuthdf['Result_Measure_Value'])\n",
        "bismuthdf = bismuthdf.set_index('Activity_Start_Date')\n",
        "ax = bismuthdf.plot()\n",
        "ax.set(title='Value of Bismuth Result_Measure_Value', ylabel='Result_Measure_Value', xlabel='Activity_Start_Date')"
      ],
      "execution_count": null,
      "outputs": [
        {
          "output_type": "execute_result",
          "data": {
            "text/plain": [
              "[Text(0, 0.5, 'Result_Measure_Value'),\n",
              " Text(0.5, 0, 'Activity_Start_Date'),\n",
              " Text(0.5, 1.0, 'Value of Bismuth Result_Measure_Value')]"
            ]
          },
          "metadata": {},
          "execution_count": 49
        },
        {
          "output_type": "display_data",
          "data": {
            "image/png": "[encoded data removed]",
            "text/plain": [
              "<Figure size 432x288 with 1 Axes>"
            ]
          },
          "metadata": {
            "needs_background": "light"
          }
        }
      ]
    },
    {
      "cell_type": "code",
      "metadata": {
        "colab": {
          "base_uri": "https://localhost:8080/",
          "height": 297
        },
        "id": "pbxYeRPmNso4",
        "outputId": "9ce6bdaa-7a07-4471-cf42-80f5f172dac3"
      },
      "source": [
        "yearly_summary_radon = radondf['Result_Measure_Value'].resample('y').agg(['sum'])\n",
        "yearly_summary_radon.plot()"
      ],
      "execution_count": null,
      "outputs": [
        {
          "output_type": "execute_result",
          "data": {
            "text/plain": [
              "<matplotlib.axes._subplots.AxesSubplot at 0x7f5b611ef5d0>"
            ]
          },
          "metadata": {},
          "execution_count": 50
        },
        {
          "output_type": "display_data",
          "data": {
            "image/png": "[encoded data removed]",
            "text/plain": [
              "<Figure size 432x288 with 1 Axes>"
            ]
          },
          "metadata": {
            "needs_background": "light"
          }
        }
      ]
    },
    {
      "cell_type": "code",
      "metadata": {
        "colab": {
          "base_uri": "https://localhost:8080/",
          "height": 297
        },
        "id": "2Psw_b6PQ_LT",
        "outputId": "aa3e440b-5b51-4a80-acc7-399a450c9053"
      },
      "source": [
        "yearly_summary_bismuth = bismuthdf['Result_Measure_Value'].resample('y').agg(['sum'])\n",
        "yearly_summary_bismuth.plot()"
      ],
      "execution_count": null,
      "outputs": [
        {
          "output_type": "execute_result",
          "data": {
            "text/plain": [
              "<matplotlib.axes._subplots.AxesSubplot at 0x7f5b5e25fb90>"
            ]
          },
          "metadata": {},
          "execution_count": 51
        },
        {
          "output_type": "display_data",
          "data": {
            "image/png": "[encoded data removed]",
            "text/plain": [
              "<Figure size 432x288 with 1 Axes>"
            ]
          },
          "metadata": {
            "needs_background": "light"
          }
        }
      ]
    },
    {
      "cell_type": "markdown",
      "metadata": {
        "id": "hHflun2eK4tE"
      },
      "source": [
        "### Check Stationarity"
      ]
    },
    {
      "cell_type": "code",
      "metadata": {
        "colab": {
          "base_uri": "https://localhost:8080/",
          "height": 809
        },
        "id": "iGaKDAAwZxx3",
        "outputId": "dbb9ee8f-54bf-4081-e01c-8e158c8ed39d"
      },
      "source": [
        "# Original Series\n",
        "fig, axes = plt.subplots(3, 3, figsize=(8,8))\n",
        "axes[0, 0].plot(yearly_summary_radon); axes[0, 0].set_title('Original Series')\n",
        "plot_acf(yearly_summary_radon,  lags=10, zero=False, ax=axes[0, 1])\n",
        "plot_pacf(yearly_summary_radon,  lags=10, zero=False, ax=axes[0, 2])\n",
        "\n",
        "# 1st Differencing\n",
        "axes[1, 0].plot(yearly_summary_radon.diff()); axes[1, 0].set_title('1st Order Differencing')\n",
        "plot_acf(yearly_summary_radon.diff(),  lags=10, zero=False, ax=axes[1, 1])\n",
        "plot_pacf(yearly_summary_radon.diff(),  lags=10, zero=False, ax=axes[1, 2])\n",
        "\n",
        "# 2nd Differencing\n",
        "axes[2, 0].plot(yearly_summary_radon.diff().diff()); axes[2, 0].set_title('2nd Order Differencing')\n",
        "plot_acf(yearly_summary_radon.diff().diff(),  lags=10, zero=False, ax=axes[2, 1])\n",
        "plot_pacf(yearly_summary_radon.diff().diff(),  lags=10, zero=False, ax=axes[2, 2])\n",
        "\n",
        "fig.tight_layout()\n",
        "plt.show()"
      ],
      "execution_count": null,
      "outputs": [
        {
          "output_type": "stream",
          "name": "stderr",
          "text": [
            "/usr/local/lib/python3.7/dist-packages/statsmodels/graphics/tsaplots.py:353: FutureWarning:\n",
            "\n",
            "The default method 'yw' can produce PACF values outside of the [-1,1] interval. After 0.13, the default will change tounadjusted Yule-Walker ('ywm'). You can use this method now by setting method='ywm'.\n",
            "\n",
            "/usr/local/lib/python3.7/dist-packages/statsmodels/graphics/tsaplots.py:353: FutureWarning:\n",
            "\n",
            "The default method 'yw' can produce PACF values outside of the [-1,1] interval. After 0.13, the default will change tounadjusted Yule-Walker ('ywm'). You can use this method now by setting method='ywm'.\n",
            "\n",
            "/usr/local/lib/python3.7/dist-packages/statsmodels/graphics/tsaplots.py:353: FutureWarning:\n",
            "\n",
            "The default method 'yw' can produce PACF values outside of the [-1,1] interval. After 0.13, the default will change tounadjusted Yule-Walker ('ywm'). You can use this method now by setting method='ywm'.\n",
            "\n"
          ]
        },
        {
          "output_type": "display_data",
          "data": {
            "image/png": "[encoded data removed]",
            "text/plain": [
              "<Figure size 576x576 with 9 Axes>"
            ]
          },
          "metadata": {
            "needs_background": "light"
          }
        }
      ]
    },
    {
      "cell_type": "code",
      "metadata": {
        "colab": {
          "base_uri": "https://localhost:8080/",
          "height": 809
        },
        "id": "aJk1NFPXbZwg",
        "outputId": "f2fb50f8-ff44-43ab-f597-1fe73f42cd14"
      },
      "source": [
        "# Original Series\n",
        "fig, axes = plt.subplots(3, 3, figsize=(8,8))\n",
        "axes[0, 0].plot(yearly_summary_bismuth); axes[0, 0].set_title('Original Series')\n",
        "plot_acf(yearly_summary_bismuth,  lags=10, zero=False, ax=axes[0, 1])\n",
        "plot_pacf(yearly_summary_bismuth,  lags=10, zero=False, ax=axes[0, 2])\n",
        "\n",
        "# 1st Differencing\n",
        "axes[1, 0].plot(yearly_summary_bismuth.diff()); axes[1, 0].set_title('1st Order Differencing')\n",
        "plot_acf(yearly_summary_bismuth.diff(),  lags=10, ax=axes[1, 1])\n",
        "plot_pacf(yearly_summary_bismuth.diff(),  lags=10, ax=axes[1, 2])\n",
        "\n",
        "# 2nd Differencing\n",
        "axes[2, 0].plot(yearly_summary_bismuth.diff().diff()); axes[2, 0].set_title('2nd Order Differencing')\n",
        "plot_acf(yearly_summary_bismuth.diff().diff(),  lags=10, ax=axes[2, 1])\n",
        "plot_pacf(yearly_summary_bismuth.diff().diff(),  lags=10, ax=axes[2, 2])\n",
        "\n",
        "fig.tight_layout()\n",
        "plt.show()"
      ],
      "execution_count": null,
      "outputs": [
        {
          "output_type": "stream",
          "name": "stderr",
          "text": [
            "/usr/local/lib/python3.7/dist-packages/statsmodels/graphics/tsaplots.py:353: FutureWarning:\n",
            "\n",
            "The default method 'yw' can produce PACF values outside of the [-1,1] interval. After 0.13, the default will change tounadjusted Yule-Walker ('ywm'). You can use this method now by setting method='ywm'.\n",
            "\n",
            "/usr/local/lib/python3.7/dist-packages/statsmodels/graphics/tsaplots.py:353: FutureWarning:\n",
            "\n",
            "The default method 'yw' can produce PACF values outside of the [-1,1] interval. After 0.13, the default will change tounadjusted Yule-Walker ('ywm'). You can use this method now by setting method='ywm'.\n",
            "\n",
            "/usr/local/lib/python3.7/dist-packages/statsmodels/graphics/tsaplots.py:353: FutureWarning:\n",
            "\n",
            "The default method 'yw' can produce PACF values outside of the [-1,1] interval. After 0.13, the default will change tounadjusted Yule-Walker ('ywm'). You can use this method now by setting method='ywm'.\n",
            "\n"
          ]
        },
        {
          "output_type": "display_data",
          "data": {
            "image/png": "[encoded data removed]",
            "text/plain": [
              "<Figure size 576x576 with 9 Axes>"
            ]
          },
          "metadata": {
            "needs_background": "light"
          }
        }
      ]
    },
    {
      "cell_type": "code",
      "metadata": {
        "colab": {
          "base_uri": "https://localhost:8080/",
          "height": 587
        },
        "id": "m39rQrJpK3gI",
        "outputId": "a23645f8-098c-4b4d-caf7-cc329360246f"
      },
      "source": [
        "# ACF and PACF for Radon Values\n",
        "fig, (ax1, ax2) = plt.subplots(2, 1, figsize=(8,8))\n",
        "plot_acf(yearly_summary_radon, lags=10, zero=False, ax=ax1)\n",
        "plot_pacf(yearly_summary_radon, lags=10, zero=False, ax=ax2)\n",
        "plt.show()"
      ],
      "execution_count": null,
      "outputs": [
        {
          "output_type": "stream",
          "name": "stderr",
          "text": [
            "/usr/local/lib/python3.7/dist-packages/statsmodels/graphics/tsaplots.py:353: FutureWarning:\n",
            "\n",
            "The default method 'yw' can produce PACF values outside of the [-1,1] interval. After 0.13, the default will change tounadjusted Yule-Walker ('ywm'). You can use this method now by setting method='ywm'.\n",
            "\n"
          ]
        },
        {
          "output_type": "display_data",
          "data": {
            "image/png": "[encoded data removed]",
            "text/plain": [
              "<Figure size 576x576 with 2 Axes>"
            ]
          },
          "metadata": {
            "needs_background": "light"
          }
        }
      ]
    },
    {
      "cell_type": "code",
      "metadata": {
        "colab": {
          "base_uri": "https://localhost:8080/",
          "height": 587
        },
        "id": "UCNvI8CrL11j",
        "outputId": "e1945fd6-91c2-4a30-d6a8-763478f62797"
      },
      "source": [
        "# ACF and PACF for Bismuth Values\n",
        "fig, (ax1, ax2) = plt.subplots(2, 1, figsize=(8,8))\n",
        "plot_acf(yearly_summary_bismuth, lags=10, zero=False, ax=ax1)\n",
        "plot_pacf(yearly_summary_bismuth, lags=10, zero=False, ax=ax2)\n",
        "plt.show()"
      ],
      "execution_count": null,
      "outputs": [
        {
          "output_type": "stream",
          "name": "stderr",
          "text": [
            "/usr/local/lib/python3.7/dist-packages/statsmodels/graphics/tsaplots.py:353: FutureWarning:\n",
            "\n",
            "The default method 'yw' can produce PACF values outside of the [-1,1] interval. After 0.13, the default will change tounadjusted Yule-Walker ('ywm'). You can use this method now by setting method='ywm'.\n",
            "\n"
          ]
        },
        {
          "output_type": "display_data",
          "data": {
            "image/png": "[encoded data removed]",
            "text/plain": [
              "<Figure size 576x576 with 2 Axes>"
            ]
          },
          "metadata": {
            "needs_background": "light"
          }
        }
      ]
    },
    {
      "cell_type": "markdown",
      "metadata": {
        "id": "d60TpkWNt0xz"
      },
      "source": [
        "### Test the Stationarity"
      ]
    },
    {
      "cell_type": "code",
      "metadata": {
        "colab": {
          "base_uri": "https://localhost:8080/"
        },
        "id": "l3ZSyEYVSsip",
        "outputId": "b5c8f8c2-f5bb-433d-f2c7-355463739633"
      },
      "source": [
        "# ADF Test\n",
        "result = adfuller(yearly_summary_radon, autolag='AIC')\n",
        "print(f'ADF Statistic: {result[0]}')\n",
        "print(f'n_lags: {result[1]}')\n",
        "print(f'p-value: {result[1]}')\n",
        "for key, value in result[4].items():\n",
        "    print('Critial Values:')\n",
        "    print(f'   {key}, {value}')  "
      ],
      "execution_count": null,
      "outputs": [
        {
          "output_type": "stream",
          "name": "stdout",
          "text": [
            "ADF Statistic: -2.0854743833586933\n",
            "n_lags: 0.25039539523373744\n",
            "p-value: 0.25039539523373744\n",
            "Critial Values:\n",
            "   1%, -3.6461350877925254\n",
            "Critial Values:\n",
            "   5%, -2.954126991123355\n",
            "Critial Values:\n",
            "   10%, -2.6159676124885216\n"
          ]
        }
      ]
    },
    {
      "cell_type": "code",
      "metadata": {
        "colab": {
          "base_uri": "https://localhost:8080/"
        },
        "id": "KAlpH8LFT6b0",
        "outputId": "b42fb937-8234-453c-b244-17458bdba558"
      },
      "source": [
        "# ADF Test\n",
        "result = adfuller(yearly_summary_bismuth, autolag='AIC')\n",
        "print(f'ADF Statistic: {result[0]}')\n",
        "print(f'n_lags: {result[1]}')\n",
        "print(f'p-value: {result[1]}')\n",
        "for key, value in result[4].items():\n",
        "    print('Critial Values:')\n",
        "    print(f'   {key}, {value}')  "
      ],
      "execution_count": null,
      "outputs": [
        {
          "output_type": "stream",
          "name": "stdout",
          "text": [
            "ADF Statistic: -2.6346987858049764\n",
            "n_lags: 0.08603567172036286\n",
            "p-value: 0.08603567172036286\n",
            "Critial Values:\n",
            "   1%, -3.6209175221605827\n",
            "Critial Values:\n",
            "   5%, -2.9435394610388332\n",
            "Critial Values:\n",
            "   10%, -2.6104002410518627\n"
          ]
        }
      ]
    },
    {
      "cell_type": "markdown",
      "metadata": {
        "id": "erMwf7SrmO75"
      },
      "source": [
        "### Apply Auto Arima and Forcast"
      ]
    },
    {
      "cell_type": "code",
      "metadata": {
        "id": "rQ-Br5UAvZ8h"
      },
      "source": [
        "arima_modal = auto_arima(yearly_summary_radon, \n",
        "                         start_p=1, d=0, start_q=1, \n",
        "                         max_p=5, max_d=2, max_q=5, \n",
        "                         start_P=1, D=0, start_Q=1, \n",
        "                         max_P=3, max_D=2, max_Q=3, \n",
        "                         max_order=10, m=0, \n",
        "                         seasonal=False, stationary=True,\n",
        "                         test='adf', \n",
        "                         error_action='warn', trace=False, random=False, \n",
        "                         random_state=20, n_fits=10, return_valid_fits=False, stepwise=True)"
      ],
      "execution_count": null,
      "outputs": []
    },
    {
      "cell_type": "code",
      "metadata": {
        "colab": {
          "base_uri": "https://localhost:8080/",
          "height": 461
        },
        "id": "FhLaqhHSwRNI",
        "outputId": "6e4c3829-6972-4811-b2d5-07d7a83a68e7"
      },
      "source": [
        "arima_modal.summary()"
      ],
      "execution_count": null,
      "outputs": [
        {
          "output_type": "execute_result",
          "data": {
            "text/html": [
              "<table class=\"simpletable\">\n",
              "<caption>SARIMAX Results</caption>\n",
              "<tr>\n",
              "  <th>Dep. Variable:</th>           <td>y</td>        <th>  No. Observations:  </th>    <td>40</td>   \n",
              "</tr>\n",
              "<tr>\n",
              "  <th>Model:</th>           <td>SARIMAX(2, 0, 1)</td> <th>  Log Likelihood     </th> <td>-395.715</td>\n",
              "</tr>\n",
              "<tr>\n",
              "  <th>Date:</th>            <td>Sat, 16 Oct 2021</td> <th>  AIC                </th>  <td>799.431</td>\n",
              "</tr>\n",
              "<tr>\n",
              "  <th>Time:</th>                <td>05:52:09</td>     <th>  BIC                </th>  <td>806.186</td>\n",
              "</tr>\n",
              "<tr>\n",
              "  <th>Sample:</th>                  <td>0</td>        <th>  HQIC               </th>  <td>801.873</td>\n",
              "</tr>\n",
              "<tr>\n",
              "  <th></th>                       <td> - 40</td>      <th>                     </th>     <td> </td>   \n",
              "</tr>\n",
              "<tr>\n",
              "  <th>Covariance Type:</th>        <td>opg</td>       <th>                     </th>     <td> </td>   \n",
              "</tr>\n",
              "</table>\n",
              "<table class=\"simpletable\">\n",
              "<tr>\n",
              "     <td></td>       <th>coef</th>     <th>std err</th>      <th>z</th>      <th>P>|z|</th>  <th>[0.025</th>    <th>0.975]</th>  \n",
              "</tr>\n",
              "<tr>\n",
              "  <th>ar.L1</th>  <td>    0.0178</td> <td>    0.137</td> <td>    0.130</td> <td> 0.897</td> <td>   -0.250</td> <td>    0.286</td>\n",
              "</tr>\n",
              "<tr>\n",
              "  <th>ar.L2</th>  <td>    0.8466</td> <td>    0.101</td> <td>    8.383</td> <td> 0.000</td> <td>    0.649</td> <td>    1.045</td>\n",
              "</tr>\n",
              "<tr>\n",
              "  <th>ma.L1</th>  <td>    0.7277</td> <td>    0.193</td> <td>    3.775</td> <td> 0.000</td> <td>    0.350</td> <td>    1.105</td>\n",
              "</tr>\n",
              "<tr>\n",
              "  <th>sigma2</th> <td>  2.51e+07</td> <td> 4.72e-09</td> <td> 5.32e+15</td> <td> 0.000</td> <td> 2.51e+07</td> <td> 2.51e+07</td>\n",
              "</tr>\n",
              "</table>\n",
              "<table class=\"simpletable\">\n",
              "<tr>\n",
              "  <th>Ljung-Box (L1) (Q):</th>     <td>0.12</td> <th>  Jarque-Bera (JB):  </th> <td>3.34</td>\n",
              "</tr>\n",
              "<tr>\n",
              "  <th>Prob(Q):</th>                <td>0.73</td> <th>  Prob(JB):          </th> <td>0.19</td>\n",
              "</tr>\n",
              "<tr>\n",
              "  <th>Heteroskedasticity (H):</th> <td>0.13</td> <th>  Skew:              </th> <td>0.60</td>\n",
              "</tr>\n",
              "<tr>\n",
              "  <th>Prob(H) (two-sided):</th>    <td>0.00</td> <th>  Kurtosis:          </th> <td>3.77</td>\n",
              "</tr>\n",
              "</table><br/><br/>Warnings:<br/>[1] Covariance matrix calculated using the outer product of gradients (complex-step).<br/>[2] Covariance matrix is singular or near-singular, with condition number 7.22e+31. Standard errors may be unstable."
            ],
            "text/plain": [
              "<class 'statsmodels.iolib.summary.Summary'>\n",
              "\"\"\"\n",
              "                               SARIMAX Results                                \n",
              "==============================================================================\n",
              "Dep. Variable:                      y   No. Observations:                   40\n",
              "Model:               SARIMAX(2, 0, 1)   Log Likelihood                -395.715\n",
              "Date:                Sat, 16 Oct 2021   AIC                            799.431\n",
              "Time:                        05:52:09   BIC                            806.186\n",
              "Sample:                             0   HQIC                           801.873\n",
              "                                 - 40                                         \n",
              "Covariance Type:                  opg                                         \n",
              "==============================================================================\n",
              "                 coef    std err          z      P>|z|      [0.025      0.975]\n",
              "------------------------------------------------------------------------------\n",
              "ar.L1          0.0178      0.137      0.130      0.897      -0.250       0.286\n",
              "ar.L2          0.8466      0.101      8.383      0.000       0.649       1.045\n",
              "ma.L1          0.7277      0.193      3.775      0.000       0.350       1.105\n",
              "sigma2       2.51e+07   4.72e-09   5.32e+15      0.000    2.51e+07    2.51e+07\n",
              "===================================================================================\n",
              "Ljung-Box (L1) (Q):                   0.12   Jarque-Bera (JB):                 3.34\n",
              "Prob(Q):                              0.73   Prob(JB):                         0.19\n",
              "Heteroskedasticity (H):               0.13   Skew:                             0.60\n",
              "Prob(H) (two-sided):                  0.00   Kurtosis:                         3.77\n",
              "===================================================================================\n",
              "\n",
              "Warnings:\n",
              "[1] Covariance matrix calculated using the outer product of gradients (complex-step).\n",
              "[2] Covariance matrix is singular or near-singular, with condition number 7.22e+31. Standard errors may be unstable.\n",
              "\"\"\""
            ]
          },
          "metadata": {},
          "execution_count": 59
        }
      ]
    },
    {
      "cell_type": "code",
      "metadata": {
        "colab": {
          "base_uri": "https://localhost:8080/",
          "height": 350
        },
        "id": "YMffNRPGzIUY",
        "outputId": "4c381f98-2a1d-46bf-cbfc-f7afeea616e9"
      },
      "source": [
        "arima_modal.plot_diagnostics(figsize=(7,5))\n",
        "plt.show()"
      ],
      "execution_count": null,
      "outputs": [
        {
          "output_type": "display_data",
          "data": {
            "image/png": "[encoded data removed]",
            "text/plain": [
              "<Figure size 504x360 with 4 Axes>"
            ]
          },
          "metadata": {
            "needs_background": "light"
          }
        }
      ]
    },
    {
      "cell_type": "code",
      "metadata": {
        "colab": {
          "base_uri": "https://localhost:8080/",
          "height": 281
        },
        "id": "JbOCTvFhzfAB",
        "outputId": "4e48b6f4-d668-43e1-a72d-aae95b7e38e5"
      },
      "source": [
        "# Forecast\n",
        "n_periods = 4\n",
        "fc, confint = arima_modal.predict(n_periods=n_periods, return_conf_int=True)\n",
        "index_of_fc = np.arange(len(yearly_summary_radon.values), len(yearly_summary_radon.values)+n_periods)\n",
        "\n",
        "# make series for plotting purpose\n",
        "fc_series = pd.Series(fc, index=index_of_fc)\n",
        "lower_series = pd.Series(confint[:, 0], index=index_of_fc)\n",
        "upper_series = pd.Series(confint[:, 1], index=index_of_fc)\n",
        "\n",
        "# Plot\n",
        "plt.plot(yearly_summary_radon.values)\n",
        "plt.plot(fc_series, color='darkgreen')\n",
        "plt.fill_between(lower_series.index, \n",
        "                 lower_series, \n",
        "                 upper_series, \n",
        "                 color='k', alpha=.15)\n",
        "\n",
        "plt.title(\"Final Forecast of Radon Usage\")\n",
        "plt.show()"
      ],
      "execution_count": null,
      "outputs": [
        {
          "output_type": "display_data",
          "data": {
            "image/png": "[encoded data removed]",
            "text/plain": [
              "<Figure size 432x288 with 1 Axes>"
            ]
          },
          "metadata": {
            "needs_background": "light"
          }
        }
      ]
    },
    {
      "cell_type": "code",
      "metadata": {
        "colab": {
          "base_uri": "https://localhost:8080/",
          "height": 359
        },
        "id": "DTQIIFb9xD3C",
        "outputId": "2ef2250b-9616-418f-a17b-387b4e9b6504"
      },
      "source": [
        "prediction = pd.DataFrame(arima_modal.predict(n_period=20), columns = ['Predicted Value'])\n",
        "prediction"
      ],
      "execution_count": null,
      "outputs": [
        {
          "output_type": "execute_result",
          "data": {
            "text/html": [
              "<div>\n",
              "<style scoped>\n",
              "    .dataframe tbody tr th:only-of-type {\n",
              "        vertical-align: middle;\n",
              "    }\n",
              "\n",
              "    .dataframe tbody tr th {\n",
              "        vertical-align: top;\n",
              "    }\n",
              "\n",
              "    .dataframe thead th {\n",
              "        text-align: right;\n",
              "    }\n",
              "</style>\n",
              "<table border=\"1\" class=\"dataframe\">\n",
              "  <thead>\n",
              "    <tr style=\"text-align: right;\">\n",
              "      <th></th>\n",
              "      <th>Predicted Value</th>\n",
              "    </tr>\n",
              "  </thead>\n",
              "  <tbody>\n",
              "    <tr>\n",
              "      <th>0</th>\n",
              "      <td>152.619085</td>\n",
              "    </tr>\n",
              "    <tr>\n",
              "      <th>1</th>\n",
              "      <td>18.799132</td>\n",
              "    </tr>\n",
              "    <tr>\n",
              "      <th>2</th>\n",
              "      <td>129.544641</td>\n",
              "    </tr>\n",
              "    <tr>\n",
              "      <th>3</th>\n",
              "      <td>18.218843</td>\n",
              "    </tr>\n",
              "    <tr>\n",
              "      <th>4</th>\n",
              "      <td>109.999031</td>\n",
              "    </tr>\n",
              "    <tr>\n",
              "      <th>5</th>\n",
              "      <td>17.380066</td>\n",
              "    </tr>\n",
              "    <tr>\n",
              "      <th>6</th>\n",
              "      <td>93.436408</td>\n",
              "    </tr>\n",
              "    <tr>\n",
              "      <th>7</th>\n",
              "      <td>16.375481</td>\n",
              "    </tr>\n",
              "    <tr>\n",
              "      <th>8</th>\n",
              "      <td>79.396295</td>\n",
              "    </tr>\n",
              "    <tr>\n",
              "      <th>9</th>\n",
              "      <td>15.275366</td>\n",
              "    </tr>\n",
              "  </tbody>\n",
              "</table>\n",
              "</div>"
            ],
            "text/plain": [
              "   Predicted Value\n",
              "0       152.619085\n",
              "1        18.799132\n",
              "2       129.544641\n",
              "3        18.218843\n",
              "4       109.999031\n",
              "5        17.380066\n",
              "6        93.436408\n",
              "7        16.375481\n",
              "8        79.396295\n",
              "9        15.275366"
            ]
          },
          "metadata": {},
          "execution_count": 62
        }
      ]
    },
    {
      "cell_type": "code",
      "metadata": {
        "id": "Urmvbm900VMN"
      },
      "source": [
        "arima_modal = auto_arima(yearly_summary_bismuth, \n",
        "                         start_p=1, d=0, start_q=1, \n",
        "                         max_p=5, max_d=2, max_q=5, \n",
        "                         start_P=1, D=0, start_Q=1, \n",
        "                         max_P=3, max_D=2, max_Q=3, \n",
        "                         max_order=10, m=0, \n",
        "                         seasonal=False, stationary=True,\n",
        "                         test='adf', \n",
        "                         error_action='warn', trace=False, random=False, \n",
        "                         random_state=20, n_fits=10, return_valid_fits=False, stepwise=True)"
      ],
      "execution_count": null,
      "outputs": []
    },
    {
      "cell_type": "code",
      "metadata": {
        "colab": {
          "base_uri": "https://localhost:8080/",
          "height": 423
        },
        "id": "inNGW0L20VMX",
        "outputId": "8beedda3-4136-4db8-c9cc-2775fce68b59"
      },
      "source": [
        "arima_modal.summary()"
      ],
      "execution_count": null,
      "outputs": [
        {
          "output_type": "execute_result",
          "data": {
            "text/html": [
              "<table class=\"simpletable\">\n",
              "<caption>SARIMAX Results</caption>\n",
              "<tr>\n",
              "  <th>Dep. Variable:</th>           <td>y</td>        <th>  No. Observations:  </th>    <td>38</td>   \n",
              "</tr>\n",
              "<tr>\n",
              "  <th>Model:</th>           <td>SARIMAX(1, 0, 0)</td> <th>  Log Likelihood     </th> <td>-271.502</td>\n",
              "</tr>\n",
              "<tr>\n",
              "  <th>Date:</th>            <td>Sat, 16 Oct 2021</td> <th>  AIC                </th>  <td>549.003</td>\n",
              "</tr>\n",
              "<tr>\n",
              "  <th>Time:</th>                <td>05:52:45</td>     <th>  BIC                </th>  <td>553.916</td>\n",
              "</tr>\n",
              "<tr>\n",
              "  <th>Sample:</th>                  <td>0</td>        <th>  HQIC               </th>  <td>550.751</td>\n",
              "</tr>\n",
              "<tr>\n",
              "  <th></th>                       <td> - 38</td>      <th>                     </th>     <td> </td>   \n",
              "</tr>\n",
              "<tr>\n",
              "  <th>Covariance Type:</th>        <td>opg</td>       <th>                     </th>     <td> </td>   \n",
              "</tr>\n",
              "</table>\n",
              "<table class=\"simpletable\">\n",
              "<tr>\n",
              "      <td></td>         <th>coef</th>     <th>std err</th>      <th>z</th>      <th>P>|z|</th>  <th>[0.025</th>    <th>0.975]</th>  \n",
              "</tr>\n",
              "<tr>\n",
              "  <th>intercept</th> <td>   94.9583</td> <td>  109.300</td> <td>    0.869</td> <td> 0.385</td> <td> -119.266</td> <td>  309.183</td>\n",
              "</tr>\n",
              "<tr>\n",
              "  <th>ar.L1</th>     <td>    0.6500</td> <td>    0.112</td> <td>    5.818</td> <td> 0.000</td> <td>    0.431</td> <td>    0.869</td>\n",
              "</tr>\n",
              "<tr>\n",
              "  <th>sigma2</th>    <td>  9.27e+04</td> <td>  2.2e+04</td> <td>    4.215</td> <td> 0.000</td> <td> 4.96e+04</td> <td> 1.36e+05</td>\n",
              "</tr>\n",
              "</table>\n",
              "<table class=\"simpletable\">\n",
              "<tr>\n",
              "  <th>Ljung-Box (L1) (Q):</th>     <td>0.11</td> <th>  Jarque-Bera (JB):  </th> <td>27.36</td>\n",
              "</tr>\n",
              "<tr>\n",
              "  <th>Prob(Q):</th>                <td>0.74</td> <th>  Prob(JB):          </th> <td>0.00</td> \n",
              "</tr>\n",
              "<tr>\n",
              "  <th>Heteroskedasticity (H):</th> <td>0.73</td> <th>  Skew:              </th> <td>1.57</td> \n",
              "</tr>\n",
              "<tr>\n",
              "  <th>Prob(H) (two-sided):</th>    <td>0.58</td> <th>  Kurtosis:          </th> <td>5.73</td> \n",
              "</tr>\n",
              "</table><br/><br/>Warnings:<br/>[1] Covariance matrix calculated using the outer product of gradients (complex-step)."
            ],
            "text/plain": [
              "<class 'statsmodels.iolib.summary.Summary'>\n",
              "\"\"\"\n",
              "                               SARIMAX Results                                \n",
              "==============================================================================\n",
              "Dep. Variable:                      y   No. Observations:                   38\n",
              "Model:               SARIMAX(1, 0, 0)   Log Likelihood                -271.502\n",
              "Date:                Sat, 16 Oct 2021   AIC                            549.003\n",
              "Time:                        05:52:45   BIC                            553.916\n",
              "Sample:                             0   HQIC                           550.751\n",
              "                                 - 38                                         \n",
              "Covariance Type:                  opg                                         \n",
              "==============================================================================\n",
              "                 coef    std err          z      P>|z|      [0.025      0.975]\n",
              "------------------------------------------------------------------------------\n",
              "intercept     94.9583    109.300      0.869      0.385    -119.266     309.183\n",
              "ar.L1          0.6500      0.112      5.818      0.000       0.431       0.869\n",
              "sigma2       9.27e+04    2.2e+04      4.215      0.000    4.96e+04    1.36e+05\n",
              "===================================================================================\n",
              "Ljung-Box (L1) (Q):                   0.11   Jarque-Bera (JB):                27.36\n",
              "Prob(Q):                              0.74   Prob(JB):                         0.00\n",
              "Heteroskedasticity (H):               0.73   Skew:                             1.57\n",
              "Prob(H) (two-sided):                  0.58   Kurtosis:                         5.73\n",
              "===================================================================================\n",
              "\n",
              "Warnings:\n",
              "[1] Covariance matrix calculated using the outer product of gradients (complex-step).\n",
              "\"\"\""
            ]
          },
          "metadata": {},
          "execution_count": 64
        }
      ]
    },
    {
      "cell_type": "code",
      "metadata": {
        "colab": {
          "base_uri": "https://localhost:8080/",
          "height": 350
        },
        "id": "08yDBu-q0VMY",
        "outputId": "d48a256b-b3cc-477d-91cd-07f2c4b74a46"
      },
      "source": [
        "arima_modal.plot_diagnostics(figsize=(7,5))\n",
        "plt.show()"
      ],
      "execution_count": null,
      "outputs": [
        {
          "output_type": "display_data",
          "data": {
            "image/png": "[encoded data removed]",
            "text/plain": [
              "<Figure size 504x360 with 4 Axes>"
            ]
          },
          "metadata": {
            "needs_background": "light"
          }
        }
      ]
    },
    {
      "cell_type": "code",
      "metadata": {
        "colab": {
          "base_uri": "https://localhost:8080/",
          "height": 281
        },
        "id": "e3G211cv0VMZ",
        "outputId": "4b11ab96-7c0e-479d-f23f-fd83f2a2fb8c"
      },
      "source": [
        "# Forecast\n",
        "n_periods = 4\n",
        "fc, confint = arima_modal.predict(n_periods=n_periods, return_conf_int=True)\n",
        "index_of_fc = np.arange(len(yearly_summary_bismuth.values), len(yearly_summary_bismuth.values)+n_periods)\n",
        "\n",
        "# make series for plotting purpose\n",
        "fc_series = pd.Series(fc, index=index_of_fc)\n",
        "lower_series = pd.Series(confint[:, 0], index=index_of_fc)\n",
        "upper_series = pd.Series(confint[:, 1], index=index_of_fc)\n",
        "\n",
        "# Plot\n",
        "plt.plot(yearly_summary_bismuth.values)\n",
        "plt.plot(fc_series, color='darkgreen')\n",
        "plt.fill_between(lower_series.index, \n",
        "                 lower_series, \n",
        "                 upper_series, \n",
        "                 color='k', alpha=.15)\n",
        "\n",
        "plt.title(\"Final Forecast of Bismuth Usage\")\n",
        "plt.show()"
      ],
      "execution_count": null,
      "outputs": [
        {
          "output_type": "display_data",
          "data": {
            "image/png": "[encoded data removed]",
            "text/plain": [
              "<Figure size 432x288 with 1 Axes>"
            ]
          },
          "metadata": {
            "needs_background": "light"
          }
        }
      ]
    },
    {
      "cell_type": "code",
      "metadata": {
        "colab": {
          "base_uri": "https://localhost:8080/",
          "height": 359
        },
        "id": "boEJTaCX1DOZ",
        "outputId": "4ed4bafc-b002-4ec8-8fbe-2adb38de8120"
      },
      "source": [
        "prediction = pd.DataFrame(arima_modal.predict(n_period=20), columns = ['Predicted Value'])\n",
        "prediction"
      ],
      "execution_count": null,
      "outputs": [
        {
          "output_type": "execute_result",
          "data": {
            "text/html": [
              "<div>\n",
              "<style scoped>\n",
              "    .dataframe tbody tr th:only-of-type {\n",
              "        vertical-align: middle;\n",
              "    }\n",
              "\n",
              "    .dataframe tbody tr th {\n",
              "        vertical-align: top;\n",
              "    }\n",
              "\n",
              "    .dataframe thead th {\n",
              "        text-align: right;\n",
              "    }\n",
              "</style>\n",
              "<table border=\"1\" class=\"dataframe\">\n",
              "  <thead>\n",
              "    <tr style=\"text-align: right;\">\n",
              "      <th></th>\n",
              "      <th>Predicted Value</th>\n",
              "    </tr>\n",
              "  </thead>\n",
              "  <tbody>\n",
              "    <tr>\n",
              "      <th>0</th>\n",
              "      <td>123.429146</td>\n",
              "    </tr>\n",
              "    <tr>\n",
              "      <th>1</th>\n",
              "      <td>175.189553</td>\n",
              "    </tr>\n",
              "    <tr>\n",
              "      <th>2</th>\n",
              "      <td>208.834768</td>\n",
              "    </tr>\n",
              "    <tr>\n",
              "      <th>3</th>\n",
              "      <td>230.704776</td>\n",
              "    </tr>\n",
              "    <tr>\n",
              "      <th>4</th>\n",
              "      <td>244.920682</td>\n",
              "    </tr>\n",
              "    <tr>\n",
              "      <th>5</th>\n",
              "      <td>254.161282</td>\n",
              "    </tr>\n",
              "    <tr>\n",
              "      <th>6</th>\n",
              "      <td>260.167842</td>\n",
              "    </tr>\n",
              "    <tr>\n",
              "      <th>7</th>\n",
              "      <td>264.072216</td>\n",
              "    </tr>\n",
              "    <tr>\n",
              "      <th>8</th>\n",
              "      <td>266.610131</td>\n",
              "    </tr>\n",
              "    <tr>\n",
              "      <th>9</th>\n",
              "      <td>268.259822</td>\n",
              "    </tr>\n",
              "  </tbody>\n",
              "</table>\n",
              "</div>"
            ],
            "text/plain": [
              "   Predicted Value\n",
              "0       123.429146\n",
              "1       175.189553\n",
              "2       208.834768\n",
              "3       230.704776\n",
              "4       244.920682\n",
              "5       254.161282\n",
              "6       260.167842\n",
              "7       264.072216\n",
              "8       266.610131\n",
              "9       268.259822"
            ]
          },
          "metadata": {},
          "execution_count": 68
        }
      ]
    },
    {
      "cell_type": "markdown",
      "metadata": {
        "id": "3Fj_Yzo0mY2x"
      },
      "source": [
        "# Conclusion"
      ]
    },
    {
      "cell_type": "markdown",
      "metadata": {
        "id": "6h1BtKebmfUb"
      },
      "source": [
        "As per the Analysis, the Radon is significantly higher than the required in the water even the forecast says it will increase in the water. Research says Radon can be inhaled from the air or ingested from water. Inhalation of radon increases the chances of lung cancer and this risk is much larger than the risk of stomach cancer from swallowing water with a high radon concentration[3]. \n",
        "\n",
        "When bismuth mix with water, it makes the water toxic. According to studies Bismuth + Water\n",
        "Bismuth reacts with vaporized water and forms trioxide bismuth(III) oxide (Bi2O3). It is important to note that for this reaction to take place, bismuth must be “red hot”, meaning that solid bismuth is so hot that it turns red. Cold, air-free water does not react with bismuth[1].\n",
        "The permissible limit of Bismuth in water should be  0.3 µg/L but according to analysis, the forecasting quantity of bismuth in water will be significantly higher. The government should take some important actions[2].\n",
        "\n",
        "\n",
        "**Action needs to be taken:**  To protect the environment from these two chemicals we need to use the Aeration that reduce the mix of harmful chemicals. The best method for removing radon & bismuth from the water is an aeration system. An aeration system is typically installed next to the well tank where your water supply first enters the house. The aeration system is installed after other water conditioners such as a water softener or neutralizer [4].\n",
        "\n"
      ]
    },
    {
      "cell_type": "markdown",
      "metadata": {
        "id": "uoF0xtcFr7Ly"
      },
      "source": [
        "# References \n",
        "1.   https://chemistrytalk.org/serious-bismuth/\n",
        "2.   https://www.waterquality.gov.au/anz-guidelines/guideline-values/default/water-quality-toxicants/toxicants/bismuth-2000#:~:text=The%20current%20analytical%20practical%20quantitation,water%20(NSW%20EPA%202000).\n",
        "3.   https://extension.psu.edu/reducing-radon-in-drinking-water\n",
        "4.   https://wpb-radon.com/radon_in_water_information.html\n",
        "\n"
      ]
    },
    {
      "cell_type": "markdown",
      "metadata": {
        "id": "Vi_0VxAWwUdj"
      },
      "source": [
        "# Disclaimer  \n",
        "This analytical research is the result of the analysis carried out by students/research scholars. However, the paper results are approximate and may not be fully accurate. Do not take any decision based on these results. All recommendations are made without guarantee on the part of the author or publisher. The author and publisher disclaim any liability in connection with the use of this information."
      ]
    }
  ]
}